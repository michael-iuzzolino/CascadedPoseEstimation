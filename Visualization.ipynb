{
 "cells": [
  {
   "cell_type": "code",
   "execution_count": 2,
   "id": "spectacular-zimbabwe",
   "metadata": {},
   "outputs": [],
   "source": [
    "import torch\n",
    "import numpy as np\n",
    "import matplotlib.pyplot as plt\n",
    "import os\n",
    "import sys\n",
    "import cv2\n",
    "import glob\n",
    "from collections import defaultdict\n",
    "import pandas as pd\n",
    "from torchvision.utils import make_grid"
   ]
  },
  {
   "cell_type": "code",
   "execution_count": 3,
   "id": "infinite-arrest",
   "metadata": {},
   "outputs": [],
   "source": [
    "figs_root = os.path.join(\"figs\", \"output_vis\")\n",
    "if not os.path.exists(figs_root):\n",
    "  os.makedirs(figs_root)"
   ]
  },
  {
   "cell_type": "code",
   "execution_count": 6,
   "id": "directed-bruce",
   "metadata": {},
   "outputs": [
    {
     "name": "stdout",
     "output_type": "stream",
     "text": [
      "mpii_backup  mpii_backup_v2  results\n"
     ]
    }
   ],
   "source": [
    "!ls /hdd3/mliuzzolino/TDPoseEstimation"
   ]
  },
  {
   "cell_type": "code",
   "execution_count": 29,
   "id": "critical-elevation",
   "metadata": {},
   "outputs": [],
   "source": [
    "base_dir = \"mpii_backup\"  # resulst/mpii, mpii_backup_v2"
   ]
  },
  {
   "cell_type": "code",
   "execution_count": 30,
   "id": "beginning-london",
   "metadata": {},
   "outputs": [
    {
     "data": {
      "text/plain": [
       "['/hdd3/mliuzzolino/TDPoseEstimation/mpii_backup/hourglass_x4__TD_0.9__double',\n",
       " '/hdd3/mliuzzolino/TDPoseEstimation/mpii_backup/hourglass_x8__TD_0.9__distill__TD_0.0',\n",
       " '/hdd3/mliuzzolino/TDPoseEstimation/mpii_backup/hourglass_x8__TD_1.0__distill__TD_1.0',\n",
       " '/hdd3/mliuzzolino/TDPoseEstimation/mpii_backup/hourglass_x8__TD_0.9',\n",
       " '/hdd3/mliuzzolino/TDPoseEstimation/mpii_backup/hourglass_x8__TD_0.25__distill__TD_1.0',\n",
       " '/hdd3/mliuzzolino/TDPoseEstimation/mpii_backup/hourglass_x8__TD_0.9__untied_weights__no_skip',\n",
       " '/hdd3/mliuzzolino/TDPoseEstimation/mpii_backup/hourglass_x8__TD_1.0',\n",
       " '/hdd3/mliuzzolino/TDPoseEstimation/mpii_backup/hourglass_x4__TD_0.25__double',\n",
       " '/hdd3/mliuzzolino/TDPoseEstimation/mpii_backup/hourglass_x8__TD_0.0__untied_weights__no_skip',\n",
       " '/hdd3/mliuzzolino/TDPoseEstimation/mpii_backup/hourglass_x8__TD_0.5__untied_weights__no_skip',\n",
       " '/hdd3/mliuzzolino/TDPoseEstimation/mpii_backup/hourglass_x8__TD_0.25__distill__TD_0.5',\n",
       " '/hdd3/mliuzzolino/TDPoseEstimation/mpii_backup/hourglass_x8__TD_0.9__distill__TD_0.5',\n",
       " '/hdd3/mliuzzolino/TDPoseEstimation/mpii_backup/hourglass_x8__TD_0.5__distill__TD_1.0',\n",
       " '/hdd3/mliuzzolino/TDPoseEstimation/mpii_backup/hourglass_x4__TD_1.0__double',\n",
       " '/hdd3/mliuzzolino/TDPoseEstimation/mpii_backup/hourglass_x8__TD_0.25__distill__TD_0.0',\n",
       " '/hdd3/mliuzzolino/TDPoseEstimation/mpii_backup/hourglass_x8__TD_0.5',\n",
       " '/hdd3/mliuzzolino/TDPoseEstimation/mpii_backup/hourglass_x4__TD_1.0__distill__TD_1.0',\n",
       " '/hdd3/mliuzzolino/TDPoseEstimation/mpii_backup/hourglass_x8__TD_0.5__distill__TD_0.5',\n",
       " '/hdd3/mliuzzolino/TDPoseEstimation/mpii_backup/hourglass_x8__TD_0.5__distill__TD_0.0',\n",
       " '/hdd3/mliuzzolino/TDPoseEstimation/mpii_backup/hourglass_x8__TD_1.0__distill__TD_0.0',\n",
       " '/hdd3/mliuzzolino/TDPoseEstimation/mpii_backup/hourglass_x8__TD_0.0__distill__TD_0.0',\n",
       " '/hdd3/mliuzzolino/TDPoseEstimation/mpii_backup/hourglass_x8__TD_0.0__distill__TD_0.5',\n",
       " '/hdd3/mliuzzolino/TDPoseEstimation/mpii_backup/mpii',\n",
       " '/hdd3/mliuzzolino/TDPoseEstimation/mpii_backup/hourglass_x8__TD_0.0__distill__TD_1.0',\n",
       " '/hdd3/mliuzzolino/TDPoseEstimation/mpii_backup/hourglass_x4__TD_0.5__double',\n",
       " '/hdd3/mliuzzolino/TDPoseEstimation/mpii_backup/hourglass_x4__TD_0.0__double',\n",
       " '/hdd3/mliuzzolino/TDPoseEstimation/mpii_backup/hourglass_x4__TD_0.5__distill__TD_1.0',\n",
       " '/hdd3/mliuzzolino/TDPoseEstimation/mpii_backup/hourglass_x8__TD_1.0__no_skip',\n",
       " '/hdd3/mliuzzolino/TDPoseEstimation/mpii_backup/hourglass_x8__TD_0.25',\n",
       " '/hdd3/mliuzzolino/TDPoseEstimation/mpii_backup/hourglass_x8__TD_0.25__untied_weights__no_skip',\n",
       " '/hdd3/mliuzzolino/TDPoseEstimation/mpii_backup/hourglass_x8__TD_1.0__distill__TD_0.5',\n",
       " '/hdd3/mliuzzolino/TDPoseEstimation/mpii_backup/hourglass_x8__TD_0.9__distill__TD_1.0',\n",
       " '/hdd3/mliuzzolino/TDPoseEstimation/mpii_backup/hourglass_x4__TD_0.0__distill__TD_1.0',\n",
       " '/hdd3/mliuzzolino/TDPoseEstimation/mpii_backup/hourglass_x8__TD_0.0',\n",
       " '/hdd3/mliuzzolino/TDPoseEstimation/mpii_backup/hourglass_x8__TD_1.0__untied_weights__no_skip']"
      ]
     },
     "execution_count": 30,
     "metadata": {},
     "output_type": "execute_result"
    }
   ],
   "source": [
    "root = f\"/hdd3/mliuzzolino/TDPoseEstimation/{base_dir}\"\n",
    "exp_paths = glob.glob(f\"{root}/*\")\n",
    "exp_paths"
   ]
  },
  {
   "cell_type": "code",
   "execution_count": 31,
   "id": "royal-church",
   "metadata": {},
   "outputs": [
    {
     "name": "stdout",
     "output_type": "stream",
     "text": [
      "Processing experiment 35/35..."
     ]
    }
   ],
   "source": [
    "df_dict = defaultdict(list)\n",
    "break_it = False\n",
    "for exp_i, exp_path in enumerate(exp_paths):\n",
    "  sys.stdout.write(f\"\\rProcessing experiment {exp_i+1}/{len(exp_paths)}...\")\n",
    "  sys.stdout.flush()\n",
    "  exp_name = os.path.basename(exp_path)\n",
    "  exp_data_paths = np.sort(glob.glob(f\"{exp_path}/*.pt\"))\n",
    "  for data_path in exp_data_paths:\n",
    "    batch_name = os.path.splitext(os.path.basename(data_path))[0]\n",
    "    loaded_data = torch.load(data_path)\n",
    "    x_data = loaded_data[\"x_data\"]\n",
    "    target = loaded_data[\"target\"]\n",
    "    out_combos = loaded_data[\"predictions\"]\n",
    "    if \"combo_joint_imgs\" not in loaded_data:\n",
    "      print(f\"{exp_name} does not contain combo_joint_imgs key\")\n",
    "      break\n",
    "    combo_joint_imgs = loaded_data[\"combo_joint_imgs\"]\n",
    "      \n",
    "    grid_im = make_grid(out_combos, padding=15, pad_value=0.9).permute(1,2,0)\n",
    "    \n",
    "    df_dict[\"exp_name\"].append(exp_name)\n",
    "    df_dict[\"batch_name\"].append(batch_name)\n",
    "    df_dict[\"x_data\"].append(x_data)\n",
    "    df_dict[\"target\"].append(target)\n",
    "    df_dict[\"predictions\"].append(grid_im)\n",
    "    df_dict[\"combo_joint_imgs\"].append(combo_joint_imgs)\n",
    "    df_dict[\"distillation\"].append(\"distill\" in exp_name)\n",
    "    df_dict[\"untied\"].append(\"untied\" in exp_name)\n",
    "df = pd.DataFrame(df_dict)"
   ]
  },
  {
   "cell_type": "code",
   "execution_count": 32,
   "id": "constant-advocacy",
   "metadata": {},
   "outputs": [],
   "source": [
    "def make_title(exp_name):\n",
    "  if \"untied\" in exp_name:\n",
    "    student_td = float(exp_name.split(\"__untied_weights__\")[0].split(\"TD_\")[1])\n",
    "    new_title = f\"TD({student_td}) [untied weights, no skip]\"\n",
    "  elif \"__distill__\" in exp_name:\n",
    "    new_title = exp_name.split(\"__\")[1]\n",
    "    student_td = float(new_title.split(\"__distill__\")[0].split(\"TD_\")[1])\n",
    "    teacher_td = float(exp_name.split(\"__distill__\")[1].split(\"TD_\")[1])\n",
    "    new_title = f\"Distillation: StudentTD({student_td}), TeacherTD({teacher_td})\"\n",
    "  else:\n",
    "    student_td = exp_name.split(\"__\")[1].split(\"TD_\")[1]\n",
    "    new_title = f\"TD({student_td})\"\n",
    "  return new_title"
   ]
  },
  {
   "cell_type": "code",
   "execution_count": 33,
   "id": "surface-business",
   "metadata": {},
   "outputs": [
    {
     "ename": "AttributeError",
     "evalue": "'DataFrame' object has no attribute 'batch_name'",
     "output_type": "error",
     "traceback": [
      "\u001b[0;31m---------------------------------------------------------------------------\u001b[0m",
      "\u001b[0;31mAttributeError\u001b[0m                            Traceback (most recent call last)",
      "\u001b[0;32m<ipython-input-33-280a069bc9dc>\u001b[0m in \u001b[0;36m<module>\u001b[0;34m\u001b[0m\n\u001b[0;32m----> 1\u001b[0;31m \u001b[0mbatch_names\u001b[0m \u001b[0;34m=\u001b[0m \u001b[0mdf\u001b[0m\u001b[0;34m.\u001b[0m\u001b[0mbatch_name\u001b[0m\u001b[0;34m.\u001b[0m\u001b[0munique\u001b[0m\u001b[0;34m(\u001b[0m\u001b[0;34m)\u001b[0m\u001b[0;34m\u001b[0m\u001b[0;34m\u001b[0m\u001b[0m\n\u001b[0m\u001b[1;32m      2\u001b[0m \u001b[0mrand_batch_name\u001b[0m \u001b[0;34m=\u001b[0m \u001b[0mnp\u001b[0m\u001b[0;34m.\u001b[0m\u001b[0mrandom\u001b[0m\u001b[0;34m.\u001b[0m\u001b[0mchoice\u001b[0m\u001b[0;34m(\u001b[0m\u001b[0mbatch_names\u001b[0m\u001b[0;34m)\u001b[0m\u001b[0;34m\u001b[0m\u001b[0;34m\u001b[0m\u001b[0m\n\u001b[1;32m      3\u001b[0m \u001b[0mbatch_df\u001b[0m \u001b[0;34m=\u001b[0m \u001b[0mdf\u001b[0m\u001b[0;34m[\u001b[0m\u001b[0mdf\u001b[0m\u001b[0;34m.\u001b[0m\u001b[0mbatch_name\u001b[0m\u001b[0;34m==\u001b[0m\u001b[0mrand_batch_name\u001b[0m\u001b[0;34m]\u001b[0m\u001b[0;34m\u001b[0m\u001b[0;34m\u001b[0m\u001b[0m\n\u001b[1;32m      4\u001b[0m \u001b[0mrand_batch_name\u001b[0m\u001b[0;34m\u001b[0m\u001b[0;34m\u001b[0m\u001b[0m\n",
      "\u001b[0;32m~/anaconda3/envs/ml/lib/python3.8/site-packages/pandas/core/generic.py\u001b[0m in \u001b[0;36m__getattr__\u001b[0;34m(self, name)\u001b[0m\n\u001b[1;32m   5463\u001b[0m             \u001b[0;32mif\u001b[0m \u001b[0mself\u001b[0m\u001b[0;34m.\u001b[0m\u001b[0m_info_axis\u001b[0m\u001b[0;34m.\u001b[0m\u001b[0m_can_hold_identifiers_and_holds_name\u001b[0m\u001b[0;34m(\u001b[0m\u001b[0mname\u001b[0m\u001b[0;34m)\u001b[0m\u001b[0;34m:\u001b[0m\u001b[0;34m\u001b[0m\u001b[0;34m\u001b[0m\u001b[0m\n\u001b[1;32m   5464\u001b[0m                 \u001b[0;32mreturn\u001b[0m \u001b[0mself\u001b[0m\u001b[0;34m[\u001b[0m\u001b[0mname\u001b[0m\u001b[0;34m]\u001b[0m\u001b[0;34m\u001b[0m\u001b[0;34m\u001b[0m\u001b[0m\n\u001b[0;32m-> 5465\u001b[0;31m             \u001b[0;32mreturn\u001b[0m \u001b[0mobject\u001b[0m\u001b[0;34m.\u001b[0m\u001b[0m__getattribute__\u001b[0m\u001b[0;34m(\u001b[0m\u001b[0mself\u001b[0m\u001b[0;34m,\u001b[0m \u001b[0mname\u001b[0m\u001b[0;34m)\u001b[0m\u001b[0;34m\u001b[0m\u001b[0;34m\u001b[0m\u001b[0m\n\u001b[0m\u001b[1;32m   5466\u001b[0m \u001b[0;34m\u001b[0m\u001b[0m\n\u001b[1;32m   5467\u001b[0m     \u001b[0;32mdef\u001b[0m \u001b[0m__setattr__\u001b[0m\u001b[0;34m(\u001b[0m\u001b[0mself\u001b[0m\u001b[0;34m,\u001b[0m \u001b[0mname\u001b[0m\u001b[0;34m:\u001b[0m \u001b[0mstr\u001b[0m\u001b[0;34m,\u001b[0m \u001b[0mvalue\u001b[0m\u001b[0;34m)\u001b[0m \u001b[0;34m->\u001b[0m \u001b[0;32mNone\u001b[0m\u001b[0;34m:\u001b[0m\u001b[0;34m\u001b[0m\u001b[0;34m\u001b[0m\u001b[0m\n",
      "\u001b[0;31mAttributeError\u001b[0m: 'DataFrame' object has no attribute 'batch_name'"
     ]
    }
   ],
   "source": [
    "batch_names = df.batch_name.unique()\n",
    "rand_batch_name = np.random.choice(batch_names)\n",
    "batch_df = df[df.batch_name==rand_batch_name]\n",
    "rand_batch_name"
   ]
  },
  {
   "cell_type": "code",
   "execution_count": 34,
   "id": "demonstrated-tuner",
   "metadata": {},
   "outputs": [
    {
     "ename": "NameError",
     "evalue": "name 'batch_df' is not defined",
     "output_type": "error",
     "traceback": [
      "\u001b[0;31m---------------------------------------------------------------------------\u001b[0m",
      "\u001b[0;31mNameError\u001b[0m                                 Traceback (most recent call last)",
      "\u001b[0;32m<ipython-input-34-805c760f06c5>\u001b[0m in \u001b[0;36m<module>\u001b[0;34m\u001b[0m\n\u001b[0;32m----> 1\u001b[0;31m \u001b[0mx_data_1\u001b[0m \u001b[0;34m=\u001b[0m \u001b[0mbatch_df\u001b[0m\u001b[0;34m.\u001b[0m\u001b[0miloc\u001b[0m\u001b[0;34m[\u001b[0m\u001b[0;36m0\u001b[0m\u001b[0;34m]\u001b[0m\u001b[0;34m.\u001b[0m\u001b[0mx_data\u001b[0m\u001b[0;34m\u001b[0m\u001b[0;34m\u001b[0m\u001b[0m\n\u001b[0m\u001b[1;32m      2\u001b[0m \u001b[0mx_data_2\u001b[0m \u001b[0;34m=\u001b[0m \u001b[0mbatch_df\u001b[0m\u001b[0;34m.\u001b[0m\u001b[0miloc\u001b[0m\u001b[0;34m[\u001b[0m\u001b[0;36m1\u001b[0m\u001b[0;34m]\u001b[0m\u001b[0;34m.\u001b[0m\u001b[0mx_data\u001b[0m\u001b[0;34m\u001b[0m\u001b[0;34m\u001b[0m\u001b[0m\n\u001b[1;32m      3\u001b[0m \u001b[0;32massert\u001b[0m \u001b[0;34m(\u001b[0m\u001b[0mx_data_1\u001b[0m \u001b[0;34m==\u001b[0m \u001b[0mx_data_2\u001b[0m\u001b[0;34m)\u001b[0m\u001b[0;34m.\u001b[0m\u001b[0mall\u001b[0m\u001b[0;34m(\u001b[0m\u001b[0;34m)\u001b[0m\u001b[0;34m,\u001b[0m \u001b[0;34m\"Mismatched batches!\"\u001b[0m\u001b[0;34m\u001b[0m\u001b[0;34m\u001b[0m\u001b[0m\n\u001b[1;32m      4\u001b[0m \u001b[0mx_data\u001b[0m \u001b[0;34m=\u001b[0m \u001b[0mbatch_df\u001b[0m\u001b[0;34m.\u001b[0m\u001b[0miloc\u001b[0m\u001b[0;34m[\u001b[0m\u001b[0;36m0\u001b[0m\u001b[0;34m]\u001b[0m\u001b[0;34m.\u001b[0m\u001b[0mx_data\u001b[0m\u001b[0;34m\u001b[0m\u001b[0;34m\u001b[0m\u001b[0m\n\u001b[1;32m      5\u001b[0m \u001b[0mtarget\u001b[0m \u001b[0;34m=\u001b[0m \u001b[0mbatch_df\u001b[0m\u001b[0;34m.\u001b[0m\u001b[0miloc\u001b[0m\u001b[0;34m[\u001b[0m\u001b[0;36m0\u001b[0m\u001b[0;34m]\u001b[0m\u001b[0;34m.\u001b[0m\u001b[0mtarget\u001b[0m\u001b[0;34m\u001b[0m\u001b[0;34m\u001b[0m\u001b[0m\n",
      "\u001b[0;31mNameError\u001b[0m: name 'batch_df' is not defined"
     ]
    }
   ],
   "source": [
    "x_data_1 = batch_df.iloc[0].x_data\n",
    "x_data_2 = batch_df.iloc[1].x_data\n",
    "assert (x_data_1 == x_data_2).all(), \"Mismatched batches!\"\n",
    "x_data = batch_df.iloc[0].x_data\n",
    "target = batch_df.iloc[0].target\n",
    "\n",
    "fig, axes = plt.subplots(1,2, figsize=(6,5))\n",
    "axes[0].imshow(x_data)\n",
    "axes[1].imshow(target)\n",
    "for ax in axes:\n",
    "  ax.axis(\"off\")\n",
    "  \n",
    "plt.tight_layout()\n",
    "save_basename = f\"{rand_batch_name}\"\n",
    "save_basename += \"__xy\"\n",
    "save_path = os.path.join(figs_root, f\"{save_basename}.png\")\n",
    "plt.savefig(save_path, dpi=300)\n",
    "\n",
    "# Keypoint plot\n",
    "pred_joint_imgs = batch_df.iloc[0].combo_joint_imgs\n",
    "pred_joint_imgs = [torch.tensor(ele).permute(2,0,1) for ele in pred_joint_imgs]\n",
    "grid_im = make_grid(pred_joint_imgs, padding=10, pad_value=240).permute(1,2,0)\n",
    "\n",
    "plt.figure(figsize=(12,6))\n",
    "plt.imshow(grid_im)\n",
    "plt.axis(\"off\")\n",
    "save_basename = f\"{rand_batch_name}\"\n",
    "save_basename += \"__rgb_keypoint\"\n",
    "save_path = os.path.join(figs_root, f\"{save_basename}.png\")\n",
    "plt.savefig(save_path, dpi=300)\n",
    "plt.show()\n",
    "plt.clf()\n",
    "\n",
    "for distillation_key, dist_df in batch_df.groupby(\"distillation\"):\n",
    "  for untied_key, df_j in dist_df.groupby(\"untied\"):\n",
    "    exp_g = df_j.groupby(\"exp_name\")\n",
    "    for i, (exp_name, df_i) in enumerate(exp_g):\n",
    "      fig = plt.figure(figsize=(12,6))\n",
    "      title = make_title(exp_name)\n",
    "      predictions = df_i.iloc[0].predictions\n",
    "      plt.imshow(predictions)\n",
    "      plt.title(title)\n",
    "      plt.axis(\"off\")\n",
    "      plt.tight_layout()\n",
    "      save_basename = f\"{title}_{rand_batch_name}\"\n",
    "      if distillation_key:\n",
    "        save_basename += \"__distillation\"\n",
    "      if untied_key:\n",
    "        save_basename += \"__untied_key\"\n",
    "      save_path = os.path.join(figs_root, f\"{save_basename}.png\")\n",
    "      plt.savefig(save_path, dpi=300)\n",
    "      plt.show()\n",
    "      plt.clf()"
   ]
  },
  {
   "cell_type": "code",
   "execution_count": null,
   "id": "weekly-convention",
   "metadata": {},
   "outputs": [],
   "source": []
  },
  {
   "cell_type": "code",
   "execution_count": null,
   "id": "successful-aluminum",
   "metadata": {},
   "outputs": [],
   "source": []
  },
  {
   "cell_type": "code",
   "execution_count": null,
   "id": "animated-surgery",
   "metadata": {},
   "outputs": [],
   "source": []
  },
  {
   "cell_type": "code",
   "execution_count": null,
   "id": "opening-interference",
   "metadata": {},
   "outputs": [],
   "source": []
  },
  {
   "cell_type": "code",
   "execution_count": null,
   "id": "arbitrary-citizen",
   "metadata": {},
   "outputs": [],
   "source": []
  },
  {
   "cell_type": "code",
   "execution_count": null,
   "id": "ethical-signal",
   "metadata": {},
   "outputs": [],
   "source": []
  },
  {
   "cell_type": "code",
   "execution_count": null,
   "id": "posted-platform",
   "metadata": {},
   "outputs": [],
   "source": []
  }
 ],
 "metadata": {
  "kernelspec": {
   "display_name": "Python 3",
   "language": "python",
   "name": "python3"
  },
  "language_info": {
   "codemirror_mode": {
    "name": "ipython",
    "version": 3
   },
   "file_extension": ".py",
   "mimetype": "text/x-python",
   "name": "python",
   "nbconvert_exporter": "python",
   "pygments_lexer": "ipython3",
   "version": "3.8.8"
  }
 },
 "nbformat": 4,
 "nbformat_minor": 5
}
