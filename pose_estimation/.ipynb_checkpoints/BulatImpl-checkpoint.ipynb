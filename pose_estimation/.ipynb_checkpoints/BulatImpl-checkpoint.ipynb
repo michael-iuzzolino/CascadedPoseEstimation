{
 "cells": [
  {
   "cell_type": "markdown",
   "id": "c47e670a-6f5c-46dc-8940-fe1a4e2e8636",
   "metadata": {},
   "source": [
    "- https://www.adrianbulat.com/downloads/FG20/fast_human_pose.pdf\n",
    "- https://arxiv.org/pdf/1603.06937.pdf (Figure 4)"
   ]
  },
  {
   "cell_type": "code",
   "execution_count": 1,
   "id": "792bb57f-ba3b-4117-9e53-fe7a8308dd18",
   "metadata": {},
   "outputs": [],
   "source": [
    "%load_ext autoreload\n",
    "%autoreload 2"
   ]
  },
  {
   "cell_type": "code",
   "execution_count": null,
   "id": "6eb5ef10-edcb-4819-9205-6ef3ee9cf3db",
   "metadata": {},
   "outputs": [],
   "source": [
    "%matplotlib inline"
   ]
  },
  {
   "cell_type": "code",
   "execution_count": 2,
   "id": "d4d91709-1870-49f9-baa4-2ddf358023cc",
   "metadata": {},
   "outputs": [],
   "source": [
    "import os\n",
    "import sys\n",
    "import torch\n",
    "sys.path.append(\"/home/michael/CascadedPoseEstimation/lib\")\n",
    "from core.config import config\n",
    "from core.config import update_config"
   ]
  },
  {
   "cell_type": "code",
   "execution_count": 3,
   "id": "6ff376d0-e1d0-4f91-a283-b721991537fb",
   "metadata": {},
   "outputs": [],
   "source": [
    "import models.pose_resnet\n",
    "import models.unet\n",
    "import models.cascaded_pose_resnet\n",
    "import models.pose_stacked_hg\n",
    "import torch.nn as nn\n",
    "from typing import Dict, Iterable, Callable\n",
    "from utils.utils import create_logger"
   ]
  },
  {
   "cell_type": "code",
   "execution_count": 4,
   "id": "19e46638-47e3-44db-b663-1dd6bf2b59f4",
   "metadata": {},
   "outputs": [],
   "source": [
    "cfg_paths = [\n",
    "  \"/home/michael/CascadedPoseEstimation/experiments/mpii/resnet18/baseline.yaml\",  # 0\n",
    "  \"/home/michael/CascadedPoseEstimation/experiments/mpii/hourglass/baseline_2.yaml\",  # 1\n",
    "  \"/home/michael/CascadedPoseEstimation/experiments/mpii/hourglass/hourglass_2__td_1_parallel.yaml\",  # 2\n",
    "  \"/home/michael/CascadedPoseEstimation/experiments/mpii/hourglass/hourglass_2__td_1_serial.yaml\",  # 3\n",
    "  \"/home/michael/CascadedPoseEstimation/experiments/mpii/hourglass/baseline_4.yaml\",  # 4\n",
    "  \"/home/michael/CascadedPoseEstimation/experiments/mpii/hourglass/hourglass_4__td_1_parallel.yaml\",  # 5\n",
    "]"
   ]
  },
  {
   "cell_type": "code",
   "execution_count": 5,
   "id": "7ae782f9-ca1a-4f37-ac69-3c9185f41034",
   "metadata": {},
   "outputs": [
    {
     "data": {
      "text/plain": [
       "'/home/michael/CascadedPoseEstimation/experiments/mpii/hourglass/hourglass_2__td_1_parallel.yaml'"
      ]
     },
     "execution_count": 5,
     "metadata": {},
     "output_type": "execute_result"
    }
   ],
   "source": [
    "cfg_path = cfg_paths[2]\n",
    "cfg_path"
   ]
  },
  {
   "cell_type": "code",
   "execution_count": 6,
   "id": "47d5c03d-e75b-4314-b41d-e4b9fa9f0b39",
   "metadata": {},
   "outputs": [
    {
     "data": {
      "text/plain": [
       "{'CASCADED': False,\n",
       " 'CASCADED_SCHEME': 'parallel',\n",
       " 'NUM_LAYERS': 50,\n",
       " 'DECONV_WITH_BIAS': False,\n",
       " 'NUM_DECONV_LAYERS': 3,\n",
       " 'NUM_DECONV_FILTERS': [256, 256, 256],\n",
       " 'NUM_DECONV_KERNELS': [4, 4, 4],\n",
       " 'FINAL_CONV_KERNEL': 1,\n",
       " 'TARGET_TYPE': 'gaussian',\n",
       " 'HEATMAP_SIZE': [64, 64],\n",
       " 'SIGMA': 2}"
      ]
     },
     "execution_count": 6,
     "metadata": {},
     "output_type": "execute_result"
    }
   ],
   "source": [
    "config[\"MODEL\"][\"EXTRA\"]"
   ]
  },
  {
   "cell_type": "code",
   "execution_count": 7,
   "id": "c5e7bf9e-e3cc-4b1e-b05a-6a63676358b5",
   "metadata": {},
   "outputs": [
    {
     "name": "stderr",
     "output_type": "stream",
     "text": [
      "/home/michael/CascadedPoseEstimation/lib/core/config.py:181: YAMLLoadWarning: calling yaml.load() without Loader=... is deprecated, as the default Loader is unsafe. Please read https://msg.pyyaml.org/load for full details.\n",
      "  exp_config = edict(yaml.load(f))\n"
     ]
    }
   ],
   "source": [
    "update_config(cfg_path)"
   ]
  },
  {
   "cell_type": "code",
   "execution_count": 8,
   "id": "fbcf12fd-5c00-49df-9a9b-1e2bddf6de0f",
   "metadata": {},
   "outputs": [
    {
     "name": "stdout",
     "output_type": "stream",
     "text": [
      "=> creating output/mpii/hourglass_x2__cascaded_td(1.0)__parallel\n",
      "=> creating log/mpii/hourglass_x2__cascaded_td(1.0)__parallel/hourglass_2__td_1_parallel_2021-09-13-23-32\n"
     ]
    },
    {
     "data": {
      "text/plain": [
       "'../output/mpii/hourglass_x2__cascaded_td(1.0)__parallel'"
      ]
     },
     "execution_count": 8,
     "metadata": {},
     "output_type": "execute_result"
    }
   ],
   "source": [
    "# Setup logger\n",
    "logger, output_dir, tb_log_dir = create_logger(config, cfg_path, 'valid')\n",
    "output_dir = \"../\" + output_dir\n",
    "output_dir"
   ]
  },
  {
   "cell_type": "markdown",
   "id": "235d2f4e-ee13-420c-b011-d7215c1e7de6",
   "metadata": {},
   "source": [
    "# Dataset"
   ]
  },
  {
   "cell_type": "code",
   "execution_count": 9,
   "id": "75200fdd-65cf-417f-8f7e-f4ab7a961369",
   "metadata": {},
   "outputs": [],
   "source": [
    "import torchvision.transforms as transforms\n",
    "import dataset\n",
    "import numpy as np\n",
    "import matplotlib.pyplot as plt\n",
    "from collections import defaultdict\n",
    "import pandas as pd\n",
    "import seaborn as sns"
   ]
  },
  {
   "cell_type": "code",
   "execution_count": 10,
   "id": "87aa1681-55ee-4782-95f9-ff19d297e284",
   "metadata": {},
   "outputs": [],
   "source": [
    "# Data loading code\n",
    "normalize = transforms.Normalize(mean=[0.485, 0.456, 0.406],\n",
    "                                 std=[0.229, 0.224, 0.225])"
   ]
  },
  {
   "cell_type": "code",
   "execution_count": 11,
   "id": "ee9d3e73-eee5-45bc-9c84-dc5612f0d5a0",
   "metadata": {},
   "outputs": [
    {
     "name": "stderr",
     "output_type": "stream",
     "text": [
      "/home/michael/anaconda3/envs/pest/lib/python3.7/site-packages/json_tricks/nonp.py:225: JsonTricksDeprecation: `json_tricks.load(s)` stripped some comments, but `ignore_comments` was not passed; in the next major release, the behaviour when `ignore_comments` is not passed will change; it is recommended to explicitly pass `ignore_comments=True` if you want to strip comments; see https://github.com/mverleg/pyjson_tricks/issues/74\n",
      "  JsonTricksDeprecation)\n",
      "=> load 2958 samples\n"
     ]
    }
   ],
   "source": [
    "gpus = [0]\n",
    "\n",
    "valid_dataset = eval('dataset.'+config.DATASET.DATASET)(\n",
    "    config,\n",
    "    \"../\" + config.DATASET.ROOT,\n",
    "    config.DATASET.TEST_SET,\n",
    "    False,\n",
    "    transforms.Compose([\n",
    "        transforms.ToTensor(),\n",
    "        normalize,\n",
    "    ])\n",
    ")\n",
    "valid_loader = torch.utils.data.DataLoader(\n",
    "    valid_dataset,\n",
    "    batch_size=config.TEST.BATCH_SIZE*len(gpus),\n",
    "    shuffle=False,\n",
    "    num_workers=config.WORKERS,\n",
    "    pin_memory=True\n",
    ")"
   ]
  },
  {
   "cell_type": "code",
   "execution_count": 12,
   "id": "1bbd6f25-81fa-4fbc-a402-aeb89881035a",
   "metadata": {},
   "outputs": [],
   "source": [
    "for X, y, z, h in valid_loader:\n",
    "  break"
   ]
  },
  {
   "cell_type": "markdown",
   "id": "0714c4ad-0d5d-448b-a93e-af6c7e55f197",
   "metadata": {},
   "source": [
    "# Model"
   ]
  },
  {
   "cell_type": "code",
   "execution_count": 47,
   "id": "171a8147-46f3-42ba-94de-be5ab5c2d603",
   "metadata": {},
   "outputs": [],
   "source": [
    "def count_parameters(model, trainable=False):\n",
    "  if trainable:\n",
    "    return sum(p.numel() for p in model.parameters() if p.requires_grad)\n",
    "  else:\n",
    "    return sum(p.numel() for p in model.parameters())"
   ]
  },
  {
   "cell_type": "code",
   "execution_count": 48,
   "id": "6eb52b18-3104-4f2c-b975-db09c6d3d24e",
   "metadata": {},
   "outputs": [],
   "source": [
    "# config['MODEL']['EXTRA']['CASCADED_SCHEME'] = 'parallel'"
   ]
  },
  {
   "cell_type": "code",
   "execution_count": 179,
   "id": "a22abeac-6b50-40b2-aaa3-b15128f733d0",
   "metadata": {},
   "outputs": [],
   "source": [
    "class FeatureExtractor(nn.Module):\n",
    "  def __init__(self, model, layer_suffix=\"identity_mapping\"):\n",
    "    super().__init__()\n",
    "    self.model = model\n",
    "    self.layer_suffix = layer_suffix\n",
    "    self._activation = {}\n",
    "    self.setup()\n",
    "    \n",
    "  def _hook_fxn(self, name):\n",
    "    # the hook signature\n",
    "    # Inputs: model, input, output\n",
    "    def hook(model, input, output):\n",
    "      if self._log_active:\n",
    "        self._activation[name] = {\n",
    "            \"input\": input[0].detach(),\n",
    "            \"output\": output.detach(),\n",
    "        }\n",
    "    return hook\n",
    "\n",
    "  def setup(self):\n",
    "    self.hooks = []\n",
    "    for name, module in self.model.named_modules():\n",
    "      if name.endswith(self.layer_suffix) and \"hg\" in name:\n",
    "        print(f\"Hooking into:\\t{name}\")\n",
    "        hook_i = module.register_forward_hook(self._hook_fxn(name))\n",
    "        self.hooks.append(hook_i)\n",
    "  \n",
    "  def forward(self, x, t=0):\n",
    "    for t_i in range(t+1):\n",
    "      self._log_active = t_i == t\n",
    "      _ = self.model(x, t_i)\n",
    "      \n",
    "    for hook in self.hooks:\n",
    "      hook.remove()\n",
    "    return self._activation"
   ]
  },
  {
   "cell_type": "code",
   "execution_count": 180,
   "id": "2e12897b-7f7f-423d-9981-d844e93738e3",
   "metadata": {},
   "outputs": [],
   "source": [
    "def get_state_dict(output_dir, config, logger, use_best=False):\n",
    "  if config.TEST.MODEL_FILE:\n",
    "    logger.info('=> loading model from {}'.format(config.TEST.MODEL_FILE))\n",
    "    state_dict = torch.load(config.TEST.MODEL_FILE)\n",
    "  else:\n",
    "    ckpt_path = os.path.join(output_dir, f\"final_state.pth.tar\")\n",
    "    \n",
    "    if os.path.exists(ckpt_path) and not use_best:\n",
    "      logger.info('=> loading model from {}'.format(ckpt_path))\n",
    "      state_dict = torch.load(ckpt_path)\n",
    "    else:\n",
    "      ckpt_path = os.path.join(output_dir, f\"model_best.pth.tar\")\n",
    "      logger.info('=> loading model from {}'.format(ckpt_path))\n",
    "      state_dict = torch.load(ckpt_path)\n",
    "  \n",
    "  if \"state_dict\" in state_dict:\n",
    "    state_dict = state_dict[\"state_dict\"]\n",
    "#       # Fix\n",
    "#       state_dict = OrderedDict()\n",
    "#       for k, v in state_dict_src.items():\n",
    "#         k = k.replace(\"module.\", \"\")\n",
    "#         state_dict[k] = v\n",
    "        \n",
    "  return state_dict"
   ]
  },
  {
   "cell_type": "code",
   "execution_count": 181,
   "id": "30b465cc-e11a-4bfd-867c-b6c33f0cc9d0",
   "metadata": {},
   "outputs": [],
   "source": [
    "def load_model(config, output_dir, logger, load_best_ckpt=True):\n",
    "  # Setup model\n",
    "  if config.MODEL.NAME == \"pose_resnet\":\n",
    "    if config.MODEL.CASCADED:\n",
    "      model = models.cascaded_pose_resnet.get_pose_net(config, is_train=False)\n",
    "    else:\n",
    "      model = models.pose_resnet.get_pose_net(config, is_train=False)\n",
    "  elif config.MODEL.NAME == \"unet\":\n",
    "      model = models.unet.get_pose_net(config, is_train=False)\n",
    "  elif config.MODEL.NAME == \"pose_stacked_hg\":\n",
    "      model = models.pose_stacked_hg.get_pose_net(config, is_train=False)\n",
    "\n",
    "  if config.MODEL.CASCADED:\n",
    "      config.MODEL.N_TIMESTEPS = model.timesteps\n",
    "\n",
    "  # Load state dict\n",
    "  state_dict = get_state_dict(output_dir, \n",
    "                              config, \n",
    "                              logger, \n",
    "                              use_best=load_best_ckpt)\n",
    "\n",
    "  # Load previous model\n",
    "  model.load_state_dict(state_dict)\n",
    "  return model"
   ]
  },
  {
   "cell_type": "code",
   "execution_count": 182,
   "id": "97a2e18e-346c-48d7-b847-172aae38e746",
   "metadata": {},
   "outputs": [],
   "source": [
    "def avg_results(alpha_features):\n",
    "  alpha_avg = {}\n",
    "  for k, v in alpha_features.items():\n",
    "    in_v = v[\"input\"]\n",
    "    out_v = v[\"output\"]\n",
    "    alpha_avg[k] = {\n",
    "      \"input\": in_v.mean(dim=(0,2,3)).numpy(),\n",
    "      \"output\": out_v.mean(dim=(0,2,3)).numpy(),\n",
    "    }\n",
    "  return alpha_avg"
   ]
  },
  {
   "cell_type": "code",
   "execution_count": 183,
   "id": "6cdd9494-7127-4f77-9a11-3784122617c6",
   "metadata": {},
   "outputs": [],
   "source": [
    "def plot_alpha_features(avg_alpha_features, t=0):\n",
    "  n_plots = len(avg_alpha_features)\n",
    "  fig, axes = plt.subplots(n_plots, 1, figsize=(12,4*n_plots))\n",
    "  for i, (k, v) in enumerate(avg_alpha_features.items()):\n",
    "    ax_i = axes[i]\n",
    "    flat_in_v = v[\"input\"]\n",
    "    flat_out_v = v[\"output\"]\n",
    "    df_dict = defaultdict(list)\n",
    "    for v in flat_in_v:\n",
    "      df_dict[\"key\"].append(\"in\")\n",
    "      df_dict[\"val\"].append(v)\n",
    "    for v in flat_out_v:\n",
    "      df_dict[\"key\"].append(\"out\")\n",
    "      df_dict[\"val\"].append(v)\n",
    "    layer_df = pd.DataFrame(df_dict)\n",
    "    g = sns.histplot(x=\"val\", \n",
    "                     hue=\"key\", \n",
    "                     binwidth=0.05,\n",
    "                     data=layer_df, \n",
    "                     stat=\"probability\",\n",
    "                     ax=ax_i)\n",
    "    ax_i.set_xlim((-1.5, 1.5))\n",
    "    \n",
    "    title = f\"{k} (t={t})\"\n",
    "    ax_i.set_title(title)\n",
    "  plt.tight_layout()"
   ]
  },
  {
   "cell_type": "code",
   "execution_count": 184,
   "id": "9d996310-f508-4fdb-8d6a-6dfd4cec54e9",
   "metadata": {},
   "outputs": [],
   "source": [
    "# skip_conv_feature_extractor = FeatureExtractor(model, layer_suffix=\"identity_mapping.skip_conv\")\n",
    "# skip_conv_features = skip_conv_feature_extractor(X, t=0)"
   ]
  },
  {
   "cell_type": "code",
   "execution_count": 185,
   "id": "49072aa3-b10f-455b-8696-6ca49a33675f",
   "metadata": {},
   "outputs": [],
   "source": [
    "def check_same(prev_avg_alpha, prev_vals):\n",
    "  for k, prev_vals in prev_avg_alpha.items():\n",
    "    for key, prev_val in prev_vals.items():\n",
    "      v = avg_alpha[k][key]\n",
    "      if np.all(v == prev_val):\n",
    "        print(f\"{k} {key} All same!\")"
   ]
  },
  {
   "cell_type": "code",
   "execution_count": 190,
   "id": "1c7e6198-1735-42f5-98ea-c0c056e006e6",
   "metadata": {},
   "outputs": [
    {
     "name": "stderr",
     "output_type": "stream",
     "text": [
      "=> loading model from ../output/mpii/hourglass_x2__cascaded_td(1.0)__parallel/model_best.pth.tar\n"
     ]
    },
    {
     "name": "stdout",
     "output_type": "stream",
     "text": [
      "t=0/6...\n",
      "Hooking into:\thgs.0.encode_1.0.identity_mapping\n",
      "Hooking into:\thgs.0.encode_2.0.identity_mapping\n",
      "Hooking into:\thgs.0.encode_3.0.identity_mapping\n",
      "Hooking into:\thgs.0.encode_4.0.identity_mapping\n",
      "Hooking into:\thgs.1.encode_1.0.identity_mapping\n",
      "Hooking into:\thgs.1.encode_2.0.identity_mapping\n",
      "Hooking into:\thgs.1.encode_3.0.identity_mapping\n",
      "Hooking into:\thgs.1.encode_4.0.identity_mapping\n"
     ]
    },
    {
     "name": "stderr",
     "output_type": "stream",
     "text": [
      "=> loading model from ../output/mpii/hourglass_x2__cascaded_td(1.0)__parallel/model_best.pth.tar\n"
     ]
    },
    {
     "name": "stdout",
     "output_type": "stream",
     "text": [
      "t=1/6...\n",
      "Hooking into:\thgs.0.encode_1.0.identity_mapping\n",
      "Hooking into:\thgs.0.encode_2.0.identity_mapping\n",
      "Hooking into:\thgs.0.encode_3.0.identity_mapping\n",
      "Hooking into:\thgs.0.encode_4.0.identity_mapping\n",
      "Hooking into:\thgs.1.encode_1.0.identity_mapping\n",
      "Hooking into:\thgs.1.encode_2.0.identity_mapping\n",
      "Hooking into:\thgs.1.encode_3.0.identity_mapping\n",
      "Hooking into:\thgs.1.encode_4.0.identity_mapping\n",
      "hgs.0.encode_1.0.identity_mapping input All same!\n",
      "hgs.0.encode_1.0.identity_mapping output All same!\n",
      "hgs.0.encode_2.0.identity_mapping input All same!\n",
      "hgs.0.encode_2.0.identity_mapping output All same!\n",
      "hgs.0.encode_3.0.identity_mapping input All same!\n",
      "hgs.0.encode_3.0.identity_mapping output All same!\n",
      "hgs.0.encode_4.0.identity_mapping input All same!\n",
      "hgs.0.encode_4.0.identity_mapping output All same!\n"
     ]
    },
    {
     "name": "stderr",
     "output_type": "stream",
     "text": [
      "=> loading model from ../output/mpii/hourglass_x2__cascaded_td(1.0)__parallel/model_best.pth.tar\n"
     ]
    },
    {
     "name": "stdout",
     "output_type": "stream",
     "text": [
      "t=2/6...\n",
      "Hooking into:\thgs.0.encode_1.0.identity_mapping\n",
      "Hooking into:\thgs.0.encode_2.0.identity_mapping\n",
      "Hooking into:\thgs.0.encode_3.0.identity_mapping\n",
      "Hooking into:\thgs.0.encode_4.0.identity_mapping\n",
      "Hooking into:\thgs.1.encode_1.0.identity_mapping\n",
      "Hooking into:\thgs.1.encode_2.0.identity_mapping\n",
      "Hooking into:\thgs.1.encode_3.0.identity_mapping\n",
      "Hooking into:\thgs.1.encode_4.0.identity_mapping\n",
      "hgs.0.encode_1.0.identity_mapping input All same!\n",
      "hgs.0.encode_1.0.identity_mapping output All same!\n",
      "hgs.0.encode_2.0.identity_mapping input All same!\n",
      "hgs.0.encode_2.0.identity_mapping output All same!\n",
      "hgs.0.encode_3.0.identity_mapping input All same!\n",
      "hgs.0.encode_3.0.identity_mapping output All same!\n",
      "hgs.0.encode_4.0.identity_mapping input All same!\n",
      "hgs.0.encode_4.0.identity_mapping output All same!\n"
     ]
    },
    {
     "name": "stderr",
     "output_type": "stream",
     "text": [
      "=> loading model from ../output/mpii/hourglass_x2__cascaded_td(1.0)__parallel/model_best.pth.tar\n"
     ]
    },
    {
     "name": "stdout",
     "output_type": "stream",
     "text": [
      "t=3/6...\n",
      "Hooking into:\thgs.0.encode_1.0.identity_mapping\n",
      "Hooking into:\thgs.0.encode_2.0.identity_mapping\n",
      "Hooking into:\thgs.0.encode_3.0.identity_mapping\n",
      "Hooking into:\thgs.0.encode_4.0.identity_mapping\n",
      "Hooking into:\thgs.1.encode_1.0.identity_mapping\n",
      "Hooking into:\thgs.1.encode_2.0.identity_mapping\n",
      "Hooking into:\thgs.1.encode_3.0.identity_mapping\n",
      "Hooking into:\thgs.1.encode_4.0.identity_mapping\n",
      "hgs.0.encode_1.0.identity_mapping input All same!\n",
      "hgs.0.encode_1.0.identity_mapping output All same!\n",
      "hgs.0.encode_2.0.identity_mapping input All same!\n",
      "hgs.0.encode_2.0.identity_mapping output All same!\n",
      "hgs.0.encode_3.0.identity_mapping input All same!\n",
      "hgs.0.encode_3.0.identity_mapping output All same!\n",
      "hgs.0.encode_4.0.identity_mapping input All same!\n",
      "hgs.0.encode_4.0.identity_mapping output All same!\n"
     ]
    },
    {
     "name": "stderr",
     "output_type": "stream",
     "text": [
      "=> loading model from ../output/mpii/hourglass_x2__cascaded_td(1.0)__parallel/model_best.pth.tar\n"
     ]
    },
    {
     "name": "stdout",
     "output_type": "stream",
     "text": [
      "t=4/6...\n",
      "Hooking into:\thgs.0.encode_1.0.identity_mapping\n",
      "Hooking into:\thgs.0.encode_2.0.identity_mapping\n",
      "Hooking into:\thgs.0.encode_3.0.identity_mapping\n",
      "Hooking into:\thgs.0.encode_4.0.identity_mapping\n",
      "Hooking into:\thgs.1.encode_1.0.identity_mapping\n",
      "Hooking into:\thgs.1.encode_2.0.identity_mapping\n",
      "Hooking into:\thgs.1.encode_3.0.identity_mapping\n",
      "Hooking into:\thgs.1.encode_4.0.identity_mapping\n"
     ]
    },
    {
     "name": "stderr",
     "output_type": "stream",
     "text": [
      "=> loading model from ../output/mpii/hourglass_x2__cascaded_td(1.0)__parallel/model_best.pth.tar\n"
     ]
    },
    {
     "name": "stdout",
     "output_type": "stream",
     "text": [
      "hgs.0.encode_1.0.identity_mapping input All same!\n",
      "hgs.0.encode_1.0.identity_mapping output All same!\n",
      "hgs.0.encode_2.0.identity_mapping input All same!\n",
      "hgs.0.encode_2.0.identity_mapping output All same!\n",
      "hgs.0.encode_3.0.identity_mapping input All same!\n",
      "hgs.0.encode_3.0.identity_mapping output All same!\n",
      "hgs.0.encode_4.0.identity_mapping input All same!\n",
      "hgs.0.encode_4.0.identity_mapping output All same!\n",
      "hgs.1.encode_1.0.identity_mapping input All same!\n",
      "hgs.1.encode_1.0.identity_mapping output All same!\n",
      "hgs.1.encode_2.0.identity_mapping input All same!\n",
      "hgs.1.encode_2.0.identity_mapping output All same!\n",
      "hgs.1.encode_3.0.identity_mapping input All same!\n",
      "hgs.1.encode_3.0.identity_mapping output All same!\n",
      "hgs.1.encode_4.0.identity_mapping input All same!\n",
      "hgs.1.encode_4.0.identity_mapping output All same!\n",
      "t=5/6...\n",
      "Hooking into:\thgs.0.encode_1.0.identity_mapping\n",
      "Hooking into:\thgs.0.encode_2.0.identity_mapping\n",
      "Hooking into:\thgs.0.encode_3.0.identity_mapping\n",
      "Hooking into:\thgs.0.encode_4.0.identity_mapping\n",
      "Hooking into:\thgs.1.encode_1.0.identity_mapping\n",
      "Hooking into:\thgs.1.encode_2.0.identity_mapping\n",
      "Hooking into:\thgs.1.encode_3.0.identity_mapping\n",
      "Hooking into:\thgs.1.encode_4.0.identity_mapping\n",
      "hgs.0.encode_1.0.identity_mapping input All same!\n",
      "hgs.0.encode_1.0.identity_mapping output All same!\n",
      "hgs.0.encode_2.0.identity_mapping input All same!\n",
      "hgs.0.encode_2.0.identity_mapping output All same!\n",
      "hgs.0.encode_3.0.identity_mapping input All same!\n",
      "hgs.0.encode_3.0.identity_mapping output All same!\n",
      "hgs.0.encode_4.0.identity_mapping input All same!\n",
      "hgs.0.encode_4.0.identity_mapping output All same!\n",
      "hgs.1.encode_1.0.identity_mapping input All same!\n",
      "hgs.1.encode_1.0.identity_mapping output All same!\n",
      "hgs.1.encode_2.0.identity_mapping input All same!\n",
      "hgs.1.encode_2.0.identity_mapping output All same!\n",
      "hgs.1.encode_3.0.identity_mapping input All same!\n",
      "hgs.1.encode_3.0.identity_mapping output All same!\n",
      "hgs.1.encode_4.0.identity_mapping input All same!\n",
      "hgs.1.encode_4.0.identity_mapping output All same!\n"
     ]
    }
   ],
   "source": [
    "df_dict = defaultdict(list)\n",
    "n_timesteps = model.timesteps\n",
    "prev_avg_alpha = None\n",
    "for t in range(n_timesteps):\n",
    "  model = load_model(config, output_dir, logger, load_best_ckpt=True)\n",
    "  print(f\"t={t}/{n_timesteps}...\")\n",
    "  alpha_feature_extractor = FeatureExtractor(model, layer_suffix=\"identity_mapping\")\n",
    "  alpha_features = alpha_feature_extractor(X, t=t)\n",
    "  avg_alpha = avg_results(alpha_features)\n",
    "  if prev_avg_alpha is not None:\n",
    "    check_same(prev_avg_alpha, prev_vals)\n",
    "  prev_avg_alpha = avg_alpha\n",
    "  # plot_alpha_features(avg_alpha, t=t)\n",
    "  for layer_key, layer_vals in avg_alpha.items():\n",
    "    for in_val, out_val in zip(layer_vals[\"input\"], layer_vals[\"output\"]):\n",
    "      df_dict[\"in_val\"].append(in_val)\n",
    "      df_dict[\"out_val\"].append(out_val)\n",
    "      df_dict[\"layer\"].append(layer_key)\n",
    "      df_dict[\"t\"].append(t)\n",
    "    \n",
    "  del model\n",
    "  del alpha_feature_extractor\n",
    "df = pd.DataFrame(df_dict)"
   ]
  },
  {
   "cell_type": "code",
   "execution_count": null,
   "id": "21c6d5a3-8826-4d3e-b9e1-77303a248864",
   "metadata": {},
   "outputs": [],
   "source": []
  },
  {
   "cell_type": "code",
   "execution_count": null,
   "id": "32ae6e44-27b2-4b2a-b57b-b4e996f87c57",
   "metadata": {},
   "outputs": [],
   "source": []
  },
  {
   "cell_type": "code",
   "execution_count": null,
   "id": "3a29f28b-47a4-4c7e-ac4c-121be573fddc",
   "metadata": {},
   "outputs": [],
   "source": []
  },
  {
   "cell_type": "code",
   "execution_count": 144,
   "id": "e52b7d52-536c-49e1-a5e9-a82b5100559e",
   "metadata": {},
   "outputs": [
    {
     "data": {
      "text/plain": [
       "True"
      ]
     },
     "execution_count": 144,
     "metadata": {},
     "output_type": "execute_result"
    }
   ],
   "source": []
  },
  {
   "cell_type": "code",
   "execution_count": 142,
   "id": "1f5ba838-f23d-4e91-876d-ec404ee5b79f",
   "metadata": {},
   "outputs": [
    {
     "data": {
      "text/plain": [
       "array([ 0.77767086,  1.5923176 , -0.62352127,  0.35052517, -0.61959136,\n",
       "       -1.5150734 , -1.1465671 ,  0.6165074 ,  1.2704107 ,  1.5293293 ,\n",
       "        0.262928  ,  0.24901052,  0.06877458,  0.8785691 ,  2.2829928 ,\n",
       "        1.4397868 ,  0.3601997 , -1.766367  , -0.03073442, -0.14529358,\n",
       "        0.19937843, -0.22932911,  1.8322583 ,  0.41494307,  0.18322186,\n",
       "        0.98024637,  0.8413948 , -0.65659034,  1.044866  ,  1.5101143 ,\n",
       "        1.3054994 ,  2.4835408 ,  0.10239058,  0.80318606, -1.5866816 ,\n",
       "        0.17505147,  1.0056723 , -1.3536174 , -1.5707592 ,  1.1902673 ,\n",
       "       -1.380905  ,  0.09719775,  2.1096854 ,  0.46060735,  0.33317962,\n",
       "        1.2628628 ,  0.06340659, -1.025504  , -0.27144817,  0.17618282,\n",
       "       -0.5599975 ,  1.7384465 , -0.20710641,  0.2953519 , -0.27583456,\n",
       "       -0.75307095, -0.58551955, -0.5770747 ,  0.49594864, -2.7090158 ,\n",
       "        2.0160573 ,  1.2284582 , -1.4771343 ,  2.0919363 ,  1.9859428 ,\n",
       "       -0.705237  ,  2.110989  , -0.3789968 , -0.42857817,  0.63638455,\n",
       "        0.914695  , -0.19330752,  2.144996  ,  0.8471    , -0.39688912,\n",
       "        1.1590253 ,  0.49625346,  1.6211314 ,  1.6284704 ,  0.1865083 ,\n",
       "       -0.49995995, -0.33799246, -0.612566  , -1.4290922 ,  1.4986658 ,\n",
       "        1.5396566 ,  0.95857984, -1.3413078 ,  1.015767  ,  0.17213775,\n",
       "       -0.7386783 , -0.9903641 , -0.58575195, -0.43220672,  1.8638556 ,\n",
       "       -0.3382071 , -0.27930498,  1.6376897 ,  1.0267382 , -0.8661717 ,\n",
       "       -1.1474562 , -0.16394454,  0.23883943, -0.53382415,  1.4567021 ,\n",
       "       -0.15097052,  0.27997506,  1.167176  ,  1.1644071 , -0.31468365,\n",
       "        0.33566648,  1.7558562 , -1.9384971 , -0.26287004,  0.8315609 ,\n",
       "       -0.6709255 , -0.37274444,  0.08240078, -0.26121044, -0.6763808 ,\n",
       "       -0.8506618 , -0.05678961, -0.39382362,  0.9500906 ,  2.196349  ,\n",
       "       -0.5479041 , -1.1258819 ,  0.04598459,  0.2100453 , -1.0962697 ,\n",
       "        1.2342174 ,  0.77007526, -0.48365498,  0.35623902, -0.3669179 ,\n",
       "       -0.40752158, -0.33394352,  2.3901374 , -0.80252826,  1.0048299 ,\n",
       "       -2.1073864 ,  0.64150596,  0.9725907 , -0.24063691], dtype=float32)"
      ]
     },
     "execution_count": 142,
     "metadata": {},
     "output_type": "execute_result"
    }
   ],
   "source": [
    "prev_val"
   ]
  },
  {
   "cell_type": "code",
   "execution_count": 136,
   "id": "17673d36-0b78-49dc-90a2-27470d2c5d62",
   "metadata": {},
   "outputs": [
    {
     "data": {
      "text/plain": [
       "{'input': array([ 0.77767086,  1.5923176 , -0.62352127,  0.35052517, -0.61959136,\n",
       "        -1.5150734 , -1.1465671 ,  0.6165074 ,  1.2704107 ,  1.5293293 ,\n",
       "         0.262928  ,  0.24901052,  0.06877458,  0.8785691 ,  2.2829928 ,\n",
       "         1.4397868 ,  0.3601997 , -1.766367  , -0.03073442, -0.14529358,\n",
       "         0.19937843, -0.22932911,  1.8322583 ,  0.41494307,  0.18322186,\n",
       "         0.98024637,  0.8413948 , -0.65659034,  1.044866  ,  1.5101143 ,\n",
       "         1.3054994 ,  2.4835408 ,  0.10239058,  0.80318606, -1.5866816 ,\n",
       "         0.17505147,  1.0056723 , -1.3536174 , -1.5707592 ,  1.1902673 ,\n",
       "        -1.380905  ,  0.09719775,  2.1096854 ,  0.46060735,  0.33317962,\n",
       "         1.2628628 ,  0.06340659, -1.025504  , -0.27144817,  0.17618282,\n",
       "        -0.5599975 ,  1.7384465 , -0.20710641,  0.2953519 , -0.27583456,\n",
       "        -0.75307095, -0.58551955, -0.5770747 ,  0.49594864, -2.7090158 ,\n",
       "         2.0160573 ,  1.2284582 , -1.4771343 ,  2.0919363 ,  1.9859428 ,\n",
       "        -0.705237  ,  2.110989  , -0.3789968 , -0.42857817,  0.63638455,\n",
       "         0.914695  , -0.19330752,  2.144996  ,  0.8471    , -0.39688912,\n",
       "         1.1590253 ,  0.49625346,  1.6211314 ,  1.6284704 ,  0.1865083 ,\n",
       "        -0.49995995, -0.33799246, -0.612566  , -1.4290922 ,  1.4986658 ,\n",
       "         1.5396566 ,  0.95857984, -1.3413078 ,  1.015767  ,  0.17213775,\n",
       "        -0.7386783 , -0.9903641 , -0.58575195, -0.43220672,  1.8638556 ,\n",
       "        -0.3382071 , -0.27930498,  1.6376897 ,  1.0267382 , -0.8661717 ,\n",
       "        -1.1474562 , -0.16394454,  0.23883943, -0.53382415,  1.4567021 ,\n",
       "        -0.15097052,  0.27997506,  1.167176  ,  1.1644071 , -0.31468365,\n",
       "         0.33566648,  1.7558562 , -1.9384971 , -0.26287004,  0.8315609 ,\n",
       "        -0.6709255 , -0.37274444,  0.08240078, -0.26121044, -0.6763808 ,\n",
       "        -0.8506618 , -0.05678961, -0.39382362,  0.9500906 ,  2.196349  ,\n",
       "        -0.5479041 , -1.1258819 ,  0.04598459,  0.2100453 , -1.0962697 ,\n",
       "         1.2342174 ,  0.77007526, -0.48365498,  0.35623902, -0.3669179 ,\n",
       "        -0.40752158, -0.33394352,  2.3901374 , -0.80252826,  1.0048299 ,\n",
       "        -2.1073864 ,  0.64150596,  0.9725907 , -0.24063691], dtype=float32),\n",
       " 'output': array([ 4.81230393e-02,  4.93027195e-02, -5.18203005e-02,  5.41870594e-02,\n",
       "        -9.45061892e-02, -1.13490885e-02, -5.95821552e-02, -1.54405425e-03,\n",
       "         4.68024844e-03,  4.47807424e-02, -7.82006420e-03, -5.99132478e-03,\n",
       "         4.09416901e-03, -9.39164758e-02, -1.81693852e-01, -8.93073715e-03,\n",
       "        -1.22359833e-02, -1.04129054e-01,  1.59039465e-03, -3.69612942e-03,\n",
       "        -1.65269081e-03, -5.28625436e-02, -1.29929155e-01,  9.10266861e-03,\n",
       "         1.70873106e-02, -1.49639752e-02,  3.13165672e-02, -5.63836470e-03,\n",
       "        -1.59430683e-01, -2.36199737e-01,  8.26545954e-02,  3.25600281e-02,\n",
       "        -2.37156535e-04, -8.19609538e-02, -4.45142277e-02,  1.22826808e-04,\n",
       "         5.98724708e-02,  1.29803970e-01, -6.88328892e-02, -2.54665703e-01,\n",
       "        -2.05379397e-01,  1.53809355e-03,  1.13511525e-01, -8.95270705e-03,\n",
       "         3.36174294e-02,  8.41280967e-02,  6.66914973e-03,  1.82683557e-01,\n",
       "        -2.36427486e-02, -2.78856256e-03, -4.57632616e-02,  1.74150169e-01,\n",
       "         6.03034685e-04,  2.40795277e-02, -4.62688785e-03, -8.49095806e-02,\n",
       "        -2.63324063e-02,  1.91918314e-02,  9.52830352e-03,  1.10423490e-01,\n",
       "        -2.46379167e-01, -2.86816694e-02,  2.10893244e-01, -1.44349918e-01,\n",
       "         1.49441153e-01,  2.48447843e-02, -1.72070265e-01,  3.79598774e-02,\n",
       "        -1.02743059e-01, -2.86551192e-02, -1.63766425e-02, -2.56591756e-02,\n",
       "        -6.05516285e-02, -1.53730661e-01,  4.15705368e-02, -2.56667793e-01,\n",
       "         5.24580255e-02,  5.53687811e-02,  2.07759216e-01, -6.34820759e-02,\n",
       "         5.60325645e-02,  5.34145422e-02,  3.49549484e-03,  1.33208558e-01,\n",
       "         1.79084048e-01,  8.10879022e-02,  8.13730136e-02,  5.18177971e-02,\n",
       "         9.50343013e-02,  8.16484261e-03,  5.81072122e-02,  1.16516851e-01,\n",
       "        -8.39142352e-02, -6.23683706e-02, -1.54143319e-01,  2.26097107e-02,\n",
       "        -2.37243455e-02, -1.08945787e-01,  8.88756961e-02,  5.35673536e-02,\n",
       "         1.24843761e-01,  5.52479969e-03, -8.07505101e-03,  1.14867967e-02,\n",
       "        -1.48980003e-02, -3.90815772e-02, -3.89101729e-02,  8.58908892e-02,\n",
       "        -8.84445682e-02,  2.04587113e-02, -3.01062204e-02,  1.08809881e-02,\n",
       "        -3.09785071e-04,  4.99584805e-03,  4.96692806e-02,  7.84025341e-02,\n",
       "         2.44391672e-02, -7.81940389e-03, -1.85459363e-03,  6.55319169e-02,\n",
       "        -9.08664092e-02, -3.15848459e-03, -2.31500026e-02, -4.64819968e-02,\n",
       "        -4.81916890e-02, -2.04098374e-02, -2.33142346e-01,  5.83791174e-03,\n",
       "         2.25589219e-02, -4.47147489e-02, -5.63311018e-02, -4.01698276e-02,\n",
       "        -4.36083116e-02,  4.00292268e-03, -8.70914024e-04, -1.03650950e-02,\n",
       "        -2.09254455e-02,  1.30099446e-01, -5.96530270e-03,  5.25035374e-02,\n",
       "        -1.97767038e-02,  2.94299070e-02,  6.27425238e-02, -1.77823789e-02],\n",
       "       dtype=float32)}"
      ]
     },
     "execution_count": 136,
     "metadata": {},
     "output_type": "execute_result"
    }
   ],
   "source": [
    "prev_v"
   ]
  },
  {
   "cell_type": "code",
   "execution_count": 137,
   "id": "3012b817-f215-4f9e-a117-0465b93c895d",
   "metadata": {},
   "outputs": [
    {
     "data": {
      "text/plain": [
       "{'input': array([ 0.77767086,  1.5923176 , -0.62352127,  0.35052517, -0.61959136,\n",
       "        -1.5150734 , -1.1465671 ,  0.6165074 ,  1.2704107 ,  1.5293293 ,\n",
       "         0.262928  ,  0.24901052,  0.06877458,  0.8785691 ,  2.2829928 ,\n",
       "         1.4397868 ,  0.3601997 , -1.766367  , -0.03073442, -0.14529358,\n",
       "         0.19937843, -0.22932911,  1.8322583 ,  0.41494307,  0.18322186,\n",
       "         0.98024637,  0.8413948 , -0.65659034,  1.044866  ,  1.5101143 ,\n",
       "         1.3054994 ,  2.4835408 ,  0.10239058,  0.80318606, -1.5866816 ,\n",
       "         0.17505147,  1.0056723 , -1.3536174 , -1.5707592 ,  1.1902673 ,\n",
       "        -1.380905  ,  0.09719775,  2.1096854 ,  0.46060735,  0.33317962,\n",
       "         1.2628628 ,  0.06340659, -1.025504  , -0.27144817,  0.17618282,\n",
       "        -0.5599975 ,  1.7384465 , -0.20710641,  0.2953519 , -0.27583456,\n",
       "        -0.75307095, -0.58551955, -0.5770747 ,  0.49594864, -2.7090158 ,\n",
       "         2.0160573 ,  1.2284582 , -1.4771343 ,  2.0919363 ,  1.9859428 ,\n",
       "        -0.705237  ,  2.110989  , -0.3789968 , -0.42857817,  0.63638455,\n",
       "         0.914695  , -0.19330752,  2.144996  ,  0.8471    , -0.39688912,\n",
       "         1.1590253 ,  0.49625346,  1.6211314 ,  1.6284704 ,  0.1865083 ,\n",
       "        -0.49995995, -0.33799246, -0.612566  , -1.4290922 ,  1.4986658 ,\n",
       "         1.5396566 ,  0.95857984, -1.3413078 ,  1.015767  ,  0.17213775,\n",
       "        -0.7386783 , -0.9903641 , -0.58575195, -0.43220672,  1.8638556 ,\n",
       "        -0.3382071 , -0.27930498,  1.6376897 ,  1.0267382 , -0.8661717 ,\n",
       "        -1.1474562 , -0.16394454,  0.23883943, -0.53382415,  1.4567021 ,\n",
       "        -0.15097052,  0.27997506,  1.167176  ,  1.1644071 , -0.31468365,\n",
       "         0.33566648,  1.7558562 , -1.9384971 , -0.26287004,  0.8315609 ,\n",
       "        -0.6709255 , -0.37274444,  0.08240078, -0.26121044, -0.6763808 ,\n",
       "        -0.8506618 , -0.05678961, -0.39382362,  0.9500906 ,  2.196349  ,\n",
       "        -0.5479041 , -1.1258819 ,  0.04598459,  0.2100453 , -1.0962697 ,\n",
       "         1.2342174 ,  0.77007526, -0.48365498,  0.35623902, -0.3669179 ,\n",
       "        -0.40752158, -0.33394352,  2.3901374 , -0.80252826,  1.0048299 ,\n",
       "        -2.1073864 ,  0.64150596,  0.9725907 , -0.24063691], dtype=float32),\n",
       " 'output': array([ 4.81230393e-02,  4.93027195e-02, -5.18203005e-02,  5.41870594e-02,\n",
       "        -9.45061892e-02, -1.13490885e-02, -5.95821552e-02, -1.54405425e-03,\n",
       "         4.68024844e-03,  4.47807424e-02, -7.82006420e-03, -5.99132478e-03,\n",
       "         4.09416901e-03, -9.39164758e-02, -1.81693852e-01, -8.93073715e-03,\n",
       "        -1.22359833e-02, -1.04129054e-01,  1.59039465e-03, -3.69612942e-03,\n",
       "        -1.65269081e-03, -5.28625436e-02, -1.29929155e-01,  9.10266861e-03,\n",
       "         1.70873106e-02, -1.49639752e-02,  3.13165672e-02, -5.63836470e-03,\n",
       "        -1.59430683e-01, -2.36199737e-01,  8.26545954e-02,  3.25600281e-02,\n",
       "        -2.37156535e-04, -8.19609538e-02, -4.45142277e-02,  1.22826808e-04,\n",
       "         5.98724708e-02,  1.29803970e-01, -6.88328892e-02, -2.54665703e-01,\n",
       "        -2.05379397e-01,  1.53809355e-03,  1.13511525e-01, -8.95270705e-03,\n",
       "         3.36174294e-02,  8.41280967e-02,  6.66914973e-03,  1.82683557e-01,\n",
       "        -2.36427486e-02, -2.78856256e-03, -4.57632616e-02,  1.74150169e-01,\n",
       "         6.03034685e-04,  2.40795277e-02, -4.62688785e-03, -8.49095806e-02,\n",
       "        -2.63324063e-02,  1.91918314e-02,  9.52830352e-03,  1.10423490e-01,\n",
       "        -2.46379167e-01, -2.86816694e-02,  2.10893244e-01, -1.44349918e-01,\n",
       "         1.49441153e-01,  2.48447843e-02, -1.72070265e-01,  3.79598774e-02,\n",
       "        -1.02743059e-01, -2.86551192e-02, -1.63766425e-02, -2.56591756e-02,\n",
       "        -6.05516285e-02, -1.53730661e-01,  4.15705368e-02, -2.56667793e-01,\n",
       "         5.24580255e-02,  5.53687811e-02,  2.07759216e-01, -6.34820759e-02,\n",
       "         5.60325645e-02,  5.34145422e-02,  3.49549484e-03,  1.33208558e-01,\n",
       "         1.79084048e-01,  8.10879022e-02,  8.13730136e-02,  5.18177971e-02,\n",
       "         9.50343013e-02,  8.16484261e-03,  5.81072122e-02,  1.16516851e-01,\n",
       "        -8.39142352e-02, -6.23683706e-02, -1.54143319e-01,  2.26097107e-02,\n",
       "        -2.37243455e-02, -1.08945787e-01,  8.88756961e-02,  5.35673536e-02,\n",
       "         1.24843761e-01,  5.52479969e-03, -8.07505101e-03,  1.14867967e-02,\n",
       "        -1.48980003e-02, -3.90815772e-02, -3.89101729e-02,  8.58908892e-02,\n",
       "        -8.84445682e-02,  2.04587113e-02, -3.01062204e-02,  1.08809881e-02,\n",
       "        -3.09785071e-04,  4.99584805e-03,  4.96692806e-02,  7.84025341e-02,\n",
       "         2.44391672e-02, -7.81940389e-03, -1.85459363e-03,  6.55319169e-02,\n",
       "        -9.08664092e-02, -3.15848459e-03, -2.31500026e-02, -4.64819968e-02,\n",
       "        -4.81916890e-02, -2.04098374e-02, -2.33142346e-01,  5.83791174e-03,\n",
       "         2.25589219e-02, -4.47147489e-02, -5.63311018e-02, -4.01698276e-02,\n",
       "        -4.36083116e-02,  4.00292268e-03, -8.70914024e-04, -1.03650950e-02,\n",
       "        -2.09254455e-02,  1.30099446e-01, -5.96530270e-03,  5.25035374e-02,\n",
       "        -1.97767038e-02,  2.94299070e-02,  6.27425238e-02, -1.77823789e-02],\n",
       "       dtype=float32)}"
      ]
     },
     "execution_count": 137,
     "metadata": {},
     "output_type": "execute_result"
    }
   ],
   "source": [
    "v"
   ]
  },
  {
   "cell_type": "code",
   "execution_count": null,
   "id": "1ff6c46c-d578-4b24-a9dd-fed394def519",
   "metadata": {},
   "outputs": [],
   "source": [
    "avg_alpha"
   ]
  },
  {
   "cell_type": "code",
   "execution_count": 126,
   "id": "f7432501-45dd-4160-82c3-96f5ba44198d",
   "metadata": {},
   "outputs": [],
   "source": [
    "for layer, layer_df in df.groupby(\"layer\"):\n",
    "  break"
   ]
  },
  {
   "cell_type": "code",
   "execution_count": null,
   "id": "4cd68a49-fecb-4180-91ee-0bf18f6fa8b4",
   "metadata": {},
   "outputs": [
    {
     "data": {
      "text/plain": [
       "<AxesSubplot:xlabel='in_val', ylabel='Count'>"
      ]
     },
     "execution_count": 127,
     "metadata": {},
     "output_type": "execute_result"
    },
    {
     "data": {
      "image/png": "[encoded data removed]",
      "text/plain": [
       "<Figure size 432x288 with 1 Axes>"
      ]
     },
     "metadata": {
      "image/png": {
       "height": 262,
       "width": 382
      },
      "needs_background": "light"
     },
     "output_type": "display_data"
    }
   ],
   "source": [
    "sns.histplot(x=\"in_val\", hue=\"t\", binwidth=0.1, alpha=0.3, data=layer_df)"
   ]
  },
  {
   "cell_type": "code",
   "execution_count": 116,
   "id": "61a0d909-0d12-41d0-80cf-756373d9e6d1",
   "metadata": {},
   "outputs": [
    {
     "data": {
      "text/plain": [
       "<AxesSubplot:xlabel='out_val', ylabel='Count'>"
      ]
     },
     "execution_count": 128,
     "metadata": {},
     "output_type": "execute_result"
    },
    {
     "data": {
      "image/png": "[encoded data removed]",
      "text/plain": [
       "<Figure size 432x288 with 1 Axes>"
      ]
     },
     "metadata": {
      "image/png": {
       "height": 262,
       "width": 382
      },
      "needs_background": "light"
     },
     "output_type": "display_data"
    }
   ],
   "source": [
    "sns.histplot(x=\"out_val\", hue=\"t\", binwidth=0.05, alpha=0.3, data=layer_df)"
   ]
  },
  {
   "cell_type": "code",
   "execution_count": 118,
   "id": "aaff3221-a255-4129-85a6-bf8d7586774a",
   "metadata": {},
   "outputs": [
    {
     "data": {
      "image/png": "[encoded data removed]",
      "text/plain": [
       "<Figure size 432x288 with 1 Axes>"
      ]
     },
     "metadata": {
      "image/png": {
       "height": 262,
       "width": 382
      },
      "needs_background": "light"
     },
     "output_type": "display_data"
    },
    {
     "data": {
      "image/png": "[encoded data removed]",
      "text/plain": [
       "<Figure size 432x288 with 1 Axes>"
      ]
     },
     "metadata": {
      "image/png": {
       "height": 262,
       "width": 382
      },
      "needs_background": "light"
     },
     "output_type": "display_data"
    },
    {
     "data": {
      "image/png": "[encoded data removed]",
      "text/plain": [
       "<Figure size 432x288 with 1 Axes>"
      ]
     },
     "metadata": {
      "image/png": {
       "height": 262,
       "width": 382
      },
      "needs_background": "light"
     },
     "output_type": "display_data"
    },
    {
     "data": {
      "image/png": "[encoded data removed]",
      "text/plain": [
       "<Figure size 432x288 with 1 Axes>"
      ]
     },
     "metadata": {
      "image/png": {
       "height": 262,
       "width": 382
      },
      "needs_background": "light"
     },
     "output_type": "display_data"
    },
    {
     "data": {
      "image/png": "[encoded data removed]",
      "text/plain": [
       "<Figure size 432x288 with 1 Axes>"
      ]
     },
     "metadata": {
      "image/png": {
       "height": 262,
       "width": 382
      },
      "needs_background": "light"
     },
     "output_type": "display_data"
    },
    {
     "data": {
      "image/png": "[encoded data removed]",
      "text/plain": [
       "<Figure size 432x288 with 1 Axes>"
      ]
     },
     "metadata": {
      "image/png": {
       "height": 262,
       "width": 382
      },
      "needs_background": "light"
     },
     "output_type": "display_data"
    },
    {
     "data": {
      "text/plain": [
       "<Figure size 432x288 with 0 Axes>"
      ]
     },
     "metadata": {},
     "output_type": "display_data"
    }
   ],
   "source": [
    "for t, t_df in layer_df.groupby(\"t\"):\n",
    "  sns.histplot(x=\"out_val\", data=t_df, binwidth=0.05, alpha=0.3)\n",
    "  plt.show()\n",
    "  plt.clf()"
   ]
  },
  {
   "cell_type": "code",
   "execution_count": 110,
   "id": "cde800d0-bd60-4da3-9d62-93c7f2be8f0b",
   "metadata": {},
   "outputs": [
    {
     "data": {
      "text/html": [
       "<div>\n",
       "<style scoped>\n",
       "    .dataframe tbody tr th:only-of-type {\n",
       "        vertical-align: middle;\n",
       "    }\n",
       "\n",
       "    .dataframe tbody tr th {\n",
       "        vertical-align: top;\n",
       "    }\n",
       "\n",
       "    .dataframe thead th {\n",
       "        text-align: right;\n",
       "    }\n",
       "</style>\n",
       "<table border=\"1\" class=\"dataframe\">\n",
       "  <thead>\n",
       "    <tr style=\"text-align: right;\">\n",
       "      <th></th>\n",
       "      <th>in_val</th>\n",
       "      <th>out_val</th>\n",
       "      <th>layer</th>\n",
       "      <th>t</th>\n",
       "    </tr>\n",
       "  </thead>\n",
       "  <tbody>\n",
       "    <tr>\n",
       "      <th>0</th>\n",
       "      <td>0.777671</td>\n",
       "      <td>0.048123</td>\n",
       "      <td>hgs.0.encode_1.0.identity_mapping</td>\n",
       "      <td>0</td>\n",
       "    </tr>\n",
       "    <tr>\n",
       "      <th>1</th>\n",
       "      <td>1.592318</td>\n",
       "      <td>0.049303</td>\n",
       "      <td>hgs.0.encode_1.0.identity_mapping</td>\n",
       "      <td>0</td>\n",
       "    </tr>\n",
       "    <tr>\n",
       "      <th>2</th>\n",
       "      <td>-0.623521</td>\n",
       "      <td>-0.051820</td>\n",
       "      <td>hgs.0.encode_1.0.identity_mapping</td>\n",
       "      <td>0</td>\n",
       "    </tr>\n",
       "    <tr>\n",
       "      <th>3</th>\n",
       "      <td>0.350525</td>\n",
       "      <td>0.054187</td>\n",
       "      <td>hgs.0.encode_1.0.identity_mapping</td>\n",
       "      <td>0</td>\n",
       "    </tr>\n",
       "    <tr>\n",
       "      <th>4</th>\n",
       "      <td>-0.619591</td>\n",
       "      <td>-0.094506</td>\n",
       "      <td>hgs.0.encode_1.0.identity_mapping</td>\n",
       "      <td>0</td>\n",
       "    </tr>\n",
       "  </tbody>\n",
       "</table>\n",
       "</div>"
      ],
      "text/plain": [
       "     in_val   out_val                              layer  t\n",
       "0  0.777671  0.048123  hgs.0.encode_1.0.identity_mapping  0\n",
       "1  1.592318  0.049303  hgs.0.encode_1.0.identity_mapping  0\n",
       "2 -0.623521 -0.051820  hgs.0.encode_1.0.identity_mapping  0\n",
       "3  0.350525  0.054187  hgs.0.encode_1.0.identity_mapping  0\n",
       "4 -0.619591 -0.094506  hgs.0.encode_1.0.identity_mapping  0"
      ]
     },
     "execution_count": 110,
     "metadata": {},
     "output_type": "execute_result"
    }
   ],
   "source": [
    "layer_df.head()"
   ]
  },
  {
   "cell_type": "code",
   "execution_count": null,
   "id": "ac107fde-f0c0-4013-896c-26fa1710f953",
   "metadata": {},
   "outputs": [],
   "source": []
  },
  {
   "cell_type": "code",
   "execution_count": null,
   "id": "c895fc05-6c18-4fe3-a9c0-810ca6dcdcb6",
   "metadata": {},
   "outputs": [],
   "source": [
    "# net = pose_resnet.get_pose_net(config, is_train=False)"
   ]
  },
  {
   "cell_type": "code",
   "execution_count": null,
   "id": "d04eb535-f06b-4402-ba7c-37d65d4e598f",
   "metadata": {},
   "outputs": [],
   "source": [
    "net.timesteps"
   ]
  },
  {
   "cell_type": "code",
   "execution_count": null,
   "id": "d2f3f2aa-8f49-47b6-8f4c-5ec3580f3c9e",
   "metadata": {},
   "outputs": [],
   "source": [
    "n_params = count_parameters(net, trainable=False)\n",
    "print(f\"n_params: {n_params:,}\")"
   ]
  },
  {
   "cell_type": "code",
   "execution_count": null,
   "id": "c09cf4b7-ba1f-4d0a-8180-9043ebca188f",
   "metadata": {},
   "outputs": [],
   "source": [
    "# X = torch.zeros((4, 3, 256, 256))"
   ]
  },
  {
   "cell_type": "code",
   "execution_count": null,
   "id": "627423bc-c797-4d62-976e-fe182cef9686",
   "metadata": {},
   "outputs": [],
   "source": [
    "X = torch.randint(0, 255, (4, 3, 256, 256)) / 255 * 2 - 1\n",
    "X.min(), X.max()"
   ]
  },
  {
   "cell_type": "code",
   "execution_count": null,
   "id": "104f35f4-44ae-4236-9765-a4cfe7ecaabe",
   "metadata": {},
   "outputs": [],
   "source": [
    "o = net(X, 3)"
   ]
  },
  {
   "cell_type": "code",
   "execution_count": null,
   "id": "5ef01ca7-90e4-4218-a780-a2a5ca6b22be",
   "metadata": {},
   "outputs": [],
   "source": [
    "for t in range(net.timesteps):\n",
    "  print(\"T: \", t)\n",
    "  o = net(X, t)\n",
    "  print(\"\\n\")"
   ]
  },
  {
   "cell_type": "code",
   "execution_count": null,
   "id": "40e15f59-26cc-481e-bf6d-dbeeb83da258",
   "metadata": {},
   "outputs": [],
   "source": [
    "outs = []\n",
    "for t in range(net.timesteps):\n",
    "  print(t)\n",
    "  out = net(X, t=t)\n",
    "  outs.append(out)"
   ]
  },
  {
   "cell_type": "code",
   "execution_count": null,
   "id": "d4e5e14f-894b-4fa9-89b7-41b4ef7b5488",
   "metadata": {},
   "outputs": [],
   "source": [
    "for t, out in enumerate(outs):\n",
    "  x1 = out.sum()\n",
    "  print(t, x1)"
   ]
  },
  {
   "cell_type": "code",
   "execution_count": null,
   "id": "aafad3e6-7d63-4302-8d9b-ed1bb55fd002",
   "metadata": {},
   "outputs": [],
   "source": []
  }
 ],
 "metadata": {
  "kernelspec": {
   "display_name": "Python 3",
   "language": "python",
   "name": "python3"
  },
  "language_info": {
   "codemirror_mode": {
    "name": "ipython",
    "version": 3
   },
   "file_extension": ".py",
   "mimetype": "text/x-python",
   "name": "python",
   "nbconvert_exporter": "python",
   "pygments_lexer": "ipython3",
   "version": "3.7.10"
  }
 },
 "nbformat": 4,
 "nbformat_minor": 5
}
