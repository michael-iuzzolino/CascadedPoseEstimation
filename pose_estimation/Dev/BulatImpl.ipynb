{
 "cells": [
  {
   "cell_type": "markdown",
   "id": "c47e670a-6f5c-46dc-8940-fe1a4e2e8636",
   "metadata": {},
   "source": [
    "- https://www.adrianbulat.com/downloads/FG20/fast_human_pose.pdf\n",
    "- https://arxiv.org/pdf/1603.06937.pdf (Figure 4)"
   ]
  },
  {
   "cell_type": "code",
   "execution_count": 1,
   "id": "792bb57f-ba3b-4117-9e53-fe7a8308dd18",
   "metadata": {},
   "outputs": [],
   "source": [
    "%load_ext autoreload\n",
    "%autoreload 2"
   ]
  },
  {
   "cell_type": "code",
   "execution_count": 2,
   "id": "6eb5ef10-edcb-4819-9205-6ef3ee9cf3db",
   "metadata": {},
   "outputs": [],
   "source": [
    "%matplotlib inline"
   ]
  },
  {
   "cell_type": "code",
   "execution_count": 3,
   "id": "d4d91709-1870-49f9-baa4-2ddf358023cc",
   "metadata": {},
   "outputs": [],
   "source": [
    "import os\n",
    "import sys\n",
    "import torch\n",
    "sys.path.append(\"/home/michael/CascadedPoseEstimation/lib\")\n",
    "from core.config import config\n",
    "from core.config import update_config"
   ]
  },
  {
   "cell_type": "code",
   "execution_count": null,
   "id": "6ff376d0-e1d0-4f91-a283-b721991537fb",
   "metadata": {},
   "outputs": [],
   "source": [
    "import models.pose_stacked_hg\n",
    "import torch.nn as nn\n",
    "from typing import Dict, Iterable, Callable\n",
    "from utils.utils import create_logger"
   ]
  },
  {
   "cell_type": "code",
   "execution_count": null,
   "id": "3dd8133a-426e-4ff7-bd24-82889d402793",
   "metadata": {},
   "outputs": [],
   "source": [
    "def count_parameters(model, trainable=False):\n",
    "  if trainable:\n",
    "    return sum(p.numel() for p in model.parameters() if p.requires_grad)\n",
    "  else:\n",
    "    return sum(p.numel() for p in model.parameters())"
   ]
  },
  {
   "cell_type": "code",
   "execution_count": null,
   "id": "0408691e-9303-4064-9d8f-48ef43253da5",
   "metadata": {},
   "outputs": [],
   "source": [
    "def get_state_dict(output_dir, config, logger, use_best=False):\n",
    "  if config.TEST.MODEL_FILE:\n",
    "    logger.info('=> loading model from {}'.format(config.TEST.MODEL_FILE))\n",
    "    state_dict = torch.load(config.TEST.MODEL_FILE)\n",
    "  else:\n",
    "    ckpt_path = os.path.join(output_dir, f\"final_state.pth.tar\")\n",
    "    \n",
    "    if os.path.exists(ckpt_path) and not use_best:\n",
    "      logger.info('=> loading model from {}'.format(ckpt_path))\n",
    "      state_dict = torch.load(ckpt_path)\n",
    "    else:\n",
    "      ckpt_path = os.path.join(output_dir, f\"model_best.pth.tar\")\n",
    "      logger.info('=> loading model from {}'.format(ckpt_path))\n",
    "      state_dict = torch.load(ckpt_path)\n",
    "  \n",
    "  if \"state_dict\" in state_dict:\n",
    "    state_dict = state_dict[\"state_dict\"]\n",
    "#       # Fix\n",
    "#       state_dict = OrderedDict()\n",
    "#       for k, v in state_dict_src.items():\n",
    "#         k = k.replace(\"module.\", \"\")\n",
    "#         state_dict[k] = v\n",
    "        \n",
    "  return state_dict"
   ]
  },
  {
   "cell_type": "code",
   "execution_count": null,
   "id": "ed3ebd2e-df9e-4a6d-b153-b90c4e045748",
   "metadata": {},
   "outputs": [],
   "source": [
    "def load_model(config, output_dir, logger, load=True, load_best_ckpt=True):\n",
    "  # Setup model\n",
    "  model = models.pose_stacked_hg.get_pose_net(config, is_train=False)\n",
    "  if load:\n",
    "    # Load state dict\n",
    "    state_dict = get_state_dict(output_dir, \n",
    "                                config, \n",
    "                                logger, \n",
    "                                use_best=load_best_ckpt)\n",
    "\n",
    "    # Load previous model\n",
    "    model.load_state_dict(state_dict)\n",
    "  return model"
   ]
  },
  {
   "cell_type": "code",
   "execution_count": 74,
   "id": "19e46638-47e3-44db-b663-1dd6bf2b59f4",
   "metadata": {},
   "outputs": [],
   "source": [
    "cfg_paths = [\n",
    "  \"/home/michael/CascadedPoseEstimation/experiments/mpii/hourglass/hourglass_4__td_1__double.yaml\",\n",
    "  \"/home/michael/CascadedPoseEstimation/experiments/mpii/hourglass/hourglass_4__td_1.yaml\",\n",
    "  \"/home/michael/CascadedPoseEstimation/experiments/mpii/hourglass/hourglass_4__td_1__shared_weights.yaml\",\n",
    "]"
   ]
  },
  {
   "cell_type": "code",
   "execution_count": 84,
   "id": "7ae782f9-ca1a-4f37-ac69-3c9185f41034",
   "metadata": {},
   "outputs": [
    {
     "data": {
      "text/plain": [
       "'/home/michael/CascadedPoseEstimation/experiments/mpii/hourglass/hourglass_4__td_1__double.yaml'"
      ]
     },
     "execution_count": 84,
     "metadata": {},
     "output_type": "execute_result"
    }
   ],
   "source": [
    "cfg_path = cfg_paths[0]\n",
    "cfg_path"
   ]
  },
  {
   "cell_type": "code",
   "execution_count": 85,
   "id": "47d5c03d-e75b-4314-b41d-e4b9fa9f0b39",
   "metadata": {},
   "outputs": [
    {
     "data": {
      "text/plain": [
       "{'DOUBLE_STACK': True,\n",
       " 'NUM_DOUBLE_CHANNELS': 144,\n",
       " 'SHARE_HG_WEIGHTS': False,\n",
       " 'TARGET_TYPE': 'gaussian',\n",
       " 'SIGMA': 2,\n",
       " 'HEATMAP_SIZE': array([64, 64]),\n",
       " 'N_HG_STACKS': 4}"
      ]
     },
     "execution_count": 85,
     "metadata": {},
     "output_type": "execute_result"
    }
   ],
   "source": [
    "config[\"MODEL\"][\"EXTRA\"]"
   ]
  },
  {
   "cell_type": "code",
   "execution_count": 91,
   "id": "c5e7bf9e-e3cc-4b1e-b05a-6a63676358b5",
   "metadata": {},
   "outputs": [],
   "source": [
    "update_config(cfg_path)"
   ]
  },
  {
   "cell_type": "code",
   "execution_count": 139,
   "id": "fbcf12fd-5c00-49df-9a9b-1e2bddf6de0f",
   "metadata": {},
   "outputs": [
    {
     "name": "stdout",
     "output_type": "stream",
     "text": [
      "=> creating output/mpii/hourglass_x4__TD_1.0__double\n",
      "=> creating log/mpii/hourglass_x4/hourglass_4__td_1__double_2021-09-25-16-21\n"
     ]
    },
    {
     "data": {
      "text/plain": [
       "'../output/mpii/hourglass_x4__TD_1.0__double'"
      ]
     },
     "execution_count": 139,
     "metadata": {},
     "output_type": "execute_result"
    }
   ],
   "source": [
    "# Setup logger\n",
    "logger, output_dir, tb_log_dir = create_logger(config, cfg_path, 'valid')\n",
    "output_dir = \"../\" + output_dir\n",
    "output_dir"
   ]
  },
  {
   "cell_type": "code",
   "execution_count": 143,
   "id": "56add96e-61c8-408c-8a90-699cf3b41591",
   "metadata": {},
   "outputs": [
    {
     "name": "stdout",
     "output_type": "stream",
     "text": [
      "n_params: 13,180,288\n"
     ]
    }
   ],
   "source": [
    "model = load_model(config, output_dir, logger, load=False, load_best_ckpt=True)\n",
    "n_params = count_parameters(model, trainable=True)\n",
    "print(f\"n_params: {n_params:,}\")"
   ]
  },
  {
   "cell_type": "code",
   "execution_count": 144,
   "id": "341a9817-f3ad-465d-ba06-11a0aa1a35d3",
   "metadata": {},
   "outputs": [],
   "source": [
    "X = torch.zeros((1, 3, 256, 256))"
   ]
  },
  {
   "cell_type": "code",
   "execution_count": 145,
   "id": "ea7aa93d-cb23-488d-b7bb-24f1c7bb303b",
   "metadata": {},
   "outputs": [],
   "source": [
    "out = model(X)"
   ]
  },
  {
   "cell_type": "code",
   "execution_count": 146,
   "id": "a53aeeb8-6799-4048-b493-12930556b02f",
   "metadata": {},
   "outputs": [
    {
     "data": {
      "text/plain": [
       "torch.Size([8, 1, 16, 64, 64])"
      ]
     },
     "execution_count": 146,
     "metadata": {},
     "output_type": "execute_result"
    }
   ],
   "source": [
    "out.shape"
   ]
  },
  {
   "cell_type": "markdown",
   "id": "235d2f4e-ee13-420c-b011-d7215c1e7de6",
   "metadata": {},
   "source": [
    "# Dataset"
   ]
  },
  {
   "cell_type": "code",
   "execution_count": null,
   "id": "75200fdd-65cf-417f-8f7e-f4ab7a961369",
   "metadata": {},
   "outputs": [],
   "source": [
    "import torchvision.transforms as transforms\n",
    "import dataset\n",
    "import numpy as np\n",
    "import matplotlib.pyplot as plt\n",
    "from collections import defaultdict\n",
    "import pandas as pd\n",
    "import seaborn as sns"
   ]
  },
  {
   "cell_type": "code",
   "execution_count": null,
   "id": "87aa1681-55ee-4782-95f9-ff19d297e284",
   "metadata": {},
   "outputs": [],
   "source": [
    "# Data loading code\n",
    "normalize = transforms.Normalize(mean=[0.485, 0.456, 0.406],\n",
    "                                 std=[0.229, 0.224, 0.225])"
   ]
  },
  {
   "cell_type": "code",
   "execution_count": null,
   "id": "ee9d3e73-eee5-45bc-9c84-dc5612f0d5a0",
   "metadata": {},
   "outputs": [],
   "source": [
    "gpus = [0]\n",
    "\n",
    "valid_dataset = eval('dataset.'+config.DATASET.DATASET)(\n",
    "    config,\n",
    "    \"../\" + config.DATASET.ROOT,\n",
    "    config.DATASET.TEST_SET,\n",
    "    False,\n",
    "    transforms.Compose([\n",
    "        transforms.ToTensor(),\n",
    "        normalize,\n",
    "    ])\n",
    ")\n",
    "valid_loader = torch.utils.data.DataLoader(\n",
    "    valid_dataset,\n",
    "    batch_size=config.TEST.BATCH_SIZE*len(gpus),\n",
    "    shuffle=False,\n",
    "    num_workers=config.WORKERS,\n",
    "    pin_memory=True\n",
    ")"
   ]
  },
  {
   "cell_type": "code",
   "execution_count": null,
   "id": "1bbd6f25-81fa-4fbc-a402-aeb89881035a",
   "metadata": {},
   "outputs": [],
   "source": [
    "for X, y, z, h in valid_loader:\n",
    "  break"
   ]
  },
  {
   "cell_type": "markdown",
   "id": "0714c4ad-0d5d-448b-a93e-af6c7e55f197",
   "metadata": {},
   "source": [
    "# Model"
   ]
  },
  {
   "cell_type": "code",
   "execution_count": null,
   "id": "6eb52b18-3104-4f2c-b975-db09c6d3d24e",
   "metadata": {},
   "outputs": [],
   "source": [
    "# config['MODEL']['EXTRA']['CASCADED_SCHEME'] = 'parallel'"
   ]
  },
  {
   "cell_type": "code",
   "execution_count": null,
   "id": "a22abeac-6b50-40b2-aaa3-b15128f733d0",
   "metadata": {},
   "outputs": [],
   "source": [
    "class FeatureExtractor(nn.Module):\n",
    "  def __init__(self, model, layer_suffix=\"identity_mapping\"):\n",
    "    super().__init__()\n",
    "    self.model = model\n",
    "    self.layer_suffix = layer_suffix\n",
    "    self._activation = {}\n",
    "    self.setup()\n",
    "    \n",
    "  def _hook_fxn(self, name):\n",
    "    # the hook signature\n",
    "    # Inputs: model, input, output\n",
    "    def hook(model, input, output):\n",
    "      if self._log_active:\n",
    "        self._activation[name] = {\n",
    "            \"input\": input[0].detach(),\n",
    "            \"output\": output.detach(),\n",
    "        }\n",
    "    return hook\n",
    "\n",
    "  def setup(self):\n",
    "    self.hooks = []\n",
    "    for name, module in self.model.named_modules():\n",
    "      if name.endswith(self.layer_suffix) and \"hg\" in name:\n",
    "        print(f\"Hooking into:\\t{name}\")\n",
    "        hook_i = module.register_forward_hook(self._hook_fxn(name))\n",
    "        self.hooks.append(hook_i)\n",
    "  \n",
    "  def forward(self, x, t=0):\n",
    "    for t_i in range(t+1):\n",
    "      self._log_active = t_i == t\n",
    "      _ = self.model(x, t_i)\n",
    "      \n",
    "    for hook in self.hooks:\n",
    "      hook.remove()\n",
    "    return self._activation"
   ]
  },
  {
   "cell_type": "code",
   "execution_count": null,
   "id": "97a2e18e-346c-48d7-b847-172aae38e746",
   "metadata": {},
   "outputs": [],
   "source": [
    "def avg_results(alpha_features):\n",
    "  alpha_avg = {}\n",
    "  for k, v in alpha_features.items():\n",
    "    in_v = v[\"input\"]\n",
    "    out_v = v[\"output\"]\n",
    "    alpha_avg[k] = {\n",
    "      \"input\": in_v.mean(dim=(0,2,3)).numpy(),\n",
    "      \"output\": out_v.mean(dim=(0,2,3)).numpy(),\n",
    "    }\n",
    "  return alpha_avg"
   ]
  },
  {
   "cell_type": "code",
   "execution_count": null,
   "id": "6cdd9494-7127-4f77-9a11-3784122617c6",
   "metadata": {},
   "outputs": [],
   "source": [
    "def plot_alpha_features(avg_alpha_features, t=0):\n",
    "  n_plots = len(avg_alpha_features)\n",
    "  fig, axes = plt.subplots(n_plots, 1, figsize=(12,4*n_plots))\n",
    "  for i, (k, v) in enumerate(avg_alpha_features.items()):\n",
    "    ax_i = axes[i]\n",
    "    flat_in_v = v[\"input\"]\n",
    "    flat_out_v = v[\"output\"]\n",
    "    df_dict = defaultdict(list)\n",
    "    for v in flat_in_v:\n",
    "      df_dict[\"key\"].append(\"in\")\n",
    "      df_dict[\"val\"].append(v)\n",
    "    for v in flat_out_v:\n",
    "      df_dict[\"key\"].append(\"out\")\n",
    "      df_dict[\"val\"].append(v)\n",
    "    layer_df = pd.DataFrame(df_dict)\n",
    "    g = sns.histplot(x=\"val\", \n",
    "                     hue=\"key\", \n",
    "                     binwidth=0.05,\n",
    "                     data=layer_df, \n",
    "                     stat=\"probability\",\n",
    "                     ax=ax_i)\n",
    "    ax_i.set_xlim((-1.5, 1.5))\n",
    "    \n",
    "    title = f\"{k} (t={t})\"\n",
    "    ax_i.set_title(title)\n",
    "  plt.tight_layout()"
   ]
  },
  {
   "cell_type": "code",
   "execution_count": null,
   "id": "9d996310-f508-4fdb-8d6a-6dfd4cec54e9",
   "metadata": {},
   "outputs": [],
   "source": [
    "# skip_conv_feature_extractor = FeatureExtractor(model, layer_suffix=\"identity_mapping.skip_conv\")\n",
    "# skip_conv_features = skip_conv_feature_extractor(X, t=0)"
   ]
  },
  {
   "cell_type": "code",
   "execution_count": null,
   "id": "49072aa3-b10f-455b-8696-6ca49a33675f",
   "metadata": {},
   "outputs": [],
   "source": [
    "def check_same(prev_avg_alpha, prev_vals):\n",
    "  for k, prev_vals in prev_avg_alpha.items():\n",
    "    for key, prev_val in prev_vals.items():\n",
    "      v = avg_alpha[k][key]\n",
    "      if np.all(v == prev_val):\n",
    "        print(f\"{k} {key} All same!\")"
   ]
  },
  {
   "cell_type": "code",
   "execution_count": null,
   "id": "1c7e6198-1735-42f5-98ea-c0c056e006e6",
   "metadata": {},
   "outputs": [],
   "source": [
    "df_dict = defaultdict(list)\n",
    "n_timesteps = model.timesteps\n",
    "prev_avg_alpha = None\n",
    "for t in range(n_timesteps):\n",
    "  model = load_model(config, output_dir, logger, load_best_ckpt=True)\n",
    "  print(f\"t={t}/{n_timesteps}...\")\n",
    "  alpha_feature_extractor = FeatureExtractor(model, layer_suffix=\"identity_mapping\")\n",
    "  alpha_features = alpha_feature_extractor(X, t=t)\n",
    "  avg_alpha = avg_results(alpha_features)\n",
    "  if prev_avg_alpha is not None:\n",
    "    check_same(prev_avg_alpha, prev_vals)\n",
    "  prev_avg_alpha = avg_alpha\n",
    "  # plot_alpha_features(avg_alpha, t=t)\n",
    "  for layer_key, layer_vals in avg_alpha.items():\n",
    "    for in_val, out_val in zip(layer_vals[\"input\"], layer_vals[\"output\"]):\n",
    "      df_dict[\"in_val\"].append(in_val)\n",
    "      df_dict[\"out_val\"].append(out_val)\n",
    "      df_dict[\"layer\"].append(layer_key)\n",
    "      df_dict[\"t\"].append(t)\n",
    "    \n",
    "  del model\n",
    "  del alpha_feature_extractor\n",
    "df = pd.DataFrame(df_dict)"
   ]
  },
  {
   "cell_type": "code",
   "execution_count": null,
   "id": "21c6d5a3-8826-4d3e-b9e1-77303a248864",
   "metadata": {},
   "outputs": [],
   "source": []
  },
  {
   "cell_type": "code",
   "execution_count": null,
   "id": "32ae6e44-27b2-4b2a-b57b-b4e996f87c57",
   "metadata": {},
   "outputs": [],
   "source": []
  },
  {
   "cell_type": "code",
   "execution_count": null,
   "id": "3a29f28b-47a4-4c7e-ac4c-121be573fddc",
   "metadata": {},
   "outputs": [],
   "source": []
  },
  {
   "cell_type": "code",
   "execution_count": null,
   "id": "e52b7d52-536c-49e1-a5e9-a82b5100559e",
   "metadata": {},
   "outputs": [],
   "source": []
  },
  {
   "cell_type": "code",
   "execution_count": null,
   "id": "1f5ba838-f23d-4e91-876d-ec404ee5b79f",
   "metadata": {},
   "outputs": [],
   "source": [
    "prev_val"
   ]
  },
  {
   "cell_type": "code",
   "execution_count": null,
   "id": "17673d36-0b78-49dc-90a2-27470d2c5d62",
   "metadata": {},
   "outputs": [],
   "source": [
    "prev_v"
   ]
  },
  {
   "cell_type": "code",
   "execution_count": null,
   "id": "3012b817-f215-4f9e-a117-0465b93c895d",
   "metadata": {},
   "outputs": [],
   "source": [
    "v"
   ]
  },
  {
   "cell_type": "code",
   "execution_count": null,
   "id": "1ff6c46c-d578-4b24-a9dd-fed394def519",
   "metadata": {},
   "outputs": [],
   "source": [
    "avg_alpha"
   ]
  },
  {
   "cell_type": "code",
   "execution_count": null,
   "id": "f7432501-45dd-4160-82c3-96f5ba44198d",
   "metadata": {},
   "outputs": [],
   "source": [
    "for layer, layer_df in df.groupby(\"layer\"):\n",
    "  break"
   ]
  },
  {
   "cell_type": "code",
   "execution_count": null,
   "id": "4cd68a49-fecb-4180-91ee-0bf18f6fa8b4",
   "metadata": {},
   "outputs": [],
   "source": [
    "sns.histplot(x=\"in_val\", hue=\"t\", binwidth=0.1, alpha=0.3, data=layer_df)"
   ]
  },
  {
   "cell_type": "code",
   "execution_count": null,
   "id": "61a0d909-0d12-41d0-80cf-756373d9e6d1",
   "metadata": {},
   "outputs": [],
   "source": [
    "sns.histplot(x=\"out_val\", hue=\"t\", binwidth=0.05, alpha=0.3, data=layer_df)"
   ]
  },
  {
   "cell_type": "code",
   "execution_count": null,
   "id": "aaff3221-a255-4129-85a6-bf8d7586774a",
   "metadata": {},
   "outputs": [],
   "source": [
    "for t, t_df in layer_df.groupby(\"t\"):\n",
    "  sns.histplot(x=\"out_val\", data=t_df, binwidth=0.05, alpha=0.3)\n",
    "  plt.show()\n",
    "  plt.clf()"
   ]
  },
  {
   "cell_type": "code",
   "execution_count": null,
   "id": "cde800d0-bd60-4da3-9d62-93c7f2be8f0b",
   "metadata": {},
   "outputs": [],
   "source": [
    "layer_df.head()"
   ]
  },
  {
   "cell_type": "code",
   "execution_count": null,
   "id": "ac107fde-f0c0-4013-896c-26fa1710f953",
   "metadata": {},
   "outputs": [],
   "source": []
  },
  {
   "cell_type": "code",
   "execution_count": null,
   "id": "c895fc05-6c18-4fe3-a9c0-810ca6dcdcb6",
   "metadata": {},
   "outputs": [],
   "source": [
    "# net = pose_resnet.get_pose_net(config, is_train=False)"
   ]
  },
  {
   "cell_type": "code",
   "execution_count": null,
   "id": "d04eb535-f06b-4402-ba7c-37d65d4e598f",
   "metadata": {},
   "outputs": [],
   "source": [
    "net.timesteps"
   ]
  },
  {
   "cell_type": "code",
   "execution_count": null,
   "id": "d2f3f2aa-8f49-47b6-8f4c-5ec3580f3c9e",
   "metadata": {},
   "outputs": [],
   "source": [
    "n_params = count_parameters(net, trainable=False)\n",
    "print(f\"n_params: {n_params:,}\")"
   ]
  },
  {
   "cell_type": "code",
   "execution_count": null,
   "id": "c09cf4b7-ba1f-4d0a-8180-9043ebca188f",
   "metadata": {},
   "outputs": [],
   "source": [
    "# X = torch.zeros((4, 3, 256, 256))"
   ]
  },
  {
   "cell_type": "code",
   "execution_count": null,
   "id": "627423bc-c797-4d62-976e-fe182cef9686",
   "metadata": {},
   "outputs": [],
   "source": [
    "X = torch.randint(0, 255, (4, 3, 256, 256)) / 255 * 2 - 1\n",
    "X.min(), X.max()"
   ]
  },
  {
   "cell_type": "code",
   "execution_count": null,
   "id": "104f35f4-44ae-4236-9765-a4cfe7ecaabe",
   "metadata": {},
   "outputs": [],
   "source": [
    "o = net(X, 3)"
   ]
  },
  {
   "cell_type": "code",
   "execution_count": null,
   "id": "5ef01ca7-90e4-4218-a780-a2a5ca6b22be",
   "metadata": {},
   "outputs": [],
   "source": [
    "for t in range(net.timesteps):\n",
    "  print(\"T: \", t)\n",
    "  o = net(X, t)\n",
    "  print(\"\\n\")"
   ]
  },
  {
   "cell_type": "code",
   "execution_count": null,
   "id": "40e15f59-26cc-481e-bf6d-dbeeb83da258",
   "metadata": {},
   "outputs": [],
   "source": [
    "outs = []\n",
    "for t in range(net.timesteps):\n",
    "  print(t)\n",
    "  out = net(X, t=t)\n",
    "  outs.append(out)"
   ]
  },
  {
   "cell_type": "code",
   "execution_count": null,
   "id": "d4e5e14f-894b-4fa9-89b7-41b4ef7b5488",
   "metadata": {},
   "outputs": [],
   "source": [
    "for t, out in enumerate(outs):\n",
    "  x1 = out.sum()\n",
    "  print(t, x1)"
   ]
  },
  {
   "cell_type": "code",
   "execution_count": null,
   "id": "aafad3e6-7d63-4302-8d9b-ed1bb55fd002",
   "metadata": {},
   "outputs": [],
   "source": []
  }
 ],
 "metadata": {
  "kernelspec": {
   "display_name": "Python 3",
   "language": "python",
   "name": "python3"
  },
  "language_info": {
   "codemirror_mode": {
    "name": "ipython",
    "version": 3
   },
   "file_extension": ".py",
   "mimetype": "text/x-python",
   "name": "python",
   "nbconvert_exporter": "python",
   "pygments_lexer": "ipython3",
   "version": "3.7.10"
  }
 },
 "nbformat": 4,
 "nbformat_minor": 5
}
