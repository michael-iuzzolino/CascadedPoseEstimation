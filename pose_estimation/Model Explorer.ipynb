{
 "cells": [
  {
   "cell_type": "code",
   "execution_count": 1,
   "id": "792bb57f-ba3b-4117-9e53-fe7a8308dd18",
   "metadata": {},
   "outputs": [],
   "source": [
    "%load_ext autoreload\n",
    "%autoreload 2"
   ]
  },
  {
   "cell_type": "code",
   "execution_count": 2,
   "id": "d4d91709-1870-49f9-baa4-2ddf358023cc",
   "metadata": {},
   "outputs": [
    {
     "name": "stdout",
     "output_type": "stream",
     "text": [
      "this_dir:  /home/michael/CascadedPoseEstimation/pose_estimation\n",
      "lib_path:  /home/michael/CascadedPoseEstimation/lib\n"
     ]
    }
   ],
   "source": [
    "import os\n",
    "import sys\n",
    "import numpy as np\n",
    "import glob\n",
    "import torch\n",
    "import yaml\n",
    "\n",
    "import _init_paths\n",
    "import models.pose_resnet\n",
    "import models.unet\n",
    "import models.cascaded_pose_resnet"
   ]
  },
  {
   "cell_type": "code",
   "execution_count": 3,
   "id": "7acdf794-5284-4797-a682-e965e37d4623",
   "metadata": {},
   "outputs": [],
   "source": [
    "roots = glob.glob(f\"../output/mpii/*resnet_18*\")\n",
    "for root in roots:\n",
    "  final_path = os.path.join(root, \"final_state.pth.tar\")\n",
    "  best_path = os.path.join(root, \"model_best.pth.tar\")\n",
    "  break"
   ]
  },
  {
   "cell_type": "code",
   "execution_count": 4,
   "id": "13b50332-ab2c-40c7-a4fa-0a4a77852a36",
   "metadata": {},
   "outputs": [
    {
     "data": {
      "text/plain": [
       "'../output/mpii/pose_resnet_18__cascaded_td(1.0)__parallel'"
      ]
     },
     "execution_count": 4,
     "metadata": {},
     "output_type": "execute_result"
    }
   ],
   "source": [
    "root"
   ]
  },
  {
   "cell_type": "code",
   "execution_count": 5,
   "id": "fe55447c-630b-4222-9846-aa47067f0378",
   "metadata": {},
   "outputs": [
    {
     "data": {
      "text/plain": [
       "['../experiments/mpii/resnet18/cascaded__td_0_parallel.yaml',\n",
       " '../experiments/mpii/resnet18/cascaded__td_1_serial.yaml',\n",
       " '../experiments/mpii/resnet18/cascaded__td_0_5_parallel.yaml',\n",
       " '../experiments/mpii/resnet18/baseline.yaml',\n",
       " '../experiments/mpii/resnet18/cascaded__td_1_parallel.yaml']"
      ]
     },
     "execution_count": 5,
     "metadata": {},
     "output_type": "execute_result"
    }
   ],
   "source": [
    "config_paths = glob.glob(f\"../experiments/mpii/resnet18/*\")\n",
    "config_paths"
   ]
  },
  {
   "cell_type": "code",
   "execution_count": 6,
   "id": "20ca21b8-7f8c-4f3d-a5ee-82fab35b1ada",
   "metadata": {},
   "outputs": [
    {
     "data": {
      "text/plain": [
       "'../experiments/mpii/resnet18/cascaded__td_1_parallel.yaml'"
      ]
     },
     "execution_count": 6,
     "metadata": {},
     "output_type": "execute_result"
    }
   ],
   "source": [
    "config_path = config_paths[-1]\n",
    "config_path"
   ]
  },
  {
   "cell_type": "code",
   "execution_count": 7,
   "id": "510232c2-f7a5-48f0-b594-af4eba1c0547",
   "metadata": {},
   "outputs": [
    {
     "name": "stderr",
     "output_type": "stream",
     "text": [
      "/home/michael/anaconda3/envs/pest/lib/python3.7/site-packages/ipykernel_launcher.py:20: YAMLLoadWarning: calling yaml.load() without Loader=... is deprecated, as the default Loader is unsafe. Please read https://msg.pyyaml.org/load for full details.\n"
     ]
    }
   ],
   "source": [
    "class dotdict(dict):\n",
    "    \"\"\"\n",
    "    a dictionary that supports dot notation \n",
    "    as well as dictionary access notation \n",
    "    usage: d = DotDict() or d = DotDict({'val1':'first'})\n",
    "    set attributes: d.val2 = 'second' or d['val2'] = 'second'\n",
    "    get attributes: d.val2 or d['val2']\n",
    "    \"\"\"\n",
    "    __getattr__ = dict.__getitem__\n",
    "    __setattr__ = dict.__setitem__\n",
    "    __delattr__ = dict.__delitem__\n",
    "\n",
    "    def __init__(self, dct):\n",
    "        for key, value in dct.items():\n",
    "            if hasattr(value, 'keys'):\n",
    "                value = dotdict(value)\n",
    "            self[key] = value\n",
    "    \n",
    "with open(config_path, \"r\") as infile:\n",
    "  config = dotdict(yaml.load(infile))"
   ]
  },
  {
   "cell_type": "code",
   "execution_count": 8,
   "id": "f3810da8-b7d5-4922-8ab2-7d0e6c24bb48",
   "metadata": {},
   "outputs": [],
   "source": [
    "final = torch.load(final_path)\n",
    "best = torch.load(best_path)"
   ]
  },
  {
   "cell_type": "code",
   "execution_count": 9,
   "id": "7d8c21a5-658b-4c0c-80e3-b63381372ed3",
   "metadata": {},
   "outputs": [],
   "source": [
    "# Setup model\n",
    "if config.MODEL.NAME == \"pose_resnet\":\n",
    "  if config.MODEL.CASCADED:\n",
    "    model = models.cascaded_pose_resnet.get_pose_net(config, is_train=True)\n",
    "  else:\n",
    "    model = models.pose_resnet.get_pose_net(config, is_train=True)\n",
    "elif config.MODEL.NAME == \"unet\":\n",
    "    model = models.unet.get_pose_net(config, is_train=True)\n",
    "\n",
    "if config.MODEL.CASCADED:\n",
    "    config.MODEL.N_TIMESTEPS = model.timesteps"
   ]
  },
  {
   "cell_type": "code",
   "execution_count": 15,
   "id": "caa2f1bd-9b9d-4386-ab46-c01bf79c2fc4",
   "metadata": {},
   "outputs": [],
   "source": [
    "from collections import OrderedDict"
   ]
  },
  {
   "cell_type": "code",
   "execution_count": 18,
   "id": "de8240ef-fd5a-45f9-ae3e-8a5755b80b08",
   "metadata": {},
   "outputs": [],
   "source": [
    "new_state_dict = OrderedDict()\n",
    "for k, v in best.items():\n",
    "  k = k.replace(\"module.\", \"\")\n",
    "  new_state_dict[k] = v"
   ]
  },
  {
   "cell_type": "code",
   "execution_count": 19,
   "id": "cdd7913e-de1f-495a-a440-fddbfb39b846",
   "metadata": {},
   "outputs": [
    {
     "data": {
      "text/plain": [
       "<All keys matched successfully>"
      ]
     },
     "execution_count": 19,
     "metadata": {},
     "output_type": "execute_result"
    }
   ],
   "source": [
    "model.load_state_dict(new_state_dict)"
   ]
  },
  {
   "cell_type": "code",
   "execution_count": 20,
   "id": "52d3808b-46d8-4e29-9161-fa47cdf6bd06",
   "metadata": {},
   "outputs": [
    {
     "ename": "AttributeError",
     "evalue": "'collections.OrderedDict' object has no attribute 'state_dict'",
     "output_type": "error",
     "traceback": [
      "\u001b[0;31m---------------------------------------------------------------------------\u001b[0m",
      "\u001b[0;31mAttributeError\u001b[0m                            Traceback (most recent call last)",
      "\u001b[0;32m<ipython-input-20-182ea7f260ed>\u001b[0m in \u001b[0;36m<module>\u001b[0;34m\u001b[0m\n\u001b[0;32m----> 1\u001b[0;31m \u001b[0mbest\u001b[0m\u001b[0;34m.\u001b[0m\u001b[0mstate_dict\u001b[0m\u001b[0;34m\u001b[0m\u001b[0;34m\u001b[0m\u001b[0m\n\u001b[0m",
      "\u001b[0;31mAttributeError\u001b[0m: 'collections.OrderedDict' object has no attribute 'state_dict'"
     ]
    }
   ],
   "source": []
  },
  {
   "cell_type": "code",
   "execution_count": 17,
   "id": "f6b01c88-46f6-4c9e-b41f-68e055a73fda",
   "metadata": {},
   "outputs": [
    {
     "data": {
      "text/plain": [
       "odict_keys(['layer0.conv1.weight', 'layer0.bn1.weight', 'layer0.bn1.bias', 'layer0.bn1.running_mean', 'layer0.bn1.running_var', 'layer0.bn1.num_batches_tracked', 'layer1.0.conv1.weight', 'layer1.0.bn1.weight', 'layer1.0.bn1.bias', 'layer1.0.bn1.running_mean', 'layer1.0.bn1.running_var', 'layer1.0.bn1.num_batches_tracked', 'layer1.0.conv2.weight', 'layer1.0.bn2.weight', 'layer1.0.bn2.bias', 'layer1.0.bn2.running_mean', 'layer1.0.bn2.running_var', 'layer1.0.bn2.num_batches_tracked', 'layer1.1.conv1.weight', 'layer1.1.bn1.weight', 'layer1.1.bn1.bias', 'layer1.1.bn1.running_mean', 'layer1.1.bn1.running_var', 'layer1.1.bn1.num_batches_tracked', 'layer1.1.conv2.weight', 'layer1.1.bn2.weight', 'layer1.1.bn2.bias', 'layer1.1.bn2.running_mean', 'layer1.1.bn2.running_var', 'layer1.1.bn2.num_batches_tracked', 'layer2.0.downsample.0.weight', 'layer2.0.conv1.weight', 'layer2.0.bn1.weight', 'layer2.0.bn1.bias', 'layer2.0.bn1.running_mean', 'layer2.0.bn1.running_var', 'layer2.0.bn1.num_batches_tracked', 'layer2.0.conv2.weight', 'layer2.0.bn2.weight', 'layer2.0.bn2.bias', 'layer2.0.bn2.running_mean', 'layer2.0.bn2.running_var', 'layer2.0.bn2.num_batches_tracked', 'layer2.1.conv1.weight', 'layer2.1.bn1.weight', 'layer2.1.bn1.bias', 'layer2.1.bn1.running_mean', 'layer2.1.bn1.running_var', 'layer2.1.bn1.num_batches_tracked', 'layer2.1.conv2.weight', 'layer2.1.bn2.weight', 'layer2.1.bn2.bias', 'layer2.1.bn2.running_mean', 'layer2.1.bn2.running_var', 'layer2.1.bn2.num_batches_tracked', 'layer3.0.downsample.0.weight', 'layer3.0.conv1.weight', 'layer3.0.bn1.weight', 'layer3.0.bn1.bias', 'layer3.0.bn1.running_mean', 'layer3.0.bn1.running_var', 'layer3.0.bn1.num_batches_tracked', 'layer3.0.conv2.weight', 'layer3.0.bn2.weight', 'layer3.0.bn2.bias', 'layer3.0.bn2.running_mean', 'layer3.0.bn2.running_var', 'layer3.0.bn2.num_batches_tracked', 'layer3.1.conv1.weight', 'layer3.1.bn1.weight', 'layer3.1.bn1.bias', 'layer3.1.bn1.running_mean', 'layer3.1.bn1.running_var', 'layer3.1.bn1.num_batches_tracked', 'layer3.1.conv2.weight', 'layer3.1.bn2.weight', 'layer3.1.bn2.bias', 'layer3.1.bn2.running_mean', 'layer3.1.bn2.running_var', 'layer3.1.bn2.num_batches_tracked', 'layer4.0.downsample.0.weight', 'layer4.0.conv1.weight', 'layer4.0.bn1.weight', 'layer4.0.bn1.bias', 'layer4.0.bn1.running_mean', 'layer4.0.bn1.running_var', 'layer4.0.bn1.num_batches_tracked', 'layer4.0.conv2.weight', 'layer4.0.bn2.weight', 'layer4.0.bn2.bias', 'layer4.0.bn2.running_mean', 'layer4.0.bn2.running_var', 'layer4.0.bn2.num_batches_tracked', 'layer4.1.conv1.weight', 'layer4.1.bn1.weight', 'layer4.1.bn1.bias', 'layer4.1.bn1.running_mean', 'layer4.1.bn1.running_var', 'layer4.1.bn1.num_batches_tracked', 'layer4.1.conv2.weight', 'layer4.1.bn2.weight', 'layer4.1.bn2.bias', 'layer4.1.bn2.running_mean', 'layer4.1.bn2.running_var', 'layer4.1.bn2.num_batches_tracked', 'deconv_layers.0.weight', 'deconv_layers.1.weight', 'deconv_layers.1.bias', 'deconv_layers.1.running_mean', 'deconv_layers.1.running_var', 'deconv_layers.1.num_batches_tracked', 'deconv_layers.3.weight', 'deconv_layers.4.weight', 'deconv_layers.4.bias', 'deconv_layers.4.running_mean', 'deconv_layers.4.running_var', 'deconv_layers.4.num_batches_tracked', 'deconv_layers.6.weight', 'deconv_layers.7.weight', 'deconv_layers.7.bias', 'deconv_layers.7.running_mean', 'deconv_layers.7.running_var', 'deconv_layers.7.num_batches_tracked', 'final_layer.weight', 'final_layer.bias'])"
      ]
     },
     "execution_count": 17,
     "metadata": {},
     "output_type": "execute_result"
    }
   ],
   "source": [
    "final.keys()"
   ]
  },
  {
   "cell_type": "code",
   "execution_count": 12,
   "id": "68d33f03-ef43-40b8-85ec-79c85d99292a",
   "metadata": {},
   "outputs": [
    {
     "data": {
      "text/plain": [
       "['output/mpii/pose_resnet_18__cascaded_td(1.0)__parallel/model_best.pth.tar',\n",
       " 'output/mpii/pose_resnet_18__cascaded_td(1.0)__parallel/cascaded__td_1_2021-08-18-15-29_valid.log',\n",
       " 'output/mpii/pose_resnet_18__cascaded_td(1.0)__parallel/pred.mat',\n",
       " 'output/mpii/pose_resnet_18__cascaded_td(1.0)__parallel/cascaded__td_1_2021-08-18-12-12_valid.log',\n",
       " 'output/mpii/pose_resnet_18__cascaded_td(1.0)__parallel/checkpoint.pth.tar',\n",
       " 'output/mpii/pose_resnet_18__cascaded_td(1.0)__parallel/cascaded__td_1_2021-08-16-19-31_train.log',\n",
       " 'output/mpii/pose_resnet_18__cascaded_td(1.0)__parallel/pose_resnet.py',\n",
       " 'output/mpii/pose_resnet_18__cascaded_td(1.0)__parallel/final_state.pth.tar',\n",
       " 'output/mpii/pose_resnet_18__cascaded_td(1.0)__parallel/cascaded__td_1_parallel_2021-08-23-10-46_valid.log']"
      ]
     },
     "execution_count": 12,
     "metadata": {},
     "output_type": "execute_result"
    }
   ],
   "source": [
    "glob.glob(f\"{root}/*\")"
   ]
  }
 ],
 "metadata": {
  "kernelspec": {
   "display_name": "Python 3",
   "language": "python",
   "name": "python3"
  },
  "language_info": {
   "codemirror_mode": {
    "name": "ipython",
    "version": 3
   },
   "file_extension": ".py",
   "mimetype": "text/x-python",
   "name": "python",
   "nbconvert_exporter": "python",
   "pygments_lexer": "ipython3",
   "version": "3.7.10"
  }
 },
 "nbformat": 4,
 "nbformat_minor": 5
}
