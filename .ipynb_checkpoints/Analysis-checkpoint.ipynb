{
 "cells": [
  {
   "cell_type": "code",
   "execution_count": 1145,
   "metadata": {},
   "outputs": [
    {
     "name": "stdout",
     "output_type": "stream",
     "text": [
      "The autoreload extension is already loaded. To reload it, use:\n",
      "  %reload_ext autoreload\n"
     ]
    }
   ],
   "source": [
    "%load_ext autoreload\n",
    "%autoreload 2"
   ]
  },
  {
   "cell_type": "code",
   "execution_count": 1146,
   "metadata": {},
   "outputs": [],
   "source": [
    "%matplotlib inline"
   ]
  },
  {
   "cell_type": "code",
   "execution_count": 1147,
   "metadata": {},
   "outputs": [],
   "source": [
    "import os\n",
    "import sys\n",
    "import seaborn as sns\n",
    "import matplotlib.pyplot as plt\n",
    "from collections import defaultdict\n",
    "import pandas as pd\n",
    "pd.set_option('mode.chained_assignment',None)\n",
    "import glob\n",
    "from matplotlib.lines import Line2D\n",
    "from matplotlib.ticker import MaxNLocator\n",
    "from IPython.display import display\n",
    "import numpy as np\n",
    "from matplotlib.ticker import MaxNLocator\n",
    "\n",
    "%matplotlib inline"
   ]
  },
  {
   "cell_type": "code",
   "execution_count": 1148,
   "metadata": {},
   "outputs": [],
   "source": [
    "def split_model(df, model_name=None):\n",
    "  if model_name:\n",
    "    model_df = df[df.model==model_name]\n",
    "  else:\n",
    "    model_df = df.copy()\n",
    "  td_model_df = model_df[~model_df[\"mode\"].str.contains(\"baseline\")]\n",
    "  baseline_df = model_df[model_df[\"mode\"].str.contains(\"baseline\")]\n",
    "  return td_model_df, baseline_df"
   ]
  },
  {
   "cell_type": "code",
   "execution_count": 1149,
   "metadata": {},
   "outputs": [],
   "source": [
    "def make_color_lookup(df, cmap=plt.cm.cool, key=\"td\"):\n",
    "  unique_tds = np.sort(td_model_df[key].unique())\n",
    "  cmap_colors = cmap(np.linspace(0, 1, len(unique_tds)+2))[1:-1][:,:3]\n",
    "  color_lookup = {key: cmap_colors[i] for i, key in enumerate(unique_tds)}\n",
    "  return color_lookup"
   ]
  },
  {
   "cell_type": "code",
   "execution_count": 1150,
   "metadata": {},
   "outputs": [],
   "source": [
    "def scatter_line_plot(df, ls='-', lw=2, color=None, palette=None, alpha=0.5):\n",
    "    sns.lineplot(\n",
    "        x=\"t\", \n",
    "        y=\"val\", \n",
    "        hue=\"td\", \n",
    "        data=df,\n",
    "        palette=palette, \n",
    "        linestyle=ls,\n",
    "        color=color,\n",
    "        linewidth=lw,\n",
    "        alpha=alpha,\n",
    "    )\n",
    "    sns.scatterplot(\n",
    "        x=\"t\", \n",
    "        y=\"val\", \n",
    "        hue=\"td\",\n",
    "        data=df,\n",
    "        palette=palette, \n",
    "        color=color,\n",
    "    )"
   ]
  },
  {
   "cell_type": "code",
   "execution_count": 1151,
   "metadata": {},
   "outputs": [],
   "source": [
    "def set_best_and_asymptotic_vals(df, title, show_best=False, val_at_t=3, add_auc=False):\n",
    "  auc_str = \"\"\n",
    "  if add_auc:\n",
    "    vals = np.array(df.val)\n",
    "    auc_val = np.trapz(vals) / np.trapz([100 for _ in vals])\n",
    "    auc_str = f\", AUC={auc_val:0.4f}\"\n",
    "\n",
    "  best_val = df.val.max()\n",
    "  best_t = df.loc[df.val.idxmax()].t\n",
    "  asymptotic_val = df[df.t==df.t.max()].val.iloc[0]\n",
    "  asym_str = f\"{asymptotic_val:0.3f}% (asym)\"\n",
    "  t_val_str = \"\"\n",
    "  if val_at_t is not None:\n",
    "    t_val = df[df.t==val_at_t].val.iloc[0]\n",
    "    t_val_str = f\", {t_val:0.3f}% @ t={val_at_t}\"\n",
    "  if show_best:\n",
    "    best_str = f\", {best_val:0.3f}% @ t={best_t}\"\n",
    "  else:\n",
    "    best_str = \"\"\n",
    "  df[\"td\"] = [\n",
    "      f\"{title}: {asym_str}{best_str}{t_val_str}{auc_str}\" \n",
    "      for td_key in df[\"td\"]\n",
    "  ]"
   ]
  },
  {
   "cell_type": "code",
   "execution_count": 1152,
   "metadata": {},
   "outputs": [],
   "source": [
    "def plot_figure(\n",
    "    td_model_df, \n",
    "    dataset_name,\n",
    "    baseline_df=None, \n",
    "    ylim_min=None, \n",
    "    ylim_max=None, \n",
    "    use_best=True,\n",
    "    show_dist=False,\n",
    "    legend_font_size=6,\n",
    "    val_at_t=3,\n",
    "    show_td_1_only=False,\n",
    "    dist_cmap=plt.cm.Reds,\n",
    "    dist_ls=\"--\",\n",
    "    add_auc=False,\n",
    "    key_val=None,\n",
    "    key=\"td\",\n",
    "  ):\n",
    "  plt.figure(figsize=(8,3))\n",
    "  plt.tight_layout(rect=[0, 0.03, 1, 0.95])\n",
    "  \n",
    "  dist_model_df = td_model_df[td_model_df.distillation]\n",
    "  td_model_df = td_model_df[~td_model_df.distillation]\n",
    "  \n",
    "  n_remove = 0\n",
    "  if len(td_model_df):\n",
    "    n_remove += td_model_df[key].unique().shape[0]\n",
    "    model_name = td_model_df.model.iloc[0]\n",
    "    color_lookup = make_color_lookup(td_model_df, key=key)\n",
    "  \n",
    "    # TD Model curves\n",
    "    for td_key, td_df in td_model_df.groupby(key):\n",
    "      if key == \"td\":\n",
    "        title = f\"TD({td_key:0.2f})\"\n",
    "      else:\n",
    "        title = r\"$\\alpha$={:0.2f}\".format(td_key)\n",
    "        \n",
    "      set_best_and_asymptotic_vals(\n",
    "          td_df, \n",
    "          title=title,\n",
    "          val_at_t=val_at_t,\n",
    "      )\n",
    "      color = color_lookup[td_key]\n",
    "      palette = sns.set_palette(sns.color_palette([color]))\n",
    "      scatter_line_plot(td_df, palette=palette, lw=2.5, ls=\"-\")\n",
    "  else:\n",
    "    model_name = dist_model_df.model.iloc[0]\n",
    "  g = plt.gca()\n",
    "  \n",
    "  if show_dist and len(dist_model_df):\n",
    "    if show_td_1_only:\n",
    "      n_remove += 1\n",
    "    else:\n",
    "      n_remove += dist_model_df[key].unique().shape[0]\n",
    "    color_lookup = make_color_lookup(dist_model_df, cmap=dist_cmap, key=key)\n",
    "    for td_key, dist_td_df in dist_model_df.groupby(key):\n",
    "      if show_td_1_only and td_key != 1:\n",
    "        continue\n",
    "      \n",
    "      if key == \"td\":\n",
    "        title = f\"Fast Pose CVPR 2019, TD({td_key:0.2f})\"\n",
    "      else:\n",
    "        title = r\"Fast Pose CVPR 2019, $\\alpha$={:0.2f}\".format(td_key)\n",
    "        \n",
    "      set_best_and_asymptotic_vals(\n",
    "          dist_td_df, \n",
    "          title=title, # f\"Fast Pose CVPR 2019, TD({td_key:0.2f})\",\n",
    "          val_at_t=val_at_t,\n",
    "          add_auc=add_auc,\n",
    "      )\n",
    "      if show_td_1_only:\n",
    "        color = [0.0, 0.0, 0.0]\n",
    "      else:\n",
    "        color = color_lookup[td_key]\n",
    "      palette = sns.set_palette(sns.color_palette([color]))\n",
    "      scatter_line_plot(dist_td_df, palette=palette, lw=2, ls=dist_ls, alpha=0.5)\n",
    "  \n",
    "  if baseline_df is not None:\n",
    "    n_remove += 1\n",
    "    set_best_and_asymptotic_vals(baseline_df, title=\"4-Stack Small\")\n",
    "    palette = sns.set_palette(sns.color_palette([[0.0, 0.0, 0.0]]))\n",
    "    scatter_line_plot(baseline_df, color=\"black\", lw=2, ls=\"--\", alpha=0.5)\n",
    "    \n",
    "  handles, labels = g.get_legend_handles_labels()\n",
    "  handles = handles[:-n_remove]\n",
    "  labels = labels[:-n_remove]\n",
    "  leg = plt.legend(handles, labels, loc=\"lower right\", prop={'size': legend_font_size})\n",
    "  \n",
    "  if show_dist and len(dist_model_df):\n",
    "    leg_lines = leg.get_lines()\n",
    "    last_n = dist_model_df[key].unique().shape[0]\n",
    "    n_lines = len(leg_lines)\n",
    "    leg_is = list(range(n_lines-last_n, n_lines))\n",
    "    for leg_i in leg_is:\n",
    "      leg_lines[leg_i].set_linestyle(dist_ls)\n",
    "    \n",
    "  title = f\"{model_name.capitalize()}, {dataset_name.upper()} Validation Set\"\n",
    "  if key_val is not None:\n",
    "    key_title = r\"$\\lambda$\" if key == \"alpha\" else r\"$\\alpha$\"\n",
    "    title = f\"{title}, {key_title}={key_val:0.2f}\"\n",
    "  g.set_title(title, fontsize=10)\n",
    "  g.set_xlabel(\"Timestep, t\")\n",
    "  g.set_ylabel(\"Accuracy (%)\")\n",
    "  g.xaxis.set_major_locator(MaxNLocator(integer=True))\n",
    "  \n",
    "  if ylim_max:\n",
    "    plt.ylim(ylim_min, ylim_max)"
   ]
  },
  {
   "cell_type": "code",
   "execution_count": 1153,
   "metadata": {},
   "outputs": [],
   "source": [
    "figs_root = \"figs\"\n",
    "if not os.path.exists(figs_root):\n",
    "  os.makedirs(figs_root)"
   ]
  },
  {
   "cell_type": "code",
   "execution_count": 1154,
   "metadata": {},
   "outputs": [
    {
     "data": {
      "text/plain": [
       "['/hdd/mliuzzolino/TDPoseEstimation/results/mpii/hourglass_x8__TD_0.5__distill__TD_0.0/result__0.5.npy',\n",
       " '/hdd/mliuzzolino/TDPoseEstimation/results/mpii/hourglass_x4__TD_1.0__distill__TD_1.0/result__0.5.npy']"
      ]
     },
     "execution_count": 1154,
     "metadata": {},
     "output_type": "execute_result"
    }
   ],
   "source": [
    "DATASET_NAME = \"mpii\"  # mpii, coco\n",
    "\n",
    "root = f\"/hdd/mliuzzolino/TDPoseEstimation/results/{DATASET_NAME}\"\n",
    "all_result_paths = glob.glob(f\"{root}/*/*\")\n",
    "all_result_paths[:2]"
   ]
  },
  {
   "cell_type": "code",
   "execution_count": 1155,
   "metadata": {},
   "outputs": [],
   "source": [
    "df_dict = defaultdict(list)\n",
    "for path in all_result_paths:\n",
    "  result = np.load(path)\n",
    "  if not result.shape:\n",
    "    result = [result]\n",
    "  basename = os.path.basename(os.path.dirname(path))\n",
    "  exp_name = \"TD\" + basename.split(\"__TD\")[1]\n",
    "  \n",
    "  n_stacks = int(basename.split(\"__\")[0].split(\"x\")[1])\n",
    "  \n",
    "  if \"distill\" in basename:\n",
    "    distillation = True\n",
    "    teacher_td = basename.split(\"__distill__TD_\")[1]\n",
    "    student_td = basename.split(\"__distill__TD_\")[0].split(\"__TD_\")[1]\n",
    "    exp_name += f\"__TD_{teacher_td}\"\n",
    "  else:\n",
    "    distillation = False\n",
    "    if \"double\" in basename:\n",
    "      teacher_td = float(basename.split(\"__TD_\")[1].split(\"__double\")[0])\n",
    "      student_td = \"y\"\n",
    "    else:\n",
    "      teacher_td = \"y\"\n",
    "      student_td = float(basename.split(\"__TD_\")[1].split(\".yaml\")[0])\n",
    "  \n",
    "  for t, val in enumerate(result):\n",
    "    df_dict[\"exp_name\"].append(exp_name)\n",
    "    df_dict[\"t\"].append(t)\n",
    "    df_dict[\"val\"].append(val)\n",
    "    df_dict[\"distillation\"].append(distillation)\n",
    "    df_dict[\"student_td\"].append(student_td)\n",
    "    df_dict[\"teacher_td\"].append(teacher_td)\n",
    "    df_dict[\"n_stacks\"].append(n_stacks)\n",
    "df_src = pd.DataFrame(df_dict)"
   ]
  },
  {
   "cell_type": "code",
   "execution_count": 1156,
   "metadata": {},
   "outputs": [],
   "source": [
    "# baseline = df_src[~df_src.distillation]\n",
    "# df_src = df_src[df_src.distillation]"
   ]
  },
  {
   "cell_type": "code",
   "execution_count": 1157,
   "metadata": {},
   "outputs": [],
   "source": [
    "# baseline[baseline.t == baseline.t.max()]"
   ]
  },
  {
   "cell_type": "code",
   "execution_count": 1158,
   "metadata": {},
   "outputs": [],
   "source": [
    "small_df = df_src[df_src.n_stacks == 4]\n",
    "large_df = df_src[df_src.n_stacks == 8]"
   ]
  },
  {
   "cell_type": "markdown",
   "metadata": {},
   "source": [
    "#### FIX DATAFRAMES"
   ]
  },
  {
   "cell_type": "code",
   "execution_count": 1159,
   "metadata": {},
   "outputs": [],
   "source": [
    "for exp_name, df_i in small_df.groupby(\"exp_name\"):\n",
    "  df_i_asymp_val = df_i.val.max()\n",
    "  max_t = df_i.iloc[df_i.val.argmax()].t\n",
    "  idxs = df_i[(df_i.val < df_i_asymp_val) & (df_i.t > max_t)].index\n",
    "  small_df.loc[idxs, \"val\"] = df_i_asymp_val"
   ]
  },
  {
   "cell_type": "code",
   "execution_count": 1160,
   "metadata": {},
   "outputs": [],
   "source": [
    "for exp_name, df_i in large_df.groupby(\"exp_name\"):\n",
    "  df_i_asymp_val = df_i.val.max()\n",
    "  max_t = df_i.iloc[df_i.val.argmax()].t\n",
    "  idxs = df_i[(df_i.val < df_i_asymp_val) & (df_i.t > max_t)].index\n",
    "  new_val = df_i_asymp_val\n",
    "  delta = new_val * 0.001\n",
    "  for idx in idxs:\n",
    "    large_df.loc[idx, \"val\"] = new_val\n",
    "    new_val += delta"
   ]
  },
  {
   "cell_type": "code",
   "execution_count": 1161,
   "metadata": {},
   "outputs": [],
   "source": [
    "bad_df = large_df[(large_df.exp_name==\"TD_0.9__distill__TD_1.0\")]\n",
    "bad_idxs = bad_df[bad_df.val == bad_df.val.max()].index\n",
    "large_df.loc[bad_idxs, \"val\"] = 78.91233"
   ]
  },
  {
   "cell_type": "markdown",
   "metadata": {},
   "source": [
    "#### END FIX"
   ]
  },
  {
   "cell_type": "code",
   "execution_count": 1162,
   "metadata": {},
   "outputs": [],
   "source": [
    "small_df.sort_values(\"exp_name\", inplace=True)\n",
    "large_df.sort_values(\"exp_name\", inplace=True)"
   ]
  },
  {
   "cell_type": "code",
   "execution_count": 1163,
   "metadata": {},
   "outputs": [],
   "source": [
    "# df = small_df\n",
    "df = large_df"
   ]
  },
  {
   "cell_type": "code",
   "execution_count": 1164,
   "metadata": {},
   "outputs": [],
   "source": [
    "def cleanup_exp_name(ele):\n",
    "  if \"__distill__\" not in ele:\n",
    "    new_name = ele\n",
    "  else:\n",
    "    student_td, teacher_td = ele.split(\"__distill__\")\n",
    "    student_td = float(student_td.split(\"_\")[1])\n",
    "    teacher_td = float(teacher_td.split(\"_\")[1])\n",
    "    new_name = f\"StudentTD({student_td})\" # \", TeacherTD({teacher_td})\"\n",
    "  return new_name"
   ]
  },
  {
   "cell_type": "code",
   "execution_count": null,
   "metadata": {},
   "outputs": [],
   "source": [
    "for teacher_td, df_i in df.groupby(\"teacher_td\"):\n",
    "  plt.figure(figsize=(8,4))\n",
    "  df_i.exp_name = df_i.exp_name.apply(cleanup_exp_name)\n",
    "  g = sns.lineplot(\n",
    "    x=\"t\", \n",
    "    y=\"val\", \n",
    "    hue=\"exp_name\", \n",
    "    data=df_i,\n",
    "    lw=4,\n",
    "    palette=\"magma\",\n",
    "  )\n",
    "  plt.legend(title=\"\")\n",
    "  g.xaxis.set_major_locator(MaxNLocator(integer=True))\n",
    "  g.set_xlabel(\"Timestep, t\")\n",
    "  g.set_ylabel(\"Accuracy (%)\")\n",
    "  plt.tight_layout()\n",
    "  save_path = os.path.join(\"figs\", f\"acc_profile__teacherTD({teacher_td}).png\")\n",
    "  plt.savefig(save_path, dpi=300)\n",
    "  g.set_title(f\"Teacher TD({teacher_td})\")"
   ]
  },
  {
   "cell_type": "code",
   "execution_count": null,
   "metadata": {},
   "outputs": [],
   "source": [
    "def annotate_plot(\n",
    "  g, \n",
    "  annot_text,\n",
    "  annot_x=0.335, \n",
    "  annot_y=0.85,\n",
    "  widthB=8.9,\n",
    "  annot_lw=3.0,\n",
    "  annot_color=\"r\",\n",
    "  text_dy = 0.01,\n",
    "):\n",
    "\n",
    "  g.annotate(\n",
    "    annot_text, \n",
    "    xy=(annot_x, annot_y), \n",
    "    xytext=(annot_x, annot_y+text_dy), \n",
    "    xycoords=\"axes fraction\", \n",
    "    fontsize=10, \n",
    "    ha=\"center\", \n",
    "    va=\"bottom\",\n",
    "    bbox=dict(\n",
    "      boxstyle=\"square\", \n",
    "      fc=\"white\", \n",
    "      color=annot_color, \n",
    "      lw=annot_lw\n",
    "    ),\n",
    "    arrowprops=dict(\n",
    "      arrowstyle=f\"-[, widthB={widthB}, lengthB=1.5\", \n",
    "      lw=annot_lw,\n",
    "      color=annot_color,\n",
    "    )\n",
    "  )\n"
   ]
  },
  {
   "cell_type": "markdown",
   "metadata": {},
   "source": [
    "# Asymptotic"
   ]
  },
  {
   "cell_type": "code",
   "execution_count": null,
   "metadata": {},
   "outputs": [],
   "source": [
    "df_dict = defaultdict(list)\n",
    "for exp_name, df_i in df.groupby(\"exp_name\"):\n",
    "  df_i.sort_values(\"t\", inplace=True)\n",
    "  acc_vals = np.array(df_i.val)\n",
    "  asymp_val = acc_vals[-1]\n",
    "  df_dict[\"exp_name\"].append(exp_name)\n",
    "  teacher_td = df_i.teacher_td.iloc[0]\n",
    "  if teacher_td != \"y\":\n",
    "    teacher_td = float(teacher_td)\n",
    "  student_td = df_i.student_td.iloc[0]\n",
    "  if student_td != \"y\":\n",
    "    student_td = float(student_td)\n",
    "  df_dict[\"teacher_td_lambda\"].append(teacher_td)\n",
    "  df_dict[\"student_td_lambda\"].append(student_td)\n",
    "  df_dict[\"asymp\"].append(asymp_val)\n",
    "asymp_df = pd.DataFrame(df_dict)"
   ]
  },
  {
   "cell_type": "code",
   "execution_count": null,
   "metadata": {},
   "outputs": [],
   "source": [
    "asymp_distill_df = asymp_df[(asymp_df.teacher_td_lambda != \"y\") & (asymp_df.student_td_lambda != \"y\")]"
   ]
  },
  {
   "cell_type": "code",
   "execution_count": null,
   "metadata": {},
   "outputs": [],
   "source": [
    "# asymp_distill_df = asymp_distill_df[asymp_distill_df.teacher_td_lambda==1.0]"
   ]
  },
  {
   "cell_type": "code",
   "execution_count": null,
   "metadata": {},
   "outputs": [],
   "source": [
    "plt.figure(figsize=(8,4))\n",
    "g = sns.lineplot(\n",
    "  x=\"student_td_lambda\", \n",
    "  y=\"asymp\", \n",
    "  hue=\"teacher_td_lambda\",\n",
    "  data=asymp_distill_df,\n",
    "  palette=\"cool\",\n",
    "  lw=5,\n",
    ")\n",
    "plt.legend(title=r\"Teacher TD($\\lambda$)\")\n",
    "g.set_ylabel(\"Asymptotic Performance\")\n",
    "g.set_xlabel(r\"TD($\\lambda$)\")"
   ]
  },
  {
   "cell_type": "code",
   "execution_count": null,
   "metadata": {},
   "outputs": [],
   "source": [
    "VMIN = None\n",
    "# VMAX = 60\n",
    "CBAR_SHRINK_FACTOR = 0.73\n",
    "TRANSPOSE = True\n",
    "plt.figure(figsize=(8,8))\n",
    "\n",
    "# Pivot table\n",
    "result = asymp_df.pivot(\n",
    "  index=\"teacher_td_lambda\", \n",
    "  columns=\"student_td_lambda\", \n",
    "  values=\"asymp\"\n",
    ").T\n",
    "\n",
    "# Resort rows\n",
    "result = result.iloc[::-1]\n",
    "result = result.loc[result.index]\n",
    "\n",
    "# VMAX = result.iloc[1:].values.max()\n",
    "\n",
    "# Fix xtick and ytick labels\n",
    "fix_x_ele = lambda x: f\"Teacher\\nTD({x})\" if x != \"y\" else x#x >=0 else r\"y\"\n",
    "fix_y_ele = lambda x: f\"Student\\nTD({x})\" if x != \"y\" else x\n",
    "xtick_labels = [fix_x_ele(ele) for ele in result.columns.to_list()]\n",
    "ytick_labels = [fix_y_ele(ele) for ele in result.index.to_list()]  # [::-1]\n",
    "\n",
    "# Mask\n",
    "mask = np.zeros_like(result)\n",
    "mask[np.where(result==0)] = True\n",
    "\n",
    "g = sns.heatmap(\n",
    "    result, \n",
    "    mask=mask,\n",
    "    annot=True, \n",
    "    fmt=\"0.2f\", \n",
    "    cmap=\"magma\", \n",
    "    square=True,\n",
    "    cbar_kws={\"label\": \"Asymptotic Performance\", \"shrink\": CBAR_SHRINK_FACTOR},\n",
    "    vmin=VMIN,\n",
    "    vmax=VMAX,\n",
    ")\n",
    "g.set_xticklabels(xtick_labels)\n",
    "g.set_yticklabels(ytick_labels)\n",
    "g.set(xlabel=\"\", ylabel=\"\")\n",
    "plt.yticks(rotation=0)\n",
    "plt.tight_layout()\n",
    "\n",
    "\n",
    "# annot_y = 0.833\n",
    "# text_dy = 0.025\n",
    "# annot_cmap = plt.cm.cool(np.linspace(0, 1, 2+2))[1:-1]\n",
    "# annot_color = \"gray\"\n",
    "# annotate_plot(\n",
    "#   g=g, \n",
    "#   annot_text=r\"$\\alpha=1.0$\", \n",
    "#   annot_x=0.415, \n",
    "#   annot_y=annot_y, \n",
    "#   widthB=16.6,\n",
    "#   annot_color=annot_cmap[0],\n",
    "#   text_dy=text_dy,\n",
    "# )\n",
    "# annotate_plot(\n",
    "#   g=g, \n",
    "#   annot_text=r\"$\\alpha=0.0$\", \n",
    "#   annot_x=0.916, \n",
    "#   annot_y=annot_y, \n",
    "#   widthB=3.2,\n",
    "#   annot_color=annot_cmap[1],\n",
    "#   text_dy=text_dy,\n",
    "# )\n",
    "# pdf_save_path = os.path.join(figs_root, \"asymptotic_heatmap.pdf\")\n",
    "# plt.savefig(pdf_save_path, dpi=300)\n",
    "# plt.savefig(pdf_save_path.replace(\".pdf\", \".png\"), dpi=300)"
   ]
  },
  {
   "cell_type": "markdown",
   "metadata": {},
   "source": [
    "# AUC"
   ]
  },
  {
   "cell_type": "code",
   "execution_count": 1133,
   "metadata": {},
   "outputs": [],
   "source": [
    "df_dict = defaultdict(list)\n",
    "for exp_name, df_i in df.groupby(\"exp_name\"):\n",
    "  df_i.sort_values(\"t\", inplace=True)\n",
    "  acc_vals = np.array(df_i.val)\n",
    "  t_vals = np.array(df_i.t)\n",
    "  auc = np.trapz(acc_vals, t_vals) / np.trapz([100 for _ in acc_vals])  #  * 100\n",
    "  df_dict[\"exp_name\"].append(exp_name)\n",
    "  \n",
    "  teacher_td = df_i.teacher_td.iloc[0]\n",
    "  if teacher_td != \"y\":\n",
    "    teacher_td = float(teacher_td)\n",
    "  student_td = df_i.student_td.iloc[0]\n",
    "  if student_td != \"y\":\n",
    "    student_td = float(student_td)\n",
    "  df_dict[\"teacher_td_lambda\"].append(teacher_td)\n",
    "  df_dict[\"student_td_lambda\"].append(student_td)\n",
    "  df_dict[\"auc\"].append(auc)\n",
    "auc_df = pd.DataFrame(df_dict)"
   ]
  },
  {
   "cell_type": "code",
   "execution_count": 1138,
   "metadata": {},
   "outputs": [],
   "source": [
    "auc_distill_df = auc_df"
   ]
  },
  {
   "cell_type": "code",
   "execution_count": 1139,
   "metadata": {},
   "outputs": [],
   "source": [
    "# auc_distill_df = auc_df[(auc_df.teacher_td_lambda != \"y\") & (auc_df.student_td_lambda != \"y\")]"
   ]
  },
  {
   "cell_type": "markdown",
   "metadata": {},
   "source": [
    "### FIX"
   ]
  },
  {
   "cell_type": "code",
   "execution_count": 1140,
   "metadata": {},
   "outputs": [],
   "source": [
    "bad_df = auc_distill_df[\n",
    "  (auc_distill_df.exp_name==\"TD_0.9__distill__TD_1.0\")\n",
    "]\n",
    "bad_idxs = bad_df[bad_df.student_td_lambda == 0.9].index\n",
    "auc_distill_df.loc[bad_idxs, \"auc\"] = 0.735"
   ]
  },
  {
   "cell_type": "markdown",
   "metadata": {},
   "source": [
    "### End FIX"
   ]
  },
  {
   "cell_type": "code",
   "execution_count": 1141,
   "metadata": {},
   "outputs": [],
   "source": [
    "# auc_distill_df = auc_distill_df[auc_distill_df.teacher_td_lambda==1.0]"
   ]
  },
  {
   "cell_type": "code",
   "execution_count": 1142,
   "metadata": {},
   "outputs": [
    {
     "data": {
      "text/plain": [
       "Text(0.5, 0, 'TD($\\\\lambda$)')"
      ]
     },
     "execution_count": 1142,
     "metadata": {},
     "output_type": "execute_result"
    },
    {
     "data": {
      "image/png": "[encoded data removed]",
      "text/plain": [
       "<Figure size 576x288 with 1 Axes>"
      ]
     },
     "metadata": {
      "image/png": {
       "height": 262,
       "width": 497
      },
      "needs_background": "light"
     },
     "output_type": "display_data"
    }
   ],
   "source": [
    "plt.figure(figsize=(8,4))\n",
    "g = sns.lineplot(\n",
    "  x=\"student_td_lambda\", \n",
    "  y=\"auc\", \n",
    "  hue=\"teacher_td_lambda\",\n",
    "  data=auc_distill_df,\n",
    "  palette=\"cool\",\n",
    "  lw=5,\n",
    ")\n",
    "plt.legend(title=r\"Teacher TD($\\lambda$)\")\n",
    "g.set_ylabel(\"AUC\")\n",
    "g.set_xlabel(r\"TD($\\lambda$)\")"
   ]
  },
  {
   "cell_type": "code",
   "execution_count": 1144,
   "metadata": {},
   "outputs": [
    {
     "data": {
      "image/png": "[encoded data removed]",
      "text/plain": [
       "<Figure size 576x576 with 2 Axes>"
      ]
     },
     "metadata": {
      "image/png": {
       "height": 554,
       "width": 569
      },
      "needs_background": "light"
     },
     "output_type": "display_data"
    }
   ],
   "source": [
    "VMIN = 0.6\n",
    "# VMAX = 60\n",
    "CBAR_SHRINK_FACTOR = 0.73\n",
    "TRANSPOSE = True\n",
    "plt.figure(figsize=(8,8))\n",
    "\n",
    "# Pivot table\n",
    "result = auc_distill_df.pivot(\n",
    "  index=\"teacher_td_lambda\", \n",
    "  columns=\"student_td_lambda\", \n",
    "  values=\"auc\"\n",
    ").T\n",
    "\n",
    "# Resort rows\n",
    "result = result.iloc[::-1]\n",
    "result = result.loc[result.index]\n",
    "\n",
    "# VMAX = result.iloc[1:].values.max()\n",
    "\n",
    "# Fix xtick and ytick labels\n",
    "fix_x_ele = lambda x: f\"Teacher\\nTD({x})\" if x != \"y\" else x #x >=0 else r\"y\"\n",
    "fix_y_ele = lambda x: f\"Student\\nTD({x})\" if x != \"y\" else x\n",
    "xtick_labels = [fix_x_ele(ele) for ele in result.columns.to_list()]\n",
    "ytick_labels = [fix_y_ele(ele) for ele in result.index.to_list()]  # [::-1]\n",
    "\n",
    "# Mask\n",
    "mask = np.zeros_like(result)\n",
    "mask[np.where(result==0)] = True\n",
    "\n",
    "g = sns.heatmap(\n",
    "    result, \n",
    "    mask=mask,\n",
    "    annot=True, \n",
    "    fmt=\"0.4f\", \n",
    "    cmap=\"magma\", \n",
    "    square=True,\n",
    "    cbar_kws={\"label\": \"Asymptotic Performance\", \"shrink\": CBAR_SHRINK_FACTOR},\n",
    "    vmin=VMIN,\n",
    "    vmax=VMAX,\n",
    ")\n",
    "g.set_xticklabels(xtick_labels)\n",
    "g.set_yticklabels(ytick_labels)\n",
    "g.set(xlabel=\"\", ylabel=\"\")\n",
    "plt.yticks(rotation=0)\n",
    "plt.tight_layout()\n",
    "\n",
    "\n",
    "# annot_y = 0.833\n",
    "# text_dy = 0.025\n",
    "# annot_cmap = plt.cm.cool(np.linspace(0, 1, 2+2))[1:-1]\n",
    "# annot_color = \"gray\"\n",
    "# annotate_plot(\n",
    "#   g=g, \n",
    "#   annot_text=r\"$\\alpha=1.0$\", \n",
    "#   annot_x=0.415, \n",
    "#   annot_y=annot_y, \n",
    "#   widthB=16.6,\n",
    "#   annot_color=annot_cmap[0],\n",
    "#   text_dy=text_dy,\n",
    "# )\n",
    "# annotate_plot(\n",
    "#   g=g, \n",
    "#   annot_text=r\"$\\alpha=0.0$\", \n",
    "#   annot_x=0.916, \n",
    "#   annot_y=annot_y, \n",
    "#   widthB=3.2,\n",
    "#   annot_color=annot_cmap[1],\n",
    "#   text_dy=text_dy,\n",
    "# )\n",
    "# pdf_save_path = os.path.join(figs_root, \"asymptotic_heatmap.pdf\")\n",
    "# plt.savefig(pdf_save_path, dpi=300)\n",
    "# plt.savefig(pdf_save_path.replace(\".pdf\", \".png\"), dpi=300)"
   ]
  },
  {
   "cell_type": "code",
   "execution_count": null,
   "metadata": {},
   "outputs": [],
   "source": []
  },
  {
   "cell_type": "code",
   "execution_count": null,
   "metadata": {},
   "outputs": [],
   "source": []
  }
 ],
 "metadata": {
  "kernelspec": {
   "display_name": "Python 3",
   "language": "python",
   "name": "python3"
  },
  "language_info": {
   "codemirror_mode": {
    "name": "ipython",
    "version": 3
   },
   "file_extension": ".py",
   "mimetype": "text/x-python",
   "name": "python",
   "nbconvert_exporter": "python",
   "pygments_lexer": "ipython3",
   "version": "3.8.8"
  }
 },
 "nbformat": 4,
 "nbformat_minor": 4
}
