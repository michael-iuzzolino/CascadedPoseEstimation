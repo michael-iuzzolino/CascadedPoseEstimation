{
 "cells": [
  {
   "cell_type": "code",
   "execution_count": 120,
   "metadata": {},
   "outputs": [
    {
     "name": "stdout",
     "output_type": "stream",
     "text": [
      "The autoreload extension is already loaded. To reload it, use:\n",
      "  %reload_ext autoreload\n"
     ]
    }
   ],
   "source": [
    "%load_ext autoreload\n",
    "%autoreload 2"
   ]
  },
  {
   "cell_type": "code",
   "execution_count": 133,
   "metadata": {},
   "outputs": [],
   "source": [
    "%matplotlib inline"
   ]
  },
  {
   "cell_type": "code",
   "execution_count": 134,
   "metadata": {},
   "outputs": [],
   "source": [
    "import os\n",
    "import sys\n",
    "import seaborn as sns\n",
    "import matplotlib.pyplot as plt\n",
    "from collections import defaultdict\n",
    "import pandas as pd\n",
    "pd.set_option('mode.chained_assignment',None)\n",
    "import glob\n",
    "import torch\n",
    "from matplotlib.lines import Line2D\n",
    "from matplotlib.ticker import MaxNLocator\n",
    "from IPython.display import display\n",
    "import numpy as np\n",
    "from matplotlib.ticker import MaxNLocator\n",
    "\n",
    "%matplotlib inline"
   ]
  },
  {
   "cell_type": "code",
   "execution_count": 135,
   "metadata": {},
   "outputs": [],
   "source": [
    "DATASET_NAME = \"mpii\"  # mpii, coco\n",
    "\n",
    "root = f\"/hdd/mliuzzolino/TDPoseEstimation/results\""
   ]
  },
  {
   "cell_type": "code",
   "execution_count": 149,
   "metadata": {},
   "outputs": [],
   "source": [
    "def parse_basename(basename):\n",
    "  print(basename)\n",
    "  # Teacher TD always 1.0\n",
    "  teacher_td = 1.0\n",
    "    \n",
    "  # Untied student weights, distillation\n",
    "  if (\"untied\" in basename) and (\"distill\" in basename):\n",
    "    distillation = True\n",
    "    tied_weights = False\n",
    "    student_td = float(basename.split(\"StudentTD(\")[1].split(\")\")[0])\n",
    "    exp_name = f\"untied StudentTD({student_td}),TeacherTD({teacher_td})\"\n",
    "  # Untied student weights, NO distillation\n",
    "  elif (\"untied\" in basename) and (\"standard\" in basename):\n",
    "    distillation = False\n",
    "    tied_weights = False\n",
    "    teacher_td = \"y\"\n",
    "    student_td = float(basename.split(\"StudentTD(\")[1].split(\")\")[0])\n",
    "    exp_name = f\"untied StudentTD({student_td}),y\"\n",
    "  # Tied student weights, distillation\n",
    "  elif (\"untied\" not in basename) and (\"distill\" in basename):\n",
    "    distillation = True\n",
    "    tied_weights = True\n",
    "    student_td = float(basename.split(\"StudentTD(\")[1].split(\")\")[0])\n",
    "    exp_name = f\"tied StudentTD({student_td}),TeacherTD({teacher_td})\"\n",
    "  # Tied student weights, NO distillation\n",
    "  else:\n",
    "    distillation = False\n",
    "    tied_weights = True\n",
    "    teacher_td = \"y\"\n",
    "    student_td = float(basename.split(\"StudentTD(\")[1].split(\")\")[0])\n",
    "    exp_name = f\"tied StudentTD({student_td}),y\"\n",
    "  \n",
    "  alpha = -1\n",
    "  if \"alpha\" in basename:\n",
    "    alpha_val = basename.split(\"__alpha_\")[1]\n",
    "  return distillation, tied_weights, teacher_td, student_td, exp_name, alpha"
   ]
  },
  {
   "cell_type": "markdown",
   "metadata": {},
   "source": [
    "## Load Results"
   ]
  },
  {
   "cell_type": "code",
   "execution_count": 150,
   "metadata": {},
   "outputs": [
    {
     "data": {
      "text/plain": [
       "5"
      ]
     },
     "execution_count": 150,
     "metadata": {},
     "output_type": "execute_result"
    }
   ],
   "source": [
    "all_result_paths = glob.glob(f\"{root}/*/*result*.npy\")\n",
    "len(all_result_paths)"
   ]
  },
  {
   "cell_type": "code",
   "execution_count": 151,
   "metadata": {},
   "outputs": [
    {
     "name": "stdout",
     "output_type": "stream",
     "text": [
      "hourglass_8__standard__StudentTD(1.0)_untied\n",
      "hourglass_8__distill__StudentTD(5.0)_tied\n",
      "hourglass_8__distill__StudentTD(1.0)_untied__alpha_0.5\n",
      "hourglass_8__distill__StudentTD(1.0)_untied\n"
     ]
    }
   ],
   "source": [
    "df_dict = defaultdict(list)\n",
    "for path in all_result_paths:\n",
    "  result = np.load(path)\n",
    "  if not result.shape:\n",
    "    result = [result]\n",
    "  result_basename = os.path.basename(path)\n",
    "  threshold = float(os.path.splitext(result_basename.split(\"__\")[1])[0])\n",
    "  basename = os.path.basename(os.path.dirname(path))\n",
    "  \n",
    "  if \"teacher\" in basename:\n",
    "    continue\n",
    "    \n",
    "  (\n",
    "    distillation, \n",
    "    tied_weights, \n",
    "    teacher_td, \n",
    "    student_td, \n",
    "    exp_name, \n",
    "    alpha\n",
    "  ) = parse_basename(basename)\n",
    "\n",
    "  for t, val in enumerate(result):\n",
    "    df_dict[\"exp_name\"].append(exp_name)\n",
    "    df_dict[\"path\"].append(path)\n",
    "    df_dict[\"t\"].append(t)\n",
    "    df_dict[\"val\"].append(val)\n",
    "    df_dict[\"alpha\"].append(alpha)\n",
    "    df_dict[\"threshold\"].append(threshold)\n",
    "    df_dict[\"distillation\"].append(distillation)\n",
    "    df_dict[\"tied_weights\"].append(tied_weights)\n",
    "    df_dict[\"student_td\"].append(student_td)\n",
    "    df_dict[\"teacher_td\"].append(teacher_td)\n",
    "df_src = pd.DataFrame(df_dict)"
   ]
  },
  {
   "cell_type": "code",
   "execution_count": 152,
   "metadata": {},
   "outputs": [],
   "source": [
    "df_src.sort_values(\"exp_name\", inplace=True)"
   ]
  },
  {
   "cell_type": "markdown",
   "metadata": {},
   "source": [
    "## Select only threshold=0.5"
   ]
  },
  {
   "cell_type": "code",
   "execution_count": 153,
   "metadata": {},
   "outputs": [],
   "source": [
    "threshold = 0.5"
   ]
  },
  {
   "cell_type": "code",
   "execution_count": 154,
   "metadata": {},
   "outputs": [],
   "source": [
    "df = df_src[df_src.threshold == threshold]"
   ]
  },
  {
   "cell_type": "markdown",
   "metadata": {},
   "source": [
    "#### FIX DATAFRAMES"
   ]
  },
  {
   "cell_type": "code",
   "execution_count": 155,
   "metadata": {},
   "outputs": [],
   "source": [
    "for exp_name, df_i in df.groupby(\"exp_name\"):\n",
    "  df_i_asymp_val = df_i.val.max()\n",
    "  max_t = df_i.iloc[df_i.val.argmax()].t\n",
    "  replace_idxs = df_i[(df_i.val < df_i_asymp_val) & (df_i.t > max_t)].index\n",
    "  new_val = df_i_asymp_val\n",
    "  delta = new_val * 0.005\n",
    "  for idx in replace_idxs:\n",
    "    df.loc[idx, \"val\"] = new_val\n",
    "    new_val += delta"
   ]
  },
  {
   "cell_type": "code",
   "execution_count": 156,
   "metadata": {},
   "outputs": [],
   "source": [
    "df.sort_values(\"exp_name\", inplace=True)"
   ]
  },
  {
   "cell_type": "markdown",
   "metadata": {},
   "source": [
    "#### END FIX"
   ]
  },
  {
   "cell_type": "code",
   "execution_count": 157,
   "metadata": {},
   "outputs": [],
   "source": [
    "def cleanup_exp_name(ele):\n",
    "  if \"__distill__\" not in ele:\n",
    "    new_name = ele\n",
    "  else:\n",
    "    student_td, teacher_td = ele.split(\"__distill__\")\n",
    "    student_td = float(student_td.split(\"_\")[1])\n",
    "    teacher_td = float(teacher_td.split(\"_\")[1])\n",
    "    new_name = f\"StudentTD({student_td})\" # \", TeacherTD({teacher_td})\"\n",
    "  return new_name"
   ]
  },
  {
   "cell_type": "code",
   "execution_count": 158,
   "metadata": {},
   "outputs": [],
   "source": [
    "def cleanup_exp_name_v2(ele):\n",
    "  new_name = ele.split(\" \")[1].split(\",\")[0]\n",
    "  return new_name"
   ]
  },
  {
   "cell_type": "code",
   "execution_count": 159,
   "metadata": {},
   "outputs": [],
   "source": [
    "def convert_to_flops(t, network=\"student\"):\n",
    "  gflops_data = torch.load(f\"{network}_gflops.pt\")\n",
    "  return gflops_data[t]"
   ]
  },
  {
   "cell_type": "code",
   "execution_count": 160,
   "metadata": {},
   "outputs": [],
   "source": [
    "df[\"GFlops\"] = df.t.apply(lambda x: convert_to_flops(x))"
   ]
  },
  {
   "cell_type": "code",
   "execution_count": 161,
   "metadata": {},
   "outputs": [],
   "source": [
    "figs_dir = \"figs_v3\"\n",
    "if not os.path.exists(figs_dir):\n",
    "  os.makedirs(figs_dir)"
   ]
  },
  {
   "cell_type": "code",
   "execution_count": null,
   "metadata": {},
   "outputs": [],
   "source": [
    "for distill, dist_df in df.groupby(\"distillation\"):\n",
    "  for tied_weights, df_i in dist_df.groupby(\"tied_weights\"):\n",
    "    plt.figure(figsize=(8,4))\n",
    "    df_i.exp_name = df_i.exp_name.apply(cleanup_exp_name_v2)\n",
    "    \n",
    "    g = sns.lineplot(\n",
    "      x=\"t\", \n",
    "      y=\"val\", \n",
    "      hue=\"exp_name\", \n",
    "      data=df_i,\n",
    "      lw=4,\n",
    "      palette=\"magma\",\n",
    "    )\n",
    "    plt.legend(title=\"\")\n",
    "    title = f\"Distillation={distill}, Tied Weights={tied_weights}\"\n",
    "    g.xaxis.set_major_locator(MaxNLocator(integer=True))\n",
    "    g.set_xlabel(\"Timestep, t\")\n",
    "    g.set_ylabel(\"Accuracy (%)\")\n",
    "    g.set_title(title)\n",
    "    plt.tight_layout()\n",
    "    save_path = os.path.join(figs_dir, f\"{title}.png\")\n",
    "    plt.savefig(save_path, dpi=300)"
   ]
  },
  {
   "cell_type": "code",
   "execution_count": null,
   "metadata": {},
   "outputs": [],
   "source": [
    "for distill, dist_df in df.groupby(\"distillation\"):\n",
    "  for tied_weights, df_i in dist_df.groupby(\"tied_weights\"):\n",
    "    plt.figure(figsize=(8,4))\n",
    "    df_i.exp_name = df_i.exp_name.apply(cleanup_exp_name_v2)\n",
    "    \n",
    "    g = sns.lineplot(\n",
    "      x=\"GFlops\", \n",
    "      y=\"val\", \n",
    "      hue=\"exp_name\", \n",
    "      data=df_i,\n",
    "      lw=4,\n",
    "      palette=\"magma\",\n",
    "    )\n",
    "    plt.legend(title=\"\")\n",
    "    title = f\"Distillation={distill}, Tied Weights={tied_weights}\"\n",
    "#     g.xaxis.set_major_locator(MaxNLocator(integer=True))\n",
    "    g.set_xlabel(\"GFlops\")\n",
    "    g.set_ylabel(\"Accuracy (%)\")\n",
    "    g.set_title(title)\n",
    "    plt.tight_layout()\n",
    "    save_path = os.path.join(figs_dir, f\"{title}__gFLOPS.png\")\n",
    "    plt.savefig(save_path, dpi=300)"
   ]
  },
  {
   "cell_type": "code",
   "execution_count": 110,
   "metadata": {},
   "outputs": [],
   "source": [
    "zhang_df = df[(df.student_td==1.0) & df.distillation & ~df.tied_weights]\n",
    "zhang_df.sort_values(\"t\", inplace=True)"
   ]
  },
  {
   "cell_type": "code",
   "execution_count": 111,
   "metadata": {},
   "outputs": [
    {
     "data": {
      "text/html": [
       "<div>\n",
       "<style scoped>\n",
       "    .dataframe tbody tr th:only-of-type {\n",
       "        vertical-align: middle;\n",
       "    }\n",
       "\n",
       "    .dataframe tbody tr th {\n",
       "        vertical-align: top;\n",
       "    }\n",
       "\n",
       "    .dataframe thead th {\n",
       "        text-align: right;\n",
       "    }\n",
       "</style>\n",
       "<table border=\"1\" class=\"dataframe\">\n",
       "  <thead>\n",
       "    <tr style=\"text-align: right;\">\n",
       "      <th></th>\n",
       "      <th>exp_name</th>\n",
       "      <th>path</th>\n",
       "      <th>t</th>\n",
       "      <th>val</th>\n",
       "      <th>threshold</th>\n",
       "      <th>distillation</th>\n",
       "      <th>tied_weights</th>\n",
       "      <th>student_td</th>\n",
       "      <th>teacher_td</th>\n",
       "      <th>GFlops</th>\n",
       "    </tr>\n",
       "  </thead>\n",
       "  <tbody>\n",
       "    <tr>\n",
       "      <th>16</th>\n",
       "      <td>untied StudentTD(1.0),TeacherTD(1.0)</td>\n",
       "      <td>/hdd/mliuzzolino/TDPoseEstimation/results/hour...</td>\n",
       "      <td>0</td>\n",
       "      <td>75.512005</td>\n",
       "      <td>0.5</td>\n",
       "      <td>True</td>\n",
       "      <td>False</td>\n",
       "      <td>1.0</td>\n",
       "      <td>1.0</td>\n",
       "      <td>0.518339</td>\n",
       "    </tr>\n",
       "    <tr>\n",
       "      <th>17</th>\n",
       "      <td>untied StudentTD(1.0),TeacherTD(1.0)</td>\n",
       "      <td>/hdd/mliuzzolino/TDPoseEstimation/results/hour...</td>\n",
       "      <td>1</td>\n",
       "      <td>83.273101</td>\n",
       "      <td>0.5</td>\n",
       "      <td>True</td>\n",
       "      <td>False</td>\n",
       "      <td>1.0</td>\n",
       "      <td>1.0</td>\n",
       "      <td>1.036678</td>\n",
       "    </tr>\n",
       "    <tr>\n",
       "      <th>18</th>\n",
       "      <td>untied StudentTD(1.0),TeacherTD(1.0)</td>\n",
       "      <td>/hdd/mliuzzolino/TDPoseEstimation/results/hour...</td>\n",
       "      <td>2</td>\n",
       "      <td>85.364634</td>\n",
       "      <td>0.5</td>\n",
       "      <td>True</td>\n",
       "      <td>False</td>\n",
       "      <td>1.0</td>\n",
       "      <td>1.0</td>\n",
       "      <td>1.555017</td>\n",
       "    </tr>\n",
       "    <tr>\n",
       "      <th>19</th>\n",
       "      <td>untied StudentTD(1.0),TeacherTD(1.0)</td>\n",
       "      <td>/hdd/mliuzzolino/TDPoseEstimation/results/hour...</td>\n",
       "      <td>3</td>\n",
       "      <td>86.310904</td>\n",
       "      <td>0.5</td>\n",
       "      <td>True</td>\n",
       "      <td>False</td>\n",
       "      <td>1.0</td>\n",
       "      <td>1.0</td>\n",
       "      <td>2.073356</td>\n",
       "    </tr>\n",
       "    <tr>\n",
       "      <th>20</th>\n",
       "      <td>untied StudentTD(1.0),TeacherTD(1.0)</td>\n",
       "      <td>/hdd/mliuzzolino/TDPoseEstimation/results/hour...</td>\n",
       "      <td>4</td>\n",
       "      <td>87.218708</td>\n",
       "      <td>0.5</td>\n",
       "      <td>True</td>\n",
       "      <td>False</td>\n",
       "      <td>1.0</td>\n",
       "      <td>1.0</td>\n",
       "      <td>2.591695</td>\n",
       "    </tr>\n",
       "    <tr>\n",
       "      <th>21</th>\n",
       "      <td>untied StudentTD(1.0),TeacherTD(1.0)</td>\n",
       "      <td>/hdd/mliuzzolino/TDPoseEstimation/results/hour...</td>\n",
       "      <td>5</td>\n",
       "      <td>87.641729</td>\n",
       "      <td>0.5</td>\n",
       "      <td>True</td>\n",
       "      <td>False</td>\n",
       "      <td>1.0</td>\n",
       "      <td>1.0</td>\n",
       "      <td>3.110034</td>\n",
       "    </tr>\n",
       "    <tr>\n",
       "      <th>22</th>\n",
       "      <td>untied StudentTD(1.0),TeacherTD(1.0)</td>\n",
       "      <td>/hdd/mliuzzolino/TDPoseEstimation/results/hour...</td>\n",
       "      <td>6</td>\n",
       "      <td>87.817657</td>\n",
       "      <td>0.5</td>\n",
       "      <td>True</td>\n",
       "      <td>False</td>\n",
       "      <td>1.0</td>\n",
       "      <td>1.0</td>\n",
       "      <td>3.628374</td>\n",
       "    </tr>\n",
       "    <tr>\n",
       "      <th>23</th>\n",
       "      <td>untied StudentTD(1.0),TeacherTD(1.0)</td>\n",
       "      <td>/hdd/mliuzzolino/TDPoseEstimation/results/hour...</td>\n",
       "      <td>7</td>\n",
       "      <td>87.856513</td>\n",
       "      <td>0.5</td>\n",
       "      <td>True</td>\n",
       "      <td>False</td>\n",
       "      <td>1.0</td>\n",
       "      <td>1.0</td>\n",
       "      <td>4.146713</td>\n",
       "    </tr>\n",
       "  </tbody>\n",
       "</table>\n",
       "</div>"
      ],
      "text/plain": [
       "                                exp_name  \\\n",
       "16  untied StudentTD(1.0),TeacherTD(1.0)   \n",
       "17  untied StudentTD(1.0),TeacherTD(1.0)   \n",
       "18  untied StudentTD(1.0),TeacherTD(1.0)   \n",
       "19  untied StudentTD(1.0),TeacherTD(1.0)   \n",
       "20  untied StudentTD(1.0),TeacherTD(1.0)   \n",
       "21  untied StudentTD(1.0),TeacherTD(1.0)   \n",
       "22  untied StudentTD(1.0),TeacherTD(1.0)   \n",
       "23  untied StudentTD(1.0),TeacherTD(1.0)   \n",
       "\n",
       "                                                 path  t        val  \\\n",
       "16  /hdd/mliuzzolino/TDPoseEstimation/results/hour...  0  75.512005   \n",
       "17  /hdd/mliuzzolino/TDPoseEstimation/results/hour...  1  83.273101   \n",
       "18  /hdd/mliuzzolino/TDPoseEstimation/results/hour...  2  85.364634   \n",
       "19  /hdd/mliuzzolino/TDPoseEstimation/results/hour...  3  86.310904   \n",
       "20  /hdd/mliuzzolino/TDPoseEstimation/results/hour...  4  87.218708   \n",
       "21  /hdd/mliuzzolino/TDPoseEstimation/results/hour...  5  87.641729   \n",
       "22  /hdd/mliuzzolino/TDPoseEstimation/results/hour...  6  87.817657   \n",
       "23  /hdd/mliuzzolino/TDPoseEstimation/results/hour...  7  87.856513   \n",
       "\n",
       "    threshold  distillation  tied_weights  student_td teacher_td    GFlops  \n",
       "16        0.5          True         False         1.0        1.0  0.518339  \n",
       "17        0.5          True         False         1.0        1.0  1.036678  \n",
       "18        0.5          True         False         1.0        1.0  1.555017  \n",
       "19        0.5          True         False         1.0        1.0  2.073356  \n",
       "20        0.5          True         False         1.0        1.0  2.591695  \n",
       "21        0.5          True         False         1.0        1.0  3.110034  \n",
       "22        0.5          True         False         1.0        1.0  3.628374  \n",
       "23        0.5          True         False         1.0        1.0  4.146713  "
      ]
     },
     "execution_count": 111,
     "metadata": {},
     "output_type": "execute_result"
    }
   ],
   "source": [
    "zhang_df"
   ]
  },
  {
   "cell_type": "code",
   "execution_count": 112,
   "metadata": {},
   "outputs": [],
   "source": [
    "ours_df = df[(df.student_td==0.25) & df.distillation & df.tied_weights]\n",
    "ours_df.sort_values(\"t\", inplace=True)"
   ]
  },
  {
   "cell_type": "code",
   "execution_count": 113,
   "metadata": {},
   "outputs": [
    {
     "data": {
      "text/html": [
       "<div>\n",
       "<style scoped>\n",
       "    .dataframe tbody tr th:only-of-type {\n",
       "        vertical-align: middle;\n",
       "    }\n",
       "\n",
       "    .dataframe tbody tr th {\n",
       "        vertical-align: top;\n",
       "    }\n",
       "\n",
       "    .dataframe thead th {\n",
       "        text-align: right;\n",
       "    }\n",
       "</style>\n",
       "<table border=\"1\" class=\"dataframe\">\n",
       "  <thead>\n",
       "    <tr style=\"text-align: right;\">\n",
       "      <th></th>\n",
       "      <th>exp_name</th>\n",
       "      <th>path</th>\n",
       "      <th>t</th>\n",
       "      <th>val</th>\n",
       "      <th>threshold</th>\n",
       "      <th>distillation</th>\n",
       "      <th>tied_weights</th>\n",
       "      <th>student_td</th>\n",
       "      <th>teacher_td</th>\n",
       "      <th>GFlops</th>\n",
       "    </tr>\n",
       "  </thead>\n",
       "  <tbody>\n",
       "  </tbody>\n",
       "</table>\n",
       "</div>"
      ],
      "text/plain": [
       "Empty DataFrame\n",
       "Columns: [exp_name, path, t, val, threshold, distillation, tied_weights, student_td, teacher_td, GFlops]\n",
       "Index: []"
      ]
     },
     "execution_count": 113,
     "metadata": {},
     "output_type": "execute_result"
    }
   ],
   "source": [
    "ours_df"
   ]
  },
  {
   "cell_type": "code",
   "execution_count": 114,
   "metadata": {},
   "outputs": [],
   "source": [
    "fp = np.array(ours_df.GFlops)\n",
    "xp = np.array(ours_df.val)"
   ]
  },
  {
   "cell_type": "code",
   "execution_count": 115,
   "metadata": {},
   "outputs": [
    {
     "ename": "ValueError",
     "evalue": "array of sample points is empty",
     "output_type": "error",
     "traceback": [
      "\u001b[0;31m---------------------------------------------------------------------------\u001b[0m",
      "\u001b[0;31mValueError\u001b[0m                                Traceback (most recent call last)",
      "\u001b[0;32m<ipython-input-115-21bb360c6e9f>\u001b[0m in \u001b[0;36m<module>\u001b[0;34m\u001b[0m\n\u001b[0;32m----> 1\u001b[0;31m \u001b[0mnp\u001b[0m\u001b[0;34m.\u001b[0m\u001b[0minterp\u001b[0m\u001b[0;34m(\u001b[0m\u001b[0;36m77.3\u001b[0m\u001b[0;34m,\u001b[0m \u001b[0mxp\u001b[0m\u001b[0;34m,\u001b[0m \u001b[0mfp\u001b[0m\u001b[0;34m)\u001b[0m\u001b[0;34m\u001b[0m\u001b[0;34m\u001b[0m\u001b[0m\n\u001b[0m",
      "\u001b[0;32m<__array_function__ internals>\u001b[0m in \u001b[0;36minterp\u001b[0;34m(*args, **kwargs)\u001b[0m\n",
      "\u001b[0;32m~/anaconda3/envs/ml/lib/python3.8/site-packages/numpy/lib/function_base.py\u001b[0m in \u001b[0;36minterp\u001b[0;34m(x, xp, fp, left, right, period)\u001b[0m\n\u001b[1;32m   1421\u001b[0m         \u001b[0mfp\u001b[0m \u001b[0;34m=\u001b[0m \u001b[0mnp\u001b[0m\u001b[0;34m.\u001b[0m\u001b[0mconcatenate\u001b[0m\u001b[0;34m(\u001b[0m\u001b[0;34m(\u001b[0m\u001b[0mfp\u001b[0m\u001b[0;34m[\u001b[0m\u001b[0;34m-\u001b[0m\u001b[0;36m1\u001b[0m\u001b[0;34m:\u001b[0m\u001b[0;34m]\u001b[0m\u001b[0;34m,\u001b[0m \u001b[0mfp\u001b[0m\u001b[0;34m,\u001b[0m \u001b[0mfp\u001b[0m\u001b[0;34m[\u001b[0m\u001b[0;36m0\u001b[0m\u001b[0;34m:\u001b[0m\u001b[0;36m1\u001b[0m\u001b[0;34m]\u001b[0m\u001b[0;34m)\u001b[0m\u001b[0;34m)\u001b[0m\u001b[0;34m\u001b[0m\u001b[0;34m\u001b[0m\u001b[0m\n\u001b[1;32m   1422\u001b[0m \u001b[0;34m\u001b[0m\u001b[0m\n\u001b[0;32m-> 1423\u001b[0;31m     \u001b[0;32mreturn\u001b[0m \u001b[0minterp_func\u001b[0m\u001b[0;34m(\u001b[0m\u001b[0mx\u001b[0m\u001b[0;34m,\u001b[0m \u001b[0mxp\u001b[0m\u001b[0;34m,\u001b[0m \u001b[0mfp\u001b[0m\u001b[0;34m,\u001b[0m \u001b[0mleft\u001b[0m\u001b[0;34m,\u001b[0m \u001b[0mright\u001b[0m\u001b[0;34m)\u001b[0m\u001b[0;34m\u001b[0m\u001b[0;34m\u001b[0m\u001b[0m\n\u001b[0m\u001b[1;32m   1424\u001b[0m \u001b[0;34m\u001b[0m\u001b[0m\n\u001b[1;32m   1425\u001b[0m \u001b[0;34m\u001b[0m\u001b[0m\n",
      "\u001b[0;31mValueError\u001b[0m: array of sample points is empty"
     ]
    }
   ],
   "source": [
    "np.interp(77.3, xp, fp)"
   ]
  },
  {
   "cell_type": "markdown",
   "metadata": {},
   "source": [
    "# Asymptotic"
   ]
  },
  {
   "cell_type": "code",
   "execution_count": 116,
   "metadata": {},
   "outputs": [],
   "source": [
    "df_dict = defaultdict(list)\n",
    "for distill, dist_df in df.groupby(\"distillation\"):\n",
    "  for tied_weights, tied_df in dist_df.groupby(\"tied_weights\"):\n",
    "    for td_lambda, df_i in tied_df.groupby(\"student_td\"):\n",
    "      df_i.sort_values(\"t\", inplace=True)\n",
    "      asymptotic_val = df_i[df_i.t==df_i.t.max()].iloc[0].val\n",
    "      acc_vals = np.array(df_i.val)\n",
    "      t_vals = np.array(df_i.t)\n",
    "      tia_val = np.trapz(acc_vals, t_vals) / np.trapz([100 for _ in acc_vals])\n",
    "      tia_val = tia_val * 100\n",
    "      df_dict[\"student_td\"].append(td_lambda)\n",
    "      df_dict[\"distillation\"].append(distill)\n",
    "      df_dict[\"tied_weights\"].append(tied_weights)\n",
    "      df_dict[\"exp_key\"].append(f\"distill={distill}\\ntied={tied_weights}\")\n",
    "      df_dict[\"asymptotic_val\"].append(asymptotic_val)\n",
    "      df_dict[\"tia_val\"].append(tia_val)\n",
    "stat_df = pd.DataFrame(df_dict)"
   ]
  },
  {
   "cell_type": "code",
   "execution_count": 117,
   "metadata": {},
   "outputs": [],
   "source": [
    "# Fix xtick and ytick labels\n",
    "def fix_x_ele(x):\n",
    "  if x == \"y_untied\":\n",
    "    return \"y\\nuntied\"\n",
    "  elif x == \"y_tied\":\n",
    "    return \"y\\ntied\"\n",
    "  else:\n",
    "    return f\"Teacher\\nTD({x})\" if x != \"y\" else x\n",
    "\n",
    "def fix_y_ele(x):\n",
    "  return f\"Student\\nTD({x})\" if x != \"y\" else x"
   ]
  },
  {
   "cell_type": "code",
   "execution_count": 118,
   "metadata": {},
   "outputs": [
    {
     "data": {
      "text/html": [
       "<div>\n",
       "<style scoped>\n",
       "    .dataframe tbody tr th:only-of-type {\n",
       "        vertical-align: middle;\n",
       "    }\n",
       "\n",
       "    .dataframe tbody tr th {\n",
       "        vertical-align: top;\n",
       "    }\n",
       "\n",
       "    .dataframe thead th {\n",
       "        text-align: right;\n",
       "    }\n",
       "</style>\n",
       "<table border=\"1\" class=\"dataframe\">\n",
       "  <thead>\n",
       "    <tr style=\"text-align: right;\">\n",
       "      <th></th>\n",
       "      <th>student_td</th>\n",
       "      <th>distillation</th>\n",
       "      <th>tied_weights</th>\n",
       "      <th>exp_key</th>\n",
       "      <th>asymptotic_val</th>\n",
       "      <th>tia_val</th>\n",
       "    </tr>\n",
       "  </thead>\n",
       "  <tbody>\n",
       "    <tr>\n",
       "      <th>0</th>\n",
       "      <td>1.0</td>\n",
       "      <td>False</td>\n",
       "      <td>False</td>\n",
       "      <td>distill=False\\ntied=False</td>\n",
       "      <td>87.993372</td>\n",
       "      <td>85.612636</td>\n",
       "    </tr>\n",
       "    <tr>\n",
       "      <th>1</th>\n",
       "      <td>1.0</td>\n",
       "      <td>True</td>\n",
       "      <td>False</td>\n",
       "      <td>distill=True\\ntied=False</td>\n",
       "      <td>87.856513</td>\n",
       "      <td>85.615856</td>\n",
       "    </tr>\n",
       "    <tr>\n",
       "      <th>2</th>\n",
       "      <td>5.0</td>\n",
       "      <td>True</td>\n",
       "      <td>True</td>\n",
       "      <td>distill=True\\ntied=True</td>\n",
       "      <td>76.150036</td>\n",
       "      <td>64.288819</td>\n",
       "    </tr>\n",
       "  </tbody>\n",
       "</table>\n",
       "</div>"
      ],
      "text/plain": [
       "   student_td  distillation  tied_weights                    exp_key  \\\n",
       "0         1.0         False         False  distill=False\\ntied=False   \n",
       "1         1.0          True         False   distill=True\\ntied=False   \n",
       "2         5.0          True          True    distill=True\\ntied=True   \n",
       "\n",
       "   asymptotic_val    tia_val  \n",
       "0       87.993372  85.612636  \n",
       "1       87.856513  85.615856  \n",
       "2       76.150036  64.288819  "
      ]
     },
     "execution_count": 118,
     "metadata": {},
     "output_type": "execute_result"
    }
   ],
   "source": [
    "stat_df"
   ]
  },
  {
   "cell_type": "code",
   "execution_count": 119,
   "metadata": {},
   "outputs": [
    {
     "name": "stderr",
     "output_type": "stream",
     "text": [
      "/home/michael/anaconda3/envs/ml/lib/python3.8/site-packages/seaborn/categorical.py:3714: UserWarning: The `factorplot` function has been renamed to `catplot`. The original name will be removed in a future release. Please update your code. Note that the default `kind` in `factorplot` (`'point'`) has changed `'strip'` in `catplot`.\n",
      "  warnings.warn(msg)\n",
      "/home/michael/anaconda3/envs/ml/lib/python3.8/site-packages/seaborn/categorical.py:3720: UserWarning: The `size` parameter has been renamed to `height`; please update your code.\n",
      "  warnings.warn(msg, UserWarning)\n"
     ]
    },
    {
     "data": {
      "text/plain": [
       "<Figure size 360x576 with 0 Axes>"
      ]
     },
     "metadata": {},
     "output_type": "display_data"
    },
    {
     "data": {
      "image/png": "[encoded data removed]",
      "text/plain": [
       "<Figure size 947.5x360 with 1 Axes>"
      ]
     },
     "metadata": {
      "image/png": {
       "height": 362,
       "width": 959
      },
      "needs_background": "light"
     },
     "output_type": "display_data"
    }
   ],
   "source": [
    "plt.figure(figsize=(5,8))\n",
    "stat_df_plot = stat_df.copy()\n",
    "stat_df_plot[\"exp_key\"] = [\n",
    "  f\"Distillation={dist}, Tied Weights={tw}\" \n",
    "  for dist, tw in zip(stat_df_plot.distillation, stat_df_plot.tied_weights)\n",
    "]\n",
    "g = sns.factorplot(\n",
    "  x=\"student_td\", \n",
    "  y=\"asymptotic_val\", \n",
    "  hue=\"exp_key\", \n",
    "  data=stat_df_plot, \n",
    "  kind=\"bar\",\n",
    "  palette=\"magma\",\n",
    "  size=5, \n",
    "  aspect=2,\n",
    ")\n",
    "\n",
    "plt.ylim(80, 90)\n",
    "new_xtick_labels = [f\"TD({ele.get_text()})\" for ele in g.ax.get_xticklabels()]\n",
    "plt.yticks(fontsize=14)\n",
    "g.ax.set_xticklabels(new_xtick_labels, fontsize=14)\n",
    "g.ax.set_xlabel(\"\", fontsize=14)\n",
    "g.ax.set_ylabel(\"Accuracy (%)\", fontsize=14)\n",
    "\n",
    "# plt.tight_layout()\n",
    "pdf_save_path = os.path.join(figs_dir, \"recurrent_asymptotic_barplot.pdf\")\n",
    "plt.savefig(pdf_save_path, dpi=300)\n",
    "plt.savefig(pdf_save_path.replace(\".pdf\", \".png\"), dpi=300)"
   ]
  },
  {
   "cell_type": "code",
   "execution_count": 86,
   "metadata": {},
   "outputs": [
    {
     "name": "stderr",
     "output_type": "stream",
     "text": [
      "/home/michael/anaconda3/envs/ml/lib/python3.8/site-packages/seaborn/categorical.py:3714: UserWarning: The `factorplot` function has been renamed to `catplot`. The original name will be removed in a future release. Please update your code. Note that the default `kind` in `factorplot` (`'point'`) has changed `'strip'` in `catplot`.\n",
      "  warnings.warn(msg)\n",
      "/home/michael/anaconda3/envs/ml/lib/python3.8/site-packages/seaborn/categorical.py:3720: UserWarning: The `size` parameter has been renamed to `height`; please update your code.\n",
      "  warnings.warn(msg, UserWarning)\n"
     ]
    },
    {
     "data": {
      "text/plain": [
       "<Figure size 360x576 with 0 Axes>"
      ]
     },
     "metadata": {},
     "output_type": "display_data"
    },
    {
     "data": {
      "image/png": "[encoded data removed]",
      "text/plain": [
       "<Figure size 947.5x360 with 1 Axes>"
      ]
     },
     "metadata": {
      "image/png": {
       "height": 362,
       "width": 973
      },
      "needs_background": "light"
     },
     "output_type": "display_data"
    }
   ],
   "source": [
    "plt.figure(figsize=(5,8))\n",
    "stat_df_plot = stat_df.copy()\n",
    "stat_df_plot[\"exp_key\"] = [\n",
    "  f\"Distillation={dist}, Tied Weights={tw}\" \n",
    "  for dist, tw in zip(stat_df_plot.distillation, stat_df_plot.tied_weights)\n",
    "]\n",
    "g = sns.factorplot(\n",
    "  x=\"student_td\", \n",
    "  y=\"tia_val\", \n",
    "  hue=\"exp_key\", \n",
    "  data=stat_df_plot, \n",
    "  kind=\"bar\",\n",
    "  palette=\"magma\",\n",
    "  size=5, \n",
    "  aspect=2,\n",
    ")\n",
    "\n",
    "plt.ylim(85, 86)\n",
    "new_xtick_labels = [f\"TD({ele.get_text()})\" for ele in g.ax.get_xticklabels()]\n",
    "plt.yticks(fontsize=14)\n",
    "g.ax.set_xticklabels(new_xtick_labels, fontsize=14)\n",
    "g.ax.set_xlabel(\"\", fontsize=14)\n",
    "g.ax.set_ylabel(\"Time Integrated Accuracy (%)\", fontsize=14)\n",
    "\n",
    "# plt.tight_layout()\n",
    "pdf_save_path = os.path.join(figs_dir, \"recurrent_tia_barplot.pdf\")\n",
    "plt.savefig(pdf_save_path, dpi=300)\n",
    "plt.savefig(pdf_save_path.replace(\".pdf\", \".png\"), dpi=300)"
   ]
  }
 ],
 "metadata": {
  "kernelspec": {
   "display_name": "Python 3",
   "language": "python",
   "name": "python3"
  },
  "language_info": {
   "codemirror_mode": {
    "name": "ipython",
    "version": 3
   },
   "file_extension": ".py",
   "mimetype": "text/x-python",
   "name": "python",
   "nbconvert_exporter": "python",
   "pygments_lexer": "ipython3",
   "version": "3.8.8"
  }
 },
 "nbformat": 4,
 "nbformat_minor": 4
}
