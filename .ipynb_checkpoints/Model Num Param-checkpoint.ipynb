{
 "cells": [
  {
   "cell_type": "code",
   "execution_count": 83,
   "metadata": {},
   "outputs": [
    {
     "name": "stdout",
     "output_type": "stream",
     "text": [
      "The autoreload extension is already loaded. To reload it, use:\n",
      "  %reload_ext autoreload\n"
     ]
    }
   ],
   "source": [
    "%load_ext autoreload\n",
    "%autoreload 2"
   ]
  },
  {
   "cell_type": "code",
   "execution_count": 94,
   "metadata": {},
   "outputs": [],
   "source": [
    "import os\n",
    "import glob\n",
    "import torch\n",
    "import numpy as np\n",
    "from collections import defaultdict\n",
    "import pandas as pd"
   ]
  },
  {
   "cell_type": "code",
   "execution_count": 95,
   "metadata": {},
   "outputs": [],
   "source": [
    "def count_parameters(state_dict):\n",
    "    return sum(p.numel() for k, p in state_dict.items())"
   ]
  },
  {
   "cell_type": "code",
   "execution_count": 96,
   "metadata": {},
   "outputs": [],
   "source": [
    "exp_root = \"output/mpii/\""
   ]
  },
  {
   "cell_type": "code",
   "execution_count": 92,
   "metadata": {},
   "outputs": [],
   "source": [
    "experiment_paths = glob.glob(f\"{exp_root}/*\")\n",
    "df_dict = defaultdict(list)\n",
    "for exp_path in experiment_paths:\n",
    "  exp_name = os.path.basename(exp_path)\n",
    "  ckpt_path = os.path.join(exp_path, \"checkpoint.pth.tar\")\n",
    "  if not os.path.exists(ckpt_path):\n",
    "    continue\n",
    "  state_dict = torch.load(ckpt_path)[\"state_dict\"]\n",
    "  n_params = count_parameters(state_dict)\n",
    "  df_dict[\"exp_name\"].append(exp_name)\n",
    "  df_dict[\"n_params\"].append(f\"{n_params:,}\")\n",
    "param_df = pd.DataFrame(df_dict)"
   ]
  },
  {
   "cell_type": "code",
   "execution_count": 93,
   "metadata": {},
   "outputs": [
    {
     "data": {
      "text/html": [
       "<div>\n",
       "<style scoped>\n",
       "    .dataframe tbody tr th:only-of-type {\n",
       "        vertical-align: middle;\n",
       "    }\n",
       "\n",
       "    .dataframe tbody tr th {\n",
       "        vertical-align: top;\n",
       "    }\n",
       "\n",
       "    .dataframe thead th {\n",
       "        text-align: right;\n",
       "    }\n",
       "</style>\n",
       "<table border=\"1\" class=\"dataframe\">\n",
       "  <thead>\n",
       "    <tr style=\"text-align: right;\">\n",
       "      <th></th>\n",
       "      <th>exp_name</th>\n",
       "      <th>n_params</th>\n",
       "    </tr>\n",
       "  </thead>\n",
       "  <tbody>\n",
       "    <tr>\n",
       "      <th>0</th>\n",
       "      <td>hourglass_x8__TD_0.5__distill__TD_0.0</td>\n",
       "      <td>4,601,698</td>\n",
       "    </tr>\n",
       "    <tr>\n",
       "      <th>1</th>\n",
       "      <td>hourglass_x8__TD_0.5__distill__TD_0.5</td>\n",
       "      <td>4,601,698</td>\n",
       "    </tr>\n",
       "    <tr>\n",
       "      <th>2</th>\n",
       "      <td>hourglass_x4__TD_1.0__double</td>\n",
       "      <td>13,194,658</td>\n",
       "    </tr>\n",
       "    <tr>\n",
       "      <th>3</th>\n",
       "      <td>hourglass_x4__TD_0.0__distill__TD_1.0</td>\n",
       "      <td>2,350,550</td>\n",
       "    </tr>\n",
       "    <tr>\n",
       "      <th>4</th>\n",
       "      <td>hourglass_x4__TD_0.5__distill__TD_1.0</td>\n",
       "      <td>2,350,550</td>\n",
       "    </tr>\n",
       "    <tr>\n",
       "      <th>5</th>\n",
       "      <td>hourglass_x8__TD_0.5</td>\n",
       "      <td>4,601,698</td>\n",
       "    </tr>\n",
       "    <tr>\n",
       "      <th>6</th>\n",
       "      <td>hourglass_x8__TD_0.25__distill__TD_0.0</td>\n",
       "      <td>4,601,698</td>\n",
       "    </tr>\n",
       "    <tr>\n",
       "      <th>7</th>\n",
       "      <td>hourglass_x8__TD_0.25__distill__TD_1.0</td>\n",
       "      <td>4,601,698</td>\n",
       "    </tr>\n",
       "    <tr>\n",
       "      <th>8</th>\n",
       "      <td>hourglass_x8__TD_0.0__distill__TD_0.5</td>\n",
       "      <td>4,601,698</td>\n",
       "    </tr>\n",
       "    <tr>\n",
       "      <th>9</th>\n",
       "      <td>hourglass_x8__TD_0.5__distill__TD_1.0</td>\n",
       "      <td>4,601,698</td>\n",
       "    </tr>\n",
       "    <tr>\n",
       "      <th>10</th>\n",
       "      <td>hourglass_x8__TD_0.9__distill__TD_0.5</td>\n",
       "      <td>4,601,698</td>\n",
       "    </tr>\n",
       "    <tr>\n",
       "      <th>11</th>\n",
       "      <td>hourglass_x4__TD_1.0__distill__TD_1.0</td>\n",
       "      <td>2,350,550</td>\n",
       "    </tr>\n",
       "    <tr>\n",
       "      <th>12</th>\n",
       "      <td>hourglass_x8__TD_0.9__distill__TD_0.0</td>\n",
       "      <td>4,601,698</td>\n",
       "    </tr>\n",
       "    <tr>\n",
       "      <th>13</th>\n",
       "      <td>hourglass_x8__TD_1.0__distill__TD_0.0</td>\n",
       "      <td>4,601,698</td>\n",
       "    </tr>\n",
       "    <tr>\n",
       "      <th>14</th>\n",
       "      <td>hourglass_x8__TD_0.9__distill__TD_1.0</td>\n",
       "      <td>4,601,698</td>\n",
       "    </tr>\n",
       "    <tr>\n",
       "      <th>15</th>\n",
       "      <td>hourglass_x8__TD_0.0__distill__TD_0.0</td>\n",
       "      <td>4,601,698</td>\n",
       "    </tr>\n",
       "    <tr>\n",
       "      <th>16</th>\n",
       "      <td>hourglass_x8__TD_1.0__distill__TD_1.0</td>\n",
       "      <td>4,601,698</td>\n",
       "    </tr>\n",
       "    <tr>\n",
       "      <th>17</th>\n",
       "      <td>hourglass_x8__TD_0.0</td>\n",
       "      <td>4,601,698</td>\n",
       "    </tr>\n",
       "    <tr>\n",
       "      <th>18</th>\n",
       "      <td>hourglass_x8__TD_0.0__distill__TD_1.0</td>\n",
       "      <td>4,601,698</td>\n",
       "    </tr>\n",
       "    <tr>\n",
       "      <th>19</th>\n",
       "      <td>hourglass_x4__TD_0.5__double</td>\n",
       "      <td>13,194,658</td>\n",
       "    </tr>\n",
       "    <tr>\n",
       "      <th>20</th>\n",
       "      <td>hourglass_x8__TD_0.25__distill__TD_0.5</td>\n",
       "      <td>4,601,698</td>\n",
       "    </tr>\n",
       "    <tr>\n",
       "      <th>21</th>\n",
       "      <td>hourglass_x4__TD_0.25__double</td>\n",
       "      <td>13,194,658</td>\n",
       "    </tr>\n",
       "    <tr>\n",
       "      <th>22</th>\n",
       "      <td>hourglass_x8__TD_1.0__distill__TD_0.5</td>\n",
       "      <td>4,601,698</td>\n",
       "    </tr>\n",
       "    <tr>\n",
       "      <th>23</th>\n",
       "      <td>hourglass_x8__TD_1.0</td>\n",
       "      <td>4,601,698</td>\n",
       "    </tr>\n",
       "    <tr>\n",
       "      <th>24</th>\n",
       "      <td>hourglass_x4__TD_0.9__double</td>\n",
       "      <td>13,194,658</td>\n",
       "    </tr>\n",
       "    <tr>\n",
       "      <th>25</th>\n",
       "      <td>hourglass_x4__TD_0.0__double</td>\n",
       "      <td>13,194,658</td>\n",
       "    </tr>\n",
       "  </tbody>\n",
       "</table>\n",
       "</div>"
      ],
      "text/plain": [
       "                                  exp_name    n_params\n",
       "0    hourglass_x8__TD_0.5__distill__TD_0.0   4,601,698\n",
       "1    hourglass_x8__TD_0.5__distill__TD_0.5   4,601,698\n",
       "2             hourglass_x4__TD_1.0__double  13,194,658\n",
       "3    hourglass_x4__TD_0.0__distill__TD_1.0   2,350,550\n",
       "4    hourglass_x4__TD_0.5__distill__TD_1.0   2,350,550\n",
       "5                     hourglass_x8__TD_0.5   4,601,698\n",
       "6   hourglass_x8__TD_0.25__distill__TD_0.0   4,601,698\n",
       "7   hourglass_x8__TD_0.25__distill__TD_1.0   4,601,698\n",
       "8    hourglass_x8__TD_0.0__distill__TD_0.5   4,601,698\n",
       "9    hourglass_x8__TD_0.5__distill__TD_1.0   4,601,698\n",
       "10   hourglass_x8__TD_0.9__distill__TD_0.5   4,601,698\n",
       "11   hourglass_x4__TD_1.0__distill__TD_1.0   2,350,550\n",
       "12   hourglass_x8__TD_0.9__distill__TD_0.0   4,601,698\n",
       "13   hourglass_x8__TD_1.0__distill__TD_0.0   4,601,698\n",
       "14   hourglass_x8__TD_0.9__distill__TD_1.0   4,601,698\n",
       "15   hourglass_x8__TD_0.0__distill__TD_0.0   4,601,698\n",
       "16   hourglass_x8__TD_1.0__distill__TD_1.0   4,601,698\n",
       "17                    hourglass_x8__TD_0.0   4,601,698\n",
       "18   hourglass_x8__TD_0.0__distill__TD_1.0   4,601,698\n",
       "19            hourglass_x4__TD_0.5__double  13,194,658\n",
       "20  hourglass_x8__TD_0.25__distill__TD_0.5   4,601,698\n",
       "21           hourglass_x4__TD_0.25__double  13,194,658\n",
       "22   hourglass_x8__TD_1.0__distill__TD_0.5   4,601,698\n",
       "23                    hourglass_x8__TD_1.0   4,601,698\n",
       "24            hourglass_x4__TD_0.9__double  13,194,658\n",
       "25            hourglass_x4__TD_0.0__double  13,194,658"
      ]
     },
     "execution_count": 93,
     "metadata": {},
     "output_type": "execute_result"
    }
   ],
   "source": [
    "param_df"
   ]
  },
  {
   "cell_type": "code",
   "execution_count": 79,
   "metadata": {},
   "outputs": [],
   "source": [
    "root = f\"/hdd/mliuzzolino/TDPoseEstimation/results/mpii\"\n",
    "all_result_paths = np.sort(glob.glob(f\"{root}/*/*\"))"
   ]
  },
  {
   "cell_type": "code",
   "execution_count": 80,
   "metadata": {},
   "outputs": [],
   "source": [
    "df_dict = defaultdict(list)\n",
    "for path in all_result_paths:\n",
    "  if \"double\" not in path:\n",
    "    continue\n",
    "  exp_name = os.path.basename(os.path.dirname(path))\n",
    "  data = np.load(path)\n",
    "  df_dict[\"exp_name\"].append(exp_name)\n",
    "  df_dict[\"val\"].append(data[-1])\n",
    "result_df = pd.DataFrame(df_dict)"
   ]
  },
  {
   "cell_type": "code",
   "execution_count": 81,
   "metadata": {},
   "outputs": [
    {
     "data": {
      "text/html": [
       "<div>\n",
       "<style scoped>\n",
       "    .dataframe tbody tr th:only-of-type {\n",
       "        vertical-align: middle;\n",
       "    }\n",
       "\n",
       "    .dataframe tbody tr th {\n",
       "        vertical-align: top;\n",
       "    }\n",
       "\n",
       "    .dataframe thead th {\n",
       "        text-align: right;\n",
       "    }\n",
       "</style>\n",
       "<table border=\"1\" class=\"dataframe\">\n",
       "  <thead>\n",
       "    <tr style=\"text-align: right;\">\n",
       "      <th></th>\n",
       "    </tr>\n",
       "  </thead>\n",
       "  <tbody>\n",
       "  </tbody>\n",
       "</table>\n",
       "</div>"
      ],
      "text/plain": [
       "Empty DataFrame\n",
       "Columns: []\n",
       "Index: []"
      ]
     },
     "execution_count": 81,
     "metadata": {},
     "output_type": "execute_result"
    }
   ],
   "source": [
    "result_df"
   ]
  },
  {
   "cell_type": "code",
   "execution_count": 46,
   "metadata": {},
   "outputs": [
    {
     "data": {
      "text/plain": [
       "array([32.86468126, 55.54155658, 74.12226766, 76.31162932, 75.92346403,\n",
       "       76.0319924 , 76.02084679, 75.2219088 ])"
      ]
     },
     "execution_count": 46,
     "metadata": {},
     "output_type": "execute_result"
    }
   ],
   "source": [
    "data"
   ]
  },
  {
   "cell_type": "code",
   "execution_count": null,
   "metadata": {},
   "outputs": [],
   "source": []
  }
 ],
 "metadata": {
  "kernelspec": {
   "display_name": "Python 3",
   "language": "python",
   "name": "python3"
  },
  "language_info": {
   "codemirror_mode": {
    "name": "ipython",
    "version": 3
   },
   "file_extension": ".py",
   "mimetype": "text/x-python",
   "name": "python",
   "nbconvert_exporter": "python",
   "pygments_lexer": "ipython3",
   "version": "3.8.8"
  }
 },
 "nbformat": 4,
 "nbformat_minor": 4
}
