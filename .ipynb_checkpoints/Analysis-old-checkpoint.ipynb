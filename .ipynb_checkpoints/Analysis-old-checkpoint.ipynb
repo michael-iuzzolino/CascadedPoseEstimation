{
 "cells": [
  {
   "cell_type": "code",
   "execution_count": 1,
   "metadata": {},
   "outputs": [],
   "source": [
    "%load_ext autoreload\n",
    "%autoreload 2"
   ]
  },
  {
   "cell_type": "code",
   "execution_count": 350,
   "metadata": {},
   "outputs": [],
   "source": [
    "import os\n",
    "import sys\n",
    "import seaborn as sns\n",
    "import matplotlib.pyplot as plt\n",
    "from collections import defaultdict\n",
    "import pandas as pd\n",
    "import glob\n",
    "from matplotlib.lines import Line2D\n",
    "from matplotlib.ticker import MaxNLocator\n",
    "import numpy as np"
   ]
  },
  {
   "cell_type": "code",
   "execution_count": 351,
   "metadata": {},
   "outputs": [],
   "source": [
    "DATASET_NAME = \"mpii\"  # mpii, coco"
   ]
  },
  {
   "cell_type": "code",
   "execution_count": 352,
   "metadata": {},
   "outputs": [],
   "source": [
    "root = f\"/hdd/mliuzzolino/CascadedPoseEstimation/results/{DATASET_NAME}\"\n",
    "all_result_paths = glob.glob(f\"{root}/*/*\")\n",
    "\n",
    "df_dict = defaultdict(list)\n",
    "for path in all_result_paths:\n",
    "  result = np.load(path)\n",
    "  if not result.shape:\n",
    "    result = [result]\n",
    "  basename = os.path.basename(os.path.dirname(path))\n",
    "  basename = basename.replace(\"pose_\", \"\")\n",
    "  try:\n",
    "    model, td_key, mode_key = basename.split(\"__\")\n",
    "    td_key = float(td_key.split(\"(\")[1].replace(\")\", \"\"))\n",
    "  except:\n",
    "    model = basename.split(\"__\")[0]\n",
    "    td_key = \"\"\n",
    "    mode_key = \"baseline\"\n",
    "  model = model.replace(\"_\", \" \")\n",
    "  \n",
    "  for t, val in enumerate(result):\n",
    "    df_dict[\"model\"].append(model)\n",
    "    df_dict[\"t\"].append(t)\n",
    "    df_dict[\"td\"].append(td_key)\n",
    "    df_dict[\"mode\"].append(mode_key)\n",
    "    df_dict[\"val\"].append(val)\n",
    "df = pd.DataFrame(df_dict)"
   ]
  },
  {
   "cell_type": "code",
   "execution_count": 353,
   "metadata": {},
   "outputs": [],
   "source": [
    "MODEL_NAME = \"resnet18\""
   ]
  },
  {
   "cell_type": "code",
   "execution_count": 354,
   "metadata": {},
   "outputs": [],
   "source": [
    "def split_model(df, model_name=None):\n",
    "  if model_name:\n",
    "    model_df = df[df.model==model_name]\n",
    "  else:\n",
    "    model_df = df.copy()\n",
    "  td_model_df = model_df[~model_df[\"mode\"].str.contains(\"baseline\")]\n",
    "  baseline_df = model_df[model_df[\"mode\"].str.contains(\"baseline\")]\n",
    "  return td_model_df, baseline_df"
   ]
  },
  {
   "cell_type": "code",
   "execution_count": 355,
   "metadata": {},
   "outputs": [],
   "source": [
    "def make_color_lookup(df):\n",
    "  unique_tds = np.sort(td_model_df.td.unique())\n",
    "  cmap = plt.cm.magma(np.linspace(0, 1, len(unique_tds)+2))[1:-1][:,:3]\n",
    "  color_lookup = {key: cmap[i] for i, key in enumerate(unique_tds)}\n",
    "  return color_lookup"
   ]
  },
  {
   "cell_type": "code",
   "execution_count": 356,
   "metadata": {},
   "outputs": [],
   "source": [
    "def plot_figure(td_model_df, baseline_df, dataset_name, ylim_min=None, ylim_max=None):\n",
    "  plt.figure(figsize=(8,3))\n",
    "  plt.tight_layout(rect=[0, 0.03, 1, 0.95])\n",
    "  \n",
    "  if len(td_model_df):\n",
    "    model_name = td_model_df.model.iloc[0]\n",
    "    color_lookup = make_color_lookup(td_model_df)\n",
    "\n",
    "    # TD Model curves\n",
    "    for i, (mode_key, mode_df) in enumerate(td_model_df.groupby(\"mode\")):\n",
    "      mode_df = mode_df.sort_values(\"td\")\n",
    "      ls = \"--\" if mode_key == \"serial\" else \"-\"\n",
    "      for td_key, td_df in mode_df.groupby(\"td\"):\n",
    "        asymptotic_val = td_df[td_df.t==td_df.t.max()].val.iloc[0]\n",
    "        td_df[\"td\"] = [\n",
    "            f\"CascadedTD({td_key}), {mode_key}: {asymptotic_val:0.2f}%\" \n",
    "            for td_key in td_df[\"td\"]\n",
    "        ]\n",
    "\n",
    "\n",
    "        color = color_lookup[td_key]\n",
    "        palette = sns.set_palette(sns.color_palette([color]))\n",
    "        g = sns.lineplot(x=\"t\", \n",
    "                         y=\"val\", \n",
    "                         hue=\"td\", \n",
    "                         data=td_df,\n",
    "                         palette=palette, \n",
    "                         linestyle=ls,\n",
    "                         linewidth=2.5)\n",
    "\n",
    "    plt.suptitle(f\"{model_name.capitalize()}, {dataset_name.upper()} Validation Set\", fontsize=10)\n",
    "  else:\n",
    "    g = plt.gca()\n",
    "  g.set_title(f\"Avg Performance over All Joints\", fontsize=8)\n",
    "  g.set_xlabel(\"Timestep, t\")\n",
    "  g.set_ylabel(\"Accuracy (%)\")\n",
    "\n",
    "  handles, labels = g.get_legend_handles_labels()\n",
    "  # Baseline\n",
    "  baseline_val = float(baseline_df.iloc[0].get(\"val\"))\n",
    "  baseline_line = Line2D([0], [0], label='Baseline', color='k', alpha=0.4, linestyle=\"dotted\")\n",
    "  handles.append(baseline_line)\n",
    "  labels.append(f\"Baseline: {baseline_val:0.2f}%\")\n",
    "\n",
    "  for i, (handle, label) in enumerate(zip(handles, labels)):\n",
    "    if \"serial\" in label:\n",
    "      handle.set_linestyle(\"--\")\n",
    "  \n",
    "  plt.axhline(baseline_val, xmin=0, xmax=5, c=\"k\", alpha=0.4, ls=\"dotted\", lw=2)\n",
    "  \n",
    "  if ylim_max:\n",
    "    plt.ylim(ylim_min, ylim_max)\n",
    "    \n",
    "  g.xaxis.set_major_locator(MaxNLocator(integer=True))\n",
    "  \n",
    "  leg = plt.legend(handles, labels, loc=\"lower right\", prop={'size': 8})\n",
    "\n",
    "  plt.show()\n",
    "  plt.clf()"
   ]
  },
  {
   "cell_type": "code",
   "execution_count": null,
   "metadata": {},
   "outputs": [
    {
     "data": {
      "text/plain": [
       "<Figure size 640x480 with 0 Axes>"
      ]
     },
     "metadata": {},
     "output_type": "display_data"
    }
   ],
   "source": [
    "ylim_max = float(df.val.max())\n",
    "ylim_max += 5\n",
    "\n",
    "for model_key, model_df in df.groupby(\"model\"):\n",
    "  td_model_df, baseline_df = split_model(model_df)\n",
    "  plot_figure(td_model_df, \n",
    "              baseline_df, \n",
    "              dataset_name=DATASET_NAME, \n",
    "              ylim_min=0,\n",
    "              ylim_max=ylim_max)"
   ]
  },
  {
   "cell_type": "code",
   "execution_count": null,
   "metadata": {},
   "outputs": [],
   "source": []
  },
  {
   "cell_type": "code",
   "execution_count": null,
   "metadata": {},
   "outputs": [],
   "source": []
  }
 ],
 "metadata": {
  "kernelspec": {
   "display_name": "Python [conda env:pest] *",
   "language": "python",
   "name": "conda-env-pest-py"
  },
  "language_info": {
   "codemirror_mode": {
    "name": "ipython",
    "version": 3
   },
   "file_extension": ".py",
   "mimetype": "text/x-python",
   "name": "python",
   "nbconvert_exporter": "python",
   "pygments_lexer": "ipython3",
   "version": "3.7.10"
  }
 },
 "nbformat": 4,
 "nbformat_minor": 4
}
