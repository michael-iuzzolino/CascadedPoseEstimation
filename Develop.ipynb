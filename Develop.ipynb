{
 "cells": [
  {
   "cell_type": "code",
   "execution_count": 1,
   "metadata": {},
   "outputs": [],
   "source": [
    "%load_ext autoreload\n",
    "%autoreload 2"
   ]
  },
  {
   "cell_type": "code",
   "execution_count": 2,
   "metadata": {},
   "outputs": [
    {
     "name": "stdout",
     "output_type": "stream",
     "text": [
      "this_dir:  pose_estimation\n",
      "lib_path:  lib\n"
     ]
    }
   ],
   "source": [
    "from __future__ import absolute_import\n",
    "from __future__ import division\n",
    "from __future__ import print_function\n",
    "\n",
    "import argparse\n",
    "import os\n",
    "import sys\n",
    "import pprint\n",
    "import shutil\n",
    "\n",
    "sys.path.append(\"pose_estimation\")\n",
    "import torch\n",
    "import torch.nn.parallel\n",
    "import torch.backends.cudnn as cudnn\n",
    "import torch.optim\n",
    "import torch.utils.data\n",
    "import torch.utils.data.distributed\n",
    "import torchvision.transforms as transforms\n",
    "from tensorboardX import SummaryWriter\n",
    "\n",
    "import _init_paths\n",
    "from core.config import config\n",
    "from core.config import update_config\n",
    "from core.config import update_dir\n",
    "from core.config import get_model_name\n",
    "from core.loss import JointsMSELoss\n",
    "from core.function import train\n",
    "from core.function import validate\n",
    "from utils.utils import get_optimizer\n",
    "from utils.utils import save_checkpoint\n",
    "from utils.utils import create_logger\n",
    "\n",
    "import dataset\n",
    "import models"
   ]
  },
  {
   "cell_type": "code",
   "execution_count": 3,
   "metadata": {},
   "outputs": [],
   "source": [
    "def parse_args(cfg):\n",
    "    parser = argparse.ArgumentParser(description='Train keypoints network')\n",
    "    # general\n",
    "    parser.add_argument('--cfg',\n",
    "                        help='experiment configure file name',\n",
    "                        default=cfg,\n",
    "                        type=str)\n",
    "\n",
    "    args, rest = parser.parse_known_args()\n",
    "    # update config\n",
    "    update_config(args.cfg)\n",
    "\n",
    "    # training\n",
    "    parser.add_argument('--frequent',\n",
    "                        help='frequency of logging',\n",
    "                        default=config.PRINT_FREQ,\n",
    "                        type=int)\n",
    "    parser.add_argument('--gpus',\n",
    "                        help='gpus',\n",
    "                        type=str)\n",
    "    parser.add_argument('--workers',\n",
    "                        help='num of dataloader workers',\n",
    "                        type=int)\n",
    "\n",
    "    args = parser.parse_args(\"\")\n",
    "\n",
    "    return args"
   ]
  },
  {
   "cell_type": "code",
   "execution_count": 4,
   "metadata": {},
   "outputs": [],
   "source": [
    "def reset_config(config, args):\n",
    "    if args.gpus:\n",
    "        config.GPUS = args.gpus\n",
    "    if args.workers:\n",
    "        config.WORKERS = args.workers"
   ]
  },
  {
   "cell_type": "code",
   "execution_count": 5,
   "metadata": {},
   "outputs": [],
   "source": [
    "import glob"
   ]
  },
  {
   "cell_type": "code",
   "execution_count": 10,
   "metadata": {},
   "outputs": [],
   "source": [
    "def count_parameters(model):\n",
    "    return sum(p.numel() for p in model.parameters() if p.requires_grad)"
   ]
  },
  {
   "cell_type": "code",
   "execution_count": 11,
   "metadata": {},
   "outputs": [],
   "source": [
    "cfgs = glob.glob(f\"experiments/mpii/*/*.yaml\")"
   ]
  },
  {
   "cell_type": "code",
   "execution_count": 12,
   "metadata": {},
   "outputs": [
    {
     "name": "stdout",
     "output_type": "stream",
     "text": [
      "experiments/mpii/resnet101/384x384_d256x3_adam_lr1e-3.yaml Params: 52,991,568\n",
      "experiments/mpii/resnet101/256x256_d256x3_adam_lr1e-3.yaml Params: 52,991,568\n",
      "experiments/mpii/resnet152/384x384_d256x3_adam_lr1e-3.yaml Params: 68,635,216\n",
      "experiments/mpii/resnet152/256x256_d256x3_adam_lr1e-3.yaml Params: 68,635,216\n",
      "experiments/mpii/resnet50/384x384_d256x3_adam_lr1e-3.yaml Params: 33,999,440\n",
      "experiments/mpii/resnet50/256x256_d256x3_adam_lr1e-3.yaml Params: 33,999,440\n",
      "experiments/mpii/cascaded_unet/256x256_d256x3_adam_lr1e-3-unet_x2.yaml Params: 7,087,312\n",
      "experiments/mpii/cascaded_unet/256x256_d256x3_adam_lr1e-3_large.yaml Params: 10,800,944\n",
      "experiments/mpii/cascaded_unet/256x256_d256x3_adam_lr1e-3-unet.yaml Params: 3,605,040\n",
      "experiments/mpii/cascaded_unet/256x256_d256x3_adam_lr1e-3.yaml Params: 3,605,040\n",
      "experiments/mpii/resnet10/256x256_d256x3_adam_lr1e-3.yaml Params: 5,562,576\n",
      "experiments/mpii/resnet18/256x256_d256x3_adam_lr1e-3.yaml Params: 11,833,296\n"
     ]
    }
   ],
   "source": [
    "for cfg in cfgs:\n",
    "  args = parse_args(cfg)\n",
    "  reset_config(config, args)\n",
    "  # Setup model\n",
    "  model = eval('models.'+config.MODEL.NAME+'.get_pose_net')(\n",
    "      config, is_train=True\n",
    "  )\n",
    "  n_params = count_parameters(model)\n",
    "  print(f\"{cfg} Params: {n_params:,}\")"
   ]
  },
  {
   "cell_type": "code",
   "execution_count": 14,
   "metadata": {},
   "outputs": [],
   "source": [
    "import shutil"
   ]
  },
  {
   "cell_type": "code",
   "execution_count": 32,
   "metadata": {},
   "outputs": [],
   "source": [
    "xs = glob.glob(\"/home/michael/PoseEstimation/human-pose-estimation.pytorch/log/mpii/*/*\")"
   ]
  },
  {
   "cell_type": "code",
   "execution_count": 46,
   "metadata": {},
   "outputs": [
    {
     "name": "stdout",
     "output_type": "stream",
     "text": [
      "/home/michael/PoseEstimation/human-pose-estimation.pytorch/log/mpii/cascaded_pose_resnet_10/256x256_d256x3_adam_lr1e-3-cascaded_2021-08-15-00-23\n",
      "/home/michael/PoseEstimation/human-pose-estimation.pytorch/log/mpii/cascaded_pose_resnet_10/256x256_d256x3_adam_lr1e-3-cascaded_2021-08-15-00-22\n",
      "/home/michael/PoseEstimation/human-pose-estimation.pytorch/log/mpii/cascaded_pose_resnet_10/256x256_d256x3_adam_lr1e-3-cascaded_2021-08-15-00-21\n",
      "/home/michael/PoseEstimation/human-pose-estimation.pytorch/log/mpii/cascaded_pose_resnet_10/256x256_d256x3_adam_lr1e-3-cascaded_2021-08-15-00-20\n",
      "/home/michael/PoseEstimation/human-pose-estimation.pytorch/log/mpii/cascaded_pose_resnet_10/256x256_d256x3_adam_lr1e-3-cascaded_2021-08-15-00-19\n",
      "/home/michael/PoseEstimation/human-pose-estimation.pytorch/log/mpii/pose_resnet_18/256x256_d256x3_adam_lr1e-3-cascaded_2021-08-15-01-00\n",
      "/home/michael/PoseEstimation/human-pose-estimation.pytorch/log/mpii/pose_resnet_10/256x256_d256x3_adam_lr1e-3-cascaded_2021-08-15-00-26\n",
      "/home/michael/PoseEstimation/human-pose-estimation.pytorch/log/mpii/pose_resnet_10/256x256_d256x3_adam_lr1e-3-cascaded_2021-08-15-00-40\n",
      "/home/michael/PoseEstimation/human-pose-estimation.pytorch/log/mpii/pose_resnet_10/256x256_d256x3_adam_lr1e-3-cascaded_2021-08-15-00-39\n",
      "/home/michael/PoseEstimation/human-pose-estimation.pytorch/log/mpii/pose_resnet_10/256x256_d256x3_adam_lr1e-3-cascaded_2021-08-15-00-46\n",
      "/home/michael/PoseEstimation/human-pose-estimation.pytorch/log/mpii/pose_resnet_10/256x256_d256x3_adam_lr1e-3-cascaded_2021-08-15-00-44\n",
      "/home/michael/PoseEstimation/human-pose-estimation.pytorch/log/mpii/pose_resnet_10/256x256_d256x3_adam_lr1e-3-cascaded_2021-08-15-00-41\n",
      "/home/michael/PoseEstimation/human-pose-estimation.pytorch/log/mpii/pose_resnet_10/256x256_d256x3_adam_lr1e-3-cascaded_2021-08-15-00-43\n",
      "/home/michael/PoseEstimation/human-pose-estimation.pytorch/log/mpii/pose_resnet_10/256x256_d256x3_adam_lr1e-3-cascaded_2021-08-15-00-33\n",
      "/home/michael/PoseEstimation/human-pose-estimation.pytorch/log/mpii/pose_resnet_10/256x256_d256x3_adam_lr1e-3-cascaded_2021-08-15-00-36\n",
      "/home/michael/PoseEstimation/human-pose-estimation.pytorch/log/mpii/pose_resnet_10/256x256_d256x3_adam_lr1e-3-cascaded_2021-08-15-00-34\n"
     ]
    }
   ],
   "source": []
  }
 ],
 "metadata": {
  "kernelspec": {
   "display_name": "Python [conda env:pest]",
   "language": "python",
   "name": "conda-env-pest-py"
  },
  "language_info": {
   "codemirror_mode": {
    "name": "ipython",
    "version": 3
   },
   "file_extension": ".py",
   "mimetype": "text/x-python",
   "name": "python",
   "nbconvert_exporter": "python",
   "pygments_lexer": "ipython3",
   "version": "3.7.10"
  }
 },
 "nbformat": 4,
 "nbformat_minor": 4
}
