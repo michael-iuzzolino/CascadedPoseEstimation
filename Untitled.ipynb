{
 "cells": [
  {
   "cell_type": "code",
   "execution_count": 7,
   "id": "56304c38-db20-4c08-a379-8a3868ad3238",
   "metadata": {},
   "outputs": [],
   "source": [
    "import numpy as np\n",
    "import random\n",
    "import matplotlib.pyplot as plt"
   ]
  },
  {
   "cell_type": "code",
   "execution_count": 8,
   "id": "2ec07ab9-9834-4730-93e6-2be0eb936123",
   "metadata": {},
   "outputs": [],
   "source": [
    "def get_max_preds(batch_heatmaps):\n",
    "    '''\n",
    "    get predictions from score maps\n",
    "    heatmaps: numpy.ndarray([batch_size, num_joints, height, width])\n",
    "    '''\n",
    "    assert isinstance(batch_heatmaps, np.ndarray), \\\n",
    "        'batch_heatmaps should be numpy.ndarray'\n",
    "    assert batch_heatmaps.ndim == 4, 'batch_images should be 4-ndim'\n",
    "\n",
    "    batch_size = batch_heatmaps.shape[0]\n",
    "    num_joints = batch_heatmaps.shape[1]\n",
    "    width = batch_heatmaps.shape[3]\n",
    "    heatmaps_reshaped = batch_heatmaps.reshape((batch_size, num_joints, -1))\n",
    "    idx = np.argmax(heatmaps_reshaped, 2)\n",
    "    maxvals = np.amax(heatmaps_reshaped, 2)\n",
    "\n",
    "    maxvals = maxvals.reshape((batch_size, num_joints, 1))\n",
    "    idx = idx.reshape((batch_size, num_joints, 1))\n",
    "\n",
    "    preds = np.tile(idx, (1, 1, 2)).astype(np.float32)\n",
    "\n",
    "    preds[:, :, 0] = (preds[:, :, 0]) % width\n",
    "    preds[:, :, 1] = np.floor((preds[:, :, 1]) / width)\n",
    "\n",
    "    pred_mask = np.tile(np.greater(maxvals, 0.0), (1, 1, 2))\n",
    "    pred_mask = pred_mask.astype(np.float32)\n",
    "\n",
    "    preds *= pred_mask\n",
    "    return preds, maxvals"
   ]
  },
  {
   "cell_type": "code",
   "execution_count": 56,
   "id": "d3ec7b0d-e0a2-4a3d-8c43-fbe598a349d9",
   "metadata": {},
   "outputs": [],
   "source": [
    "def calc_dists(preds, target, normalize):\n",
    "    preds = preds.astype(np.float32)\n",
    "    target = target.astype(np.float32)\n",
    "    dists = np.zeros((preds.shape[1], preds.shape[0]))\n",
    "    for n in range(preds.shape[0]):\n",
    "        for c in range(preds.shape[1]):\n",
    "            if target[n, c, 0] > 1 and target[n, c, 1] > 1:\n",
    "                normed_preds = preds[n, c, :] / normalize[n]\n",
    "                normed_targets = target[n, c, :] / normalize[n]\n",
    "                dists[c, n] = np.linalg.norm(normed_preds - normed_targets)\n",
    "            else:\n",
    "                dists[c, n] = -1\n",
    "    return dists"
   ]
  },
  {
   "cell_type": "code",
   "execution_count": 59,
   "id": "fa0bf29f-ba79-4fbe-8c4d-a612fd99a870",
   "metadata": {},
   "outputs": [],
   "source": [
    "batch_heatmaps = np.zeros((1, 14, 28, 28))\n",
    "targets_src = np.zeros((1, 14, 28, 28))\n",
    "for i in range(14):\n",
    "  batch_heatmaps[0][i][i,i*2] = i\n",
    "  targets_src[0][i][i,i*2] = i"
   ]
  },
  {
   "cell_type": "code",
   "execution_count": 71,
   "id": "642d4748-24cc-4685-90ff-dda980cddb33",
   "metadata": {},
   "outputs": [],
   "source": [
    "pred, _ = get_max_preds(batch_heatmaps)\n",
    "target, _ = get_max_preds(targets_src)\n",
    "\n",
    "h = batch_heatmaps.shape[2]\n",
    "w = batch_heatmaps.shape[3]\n",
    "norm = np.ones((pred.shape[0], 2)) * np.array([h, w]) / 10"
   ]
  },
  {
   "cell_type": "code",
   "execution_count": 73,
   "id": "4c4a701e-df0e-42d8-a407-968011573aae",
   "metadata": {},
   "outputs": [],
   "source": [
    "dists = calc_dists(pred, target, norm)"
   ]
  },
  {
   "cell_type": "code",
   "execution_count": 74,
   "id": "4f8378e2-d85d-4297-9ad2-596a3ab55637",
   "metadata": {},
   "outputs": [],
   "source": [
    "idx = list(range(batch_heatmaps.shape[1]))"
   ]
  },
  {
   "cell_type": "code",
   "execution_count": 77,
   "id": "0b201d9d-edec-4db8-810a-1fac0748499b",
   "metadata": {},
   "outputs": [],
   "source": [
    "def dist_acc(dists, thr=0.5):\n",
    "    ''' Return percentage below threshold while ignoring values with a -1 '''\n",
    "    dist_cal = np.not_equal(dists, -1)\n",
    "    num_dist_cal = dist_cal.sum()\n",
    "    if num_dist_cal > 0:\n",
    "        return np.less(dists[dist_cal], thr).sum() * 1.0 / num_dist_cal\n",
    "    else:\n",
    "        return -1"
   ]
  },
  {
   "cell_type": "code",
   "execution_count": 78,
   "id": "2b43c32b-2f4b-48b9-ad6b-e81211353deb",
   "metadata": {},
   "outputs": [],
   "source": [
    "acc = np.zeros((len(idx) + 1))\n",
    "avg_acc = 0\n",
    "cnt = 0\n",
    "\n",
    "for i in range(len(idx)):\n",
    "    acc[i + 1] = dist_acc(dists[idx[i]])\n",
    "    if acc[i + 1] >= 0:\n",
    "        avg_acc = avg_acc + acc[i + 1]\n",
    "        cnt += 1\n",
    "\n",
    "avg_acc = avg_acc / cnt if cnt != 0 else 0\n",
    "if cnt != 0:\n",
    "    acc[0] = avg_acc"
   ]
  },
  {
   "cell_type": "code",
   "execution_count": 80,
   "id": "21902793-dd03-46ac-867a-3ce4d545ca12",
   "metadata": {},
   "outputs": [
    {
     "data": {
      "text/plain": [
       "1.0"
      ]
     },
     "execution_count": 80,
     "metadata": {},
     "output_type": "execute_result"
    }
   ],
   "source": [
    "avg_acc"
   ]
  },
  {
   "cell_type": "code",
   "execution_count": null,
   "id": "e78bab6b-ccb2-466a-9096-ce885c8c27a3",
   "metadata": {},
   "outputs": [],
   "source": []
  }
 ],
 "metadata": {
  "kernelspec": {
   "display_name": "Python 3",
   "language": "python",
   "name": "python3"
  },
  "language_info": {
   "codemirror_mode": {
    "name": "ipython",
    "version": 3
   },
   "file_extension": ".py",
   "mimetype": "text/x-python",
   "name": "python",
   "nbconvert_exporter": "python",
   "pygments_lexer": "ipython3",
   "version": "3.7.10"
  }
 },
 "nbformat": 4,
 "nbformat_minor": 5
}
